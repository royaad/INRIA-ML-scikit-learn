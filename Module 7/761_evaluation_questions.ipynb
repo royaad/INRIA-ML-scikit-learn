{
 "cells": [
  {
   "cell_type": "markdown",
   "metadata": {},
   "source": [
    "# Module 7 - Wrap-Up Quiz"
   ]
  },
  {
   "cell_type": "markdown",
   "metadata": {},
   "source": [
    "## Importing Data"
   ]
  },
  {
   "cell_type": "code",
   "execution_count": 2,
   "metadata": {},
   "outputs": [
    {
     "data": {
      "text/html": [
       "<div>\n",
       "<style scoped>\n",
       "    .dataframe tbody tr th:only-of-type {\n",
       "        vertical-align: middle;\n",
       "    }\n",
       "\n",
       "    .dataframe tbody tr th {\n",
       "        vertical-align: top;\n",
       "    }\n",
       "\n",
       "    .dataframe thead th {\n",
       "        text-align: right;\n",
       "    }\n",
       "</style>\n",
       "<table border=\"1\" class=\"dataframe\">\n",
       "  <thead>\n",
       "    <tr style=\"text-align: right;\">\n",
       "      <th></th>\n",
       "      <th>heart-rate</th>\n",
       "      <th>cadence</th>\n",
       "      <th>speed</th>\n",
       "      <th>acceleration</th>\n",
       "      <th>slope</th>\n",
       "    </tr>\n",
       "    <tr>\n",
       "      <th></th>\n",
       "      <th></th>\n",
       "      <th></th>\n",
       "      <th></th>\n",
       "      <th></th>\n",
       "      <th></th>\n",
       "    </tr>\n",
       "  </thead>\n",
       "  <tbody>\n",
       "    <tr>\n",
       "      <th>2020-08-18 14:43:19</th>\n",
       "      <td>102.0</td>\n",
       "      <td>64.0</td>\n",
       "      <td>4.325</td>\n",
       "      <td>0.0880</td>\n",
       "      <td>-0.033870</td>\n",
       "    </tr>\n",
       "    <tr>\n",
       "      <th>2020-08-18 14:43:20</th>\n",
       "      <td>103.0</td>\n",
       "      <td>64.0</td>\n",
       "      <td>4.336</td>\n",
       "      <td>0.0842</td>\n",
       "      <td>-0.033571</td>\n",
       "    </tr>\n",
       "    <tr>\n",
       "      <th>2020-08-18 14:43:21</th>\n",
       "      <td>105.0</td>\n",
       "      <td>66.0</td>\n",
       "      <td>4.409</td>\n",
       "      <td>0.0234</td>\n",
       "      <td>-0.033223</td>\n",
       "    </tr>\n",
       "    <tr>\n",
       "      <th>2020-08-18 14:43:22</th>\n",
       "      <td>106.0</td>\n",
       "      <td>66.0</td>\n",
       "      <td>4.445</td>\n",
       "      <td>0.0016</td>\n",
       "      <td>-0.032908</td>\n",
       "    </tr>\n",
       "    <tr>\n",
       "      <th>2020-08-18 14:43:23</th>\n",
       "      <td>106.0</td>\n",
       "      <td>67.0</td>\n",
       "      <td>4.441</td>\n",
       "      <td>0.1144</td>\n",
       "      <td>0.000000</td>\n",
       "    </tr>\n",
       "  </tbody>\n",
       "</table>\n",
       "</div>"
      ],
      "text/plain": [
       "                     heart-rate  cadence  speed  acceleration     slope\n",
       "                                                                       \n",
       "2020-08-18 14:43:19       102.0     64.0  4.325        0.0880 -0.033870\n",
       "2020-08-18 14:43:20       103.0     64.0  4.336        0.0842 -0.033571\n",
       "2020-08-18 14:43:21       105.0     66.0  4.409        0.0234 -0.033223\n",
       "2020-08-18 14:43:22       106.0     66.0  4.445        0.0016 -0.032908\n",
       "2020-08-18 14:43:23       106.0     67.0  4.441        0.1144  0.000000"
      ]
     },
     "execution_count": 2,
     "metadata": {},
     "output_type": "execute_result"
    }
   ],
   "source": [
    "import pandas as pd\n",
    "\n",
    "cycling = pd.read_csv(\"../datasets/bike_rides.csv\", index_col=0,\n",
    "                      parse_dates=True)\n",
    "cycling.index.name = \"\"\n",
    "target_name = \"power\"\n",
    "data, target = cycling.drop(columns=target_name), cycling[target_name]\n",
    "data.head()"
   ]
  },
  {
   "cell_type": "code",
   "execution_count": 33,
   "metadata": {},
   "outputs": [
    {
     "data": {
      "text/html": [
       "<div>\n",
       "<style scoped>\n",
       "    .dataframe tbody tr th:only-of-type {\n",
       "        vertical-align: middle;\n",
       "    }\n",
       "\n",
       "    .dataframe tbody tr th {\n",
       "        vertical-align: top;\n",
       "    }\n",
       "\n",
       "    .dataframe thead th {\n",
       "        text-align: right;\n",
       "    }\n",
       "</style>\n",
       "<table border=\"1\" class=\"dataframe\">\n",
       "  <thead>\n",
       "    <tr style=\"text-align: right;\">\n",
       "      <th></th>\n",
       "      <th>heart-rate</th>\n",
       "      <th>cadence</th>\n",
       "      <th>speed</th>\n",
       "      <th>acceleration</th>\n",
       "      <th>slope</th>\n",
       "      <th>alpha</th>\n",
       "    </tr>\n",
       "  </thead>\n",
       "  <tbody>\n",
       "    <tr>\n",
       "      <th>count</th>\n",
       "      <td>38254.000000</td>\n",
       "      <td>38254.000000</td>\n",
       "      <td>38254.000000</td>\n",
       "      <td>38254.000000</td>\n",
       "      <td>38254.000000</td>\n",
       "      <td>38254.000000</td>\n",
       "    </tr>\n",
       "    <tr>\n",
       "      <th>mean</th>\n",
       "      <td>141.385616</td>\n",
       "      <td>72.896876</td>\n",
       "      <td>8.203325</td>\n",
       "      <td>-0.002056</td>\n",
       "      <td>0.005646</td>\n",
       "      <td>0.005204</td>\n",
       "    </tr>\n",
       "    <tr>\n",
       "      <th>std</th>\n",
       "      <td>16.562215</td>\n",
       "      <td>25.235907</td>\n",
       "      <td>2.603563</td>\n",
       "      <td>0.225916</td>\n",
       "      <td>0.108174</td>\n",
       "      <td>0.042406</td>\n",
       "    </tr>\n",
       "    <tr>\n",
       "      <th>min</th>\n",
       "      <td>66.000000</td>\n",
       "      <td>0.000000</td>\n",
       "      <td>0.000000</td>\n",
       "      <td>-2.384600</td>\n",
       "      <td>-7.731092</td>\n",
       "      <td>-1.442163</td>\n",
       "    </tr>\n",
       "    <tr>\n",
       "      <th>25%</th>\n",
       "      <td>131.000000</td>\n",
       "      <td>73.000000</td>\n",
       "      <td>6.579000</td>\n",
       "      <td>-0.074400</td>\n",
       "      <td>0.000000</td>\n",
       "      <td>0.000000</td>\n",
       "    </tr>\n",
       "    <tr>\n",
       "      <th>50%</th>\n",
       "      <td>142.000000</td>\n",
       "      <td>82.000000</td>\n",
       "      <td>8.297000</td>\n",
       "      <td>0.005800</td>\n",
       "      <td>0.000000</td>\n",
       "      <td>0.000000</td>\n",
       "    </tr>\n",
       "    <tr>\n",
       "      <th>75%</th>\n",
       "      <td>153.000000</td>\n",
       "      <td>87.000000</td>\n",
       "      <td>9.874000</td>\n",
       "      <td>0.083800</td>\n",
       "      <td>0.010134</td>\n",
       "      <td>0.010134</td>\n",
       "    </tr>\n",
       "    <tr>\n",
       "      <th>max</th>\n",
       "      <td>187.000000</td>\n",
       "      <td>107.000000</td>\n",
       "      <td>18.604000</td>\n",
       "      <td>1.311400</td>\n",
       "      <td>14.857143</td>\n",
       "      <td>1.503590</td>\n",
       "    </tr>\n",
       "  </tbody>\n",
       "</table>\n",
       "</div>"
      ],
      "text/plain": [
       "         heart-rate       cadence         speed  acceleration         slope  \\\n",
       "count  38254.000000  38254.000000  38254.000000  38254.000000  38254.000000   \n",
       "mean     141.385616     72.896876      8.203325     -0.002056      0.005646   \n",
       "std       16.562215     25.235907      2.603563      0.225916      0.108174   \n",
       "min       66.000000      0.000000      0.000000     -2.384600     -7.731092   \n",
       "25%      131.000000     73.000000      6.579000     -0.074400      0.000000   \n",
       "50%      142.000000     82.000000      8.297000      0.005800      0.000000   \n",
       "75%      153.000000     87.000000      9.874000      0.083800      0.010134   \n",
       "max      187.000000    107.000000     18.604000      1.311400     14.857143   \n",
       "\n",
       "              alpha  \n",
       "count  38254.000000  \n",
       "mean       0.005204  \n",
       "std        0.042406  \n",
       "min       -1.442163  \n",
       "25%        0.000000  \n",
       "50%        0.000000  \n",
       "75%        0.010134  \n",
       "max        1.503590  "
      ]
     },
     "execution_count": 33,
     "metadata": {},
     "output_type": "execute_result"
    }
   ],
   "source": [
    "data.describe()"
   ]
  },
  {
   "cell_type": "markdown",
   "metadata": {},
   "source": [
    "A detailed description of this dataset is given in the appendix. As a reminder, the problem we are trying to solve with this dataset is to use measurements from cheap sensors (GPS, heart-rate monitor, etc.) in order to predict a cyclist power. Power can indeed be recorded via a cycling power meter device, but this device is rather expensive."
   ]
  },
  {
   "cell_type": "markdown",
   "metadata": {},
   "source": [
    "## Feature Engineering"
   ]
  },
  {
   "cell_type": "markdown",
   "metadata": {},
   "source": [
    "### Creating an empty new dataframe"
   ]
  },
  {
   "cell_type": "code",
   "execution_count": 9,
   "metadata": {},
   "outputs": [],
   "source": [
    "new_data = pd.DataFrame()"
   ]
  },
  {
   "cell_type": "markdown",
   "metadata": {},
   "source": [
    "### Computing $V_d^3$ and adding it to the new dataframe"
   ]
  },
  {
   "cell_type": "code",
   "execution_count": 12,
   "metadata": {},
   "outputs": [],
   "source": [
    "new_data['speed^3'] = data['speed'].apply(lambda x: x**3)"
   ]
  },
  {
   "cell_type": "markdown",
   "metadata": {},
   "source": [
    "### Adding the speed ($V_d$) to the new dataframe"
   ]
  },
  {
   "cell_type": "code",
   "execution_count": 14,
   "metadata": {},
   "outputs": [],
   "source": [
    "new_data['speed'] = data['speed']"
   ]
  },
  {
   "cell_type": "markdown",
   "metadata": {},
   "source": [
    "### Computing $\\alpha$ (the angle of the slope)"
   ]
  },
  {
   "cell_type": "code",
   "execution_count": 16,
   "metadata": {},
   "outputs": [],
   "source": [
    "import numpy as np\n",
    "\n",
    "new_data['alpha'] = data['slope'].apply(np.arctan)"
   ]
  },
  {
   "cell_type": "markdown",
   "metadata": {},
   "source": [
    "### Computing $\\sin\\alpha$"
   ]
  },
  {
   "cell_type": "code",
   "execution_count": 17,
   "metadata": {},
   "outputs": [],
   "source": [
    "new_data['sin(alpha)'] = new_data['alpha'].apply(np.sin)"
   ]
  },
  {
   "cell_type": "markdown",
   "metadata": {},
   "source": [
    "### Computing $V_d\\times\\sin\\alpha$"
   ]
  },
  {
   "cell_type": "code",
   "execution_count": 27,
   "metadata": {},
   "outputs": [],
   "source": [
    "new_data['speed*sin(alpha)'] = new_data[['speed', 'sin(alpha)']].apply(np.prod, axis=1)"
   ]
  },
  {
   "cell_type": "markdown",
   "metadata": {},
   "source": [
    "### Computing $V_d\\times a$"
   ]
  },
  {
   "cell_type": "code",
   "execution_count": 37,
   "metadata": {},
   "outputs": [],
   "source": [
    "new_data['speed*acceleration'] = data[['speed', 'acceleration']].apply(np.prod, axis=1)"
   ]
  },
  {
   "cell_type": "markdown",
   "metadata": {},
   "source": [
    "Removing negative values"
   ]
  },
  {
   "cell_type": "code",
   "execution_count": 39,
   "metadata": {},
   "outputs": [],
   "source": [
    "new_data['speed*acceleration'] = new_data['speed*acceleration'].apply(lambda x: x if x>0 else 0.)"
   ]
  },
  {
   "cell_type": "markdown",
   "metadata": {},
   "source": [
    "## Exploring the new dataframe"
   ]
  },
  {
   "cell_type": "markdown",
   "metadata": {},
   "source": [
    "Dropping 'apha' and 'sin(alpha)' columns"
   ]
  },
  {
   "cell_type": "code",
   "execution_count": 43,
   "metadata": {
    "scrolled": true
   },
   "outputs": [],
   "source": [
    "new_data = new_data.drop(columns=['alpha', 'sin(alpha)'])"
   ]
  },
  {
   "cell_type": "code",
   "execution_count": 44,
   "metadata": {},
   "outputs": [
    {
     "data": {
      "text/html": [
       "<div>\n",
       "<style scoped>\n",
       "    .dataframe tbody tr th:only-of-type {\n",
       "        vertical-align: middle;\n",
       "    }\n",
       "\n",
       "    .dataframe tbody tr th {\n",
       "        vertical-align: top;\n",
       "    }\n",
       "\n",
       "    .dataframe thead th {\n",
       "        text-align: right;\n",
       "    }\n",
       "</style>\n",
       "<table border=\"1\" class=\"dataframe\">\n",
       "  <thead>\n",
       "    <tr style=\"text-align: right;\">\n",
       "      <th></th>\n",
       "      <th>speed^3</th>\n",
       "      <th>speed</th>\n",
       "      <th>speed*sin(alpha)</th>\n",
       "      <th>speed*acceleration</th>\n",
       "    </tr>\n",
       "    <tr>\n",
       "      <th></th>\n",
       "      <th></th>\n",
       "      <th></th>\n",
       "      <th></th>\n",
       "      <th></th>\n",
       "    </tr>\n",
       "  </thead>\n",
       "  <tbody>\n",
       "    <tr>\n",
       "      <th>2020-08-18 14:43:19</th>\n",
       "      <td>80.901828</td>\n",
       "      <td>4.325</td>\n",
       "      <td>-0.146402</td>\n",
       "      <td>0.380600</td>\n",
       "    </tr>\n",
       "    <tr>\n",
       "      <th>2020-08-18 14:43:20</th>\n",
       "      <td>81.520685</td>\n",
       "      <td>4.336</td>\n",
       "      <td>-0.145482</td>\n",
       "      <td>0.365091</td>\n",
       "    </tr>\n",
       "    <tr>\n",
       "      <th>2020-08-18 14:43:21</th>\n",
       "      <td>85.707790</td>\n",
       "      <td>4.409</td>\n",
       "      <td>-0.146398</td>\n",
       "      <td>0.103171</td>\n",
       "    </tr>\n",
       "    <tr>\n",
       "      <th>2020-08-18 14:43:22</th>\n",
       "      <td>87.824421</td>\n",
       "      <td>4.445</td>\n",
       "      <td>-0.146198</td>\n",
       "      <td>0.007112</td>\n",
       "    </tr>\n",
       "    <tr>\n",
       "      <th>2020-08-18 14:43:23</th>\n",
       "      <td>87.587538</td>\n",
       "      <td>4.441</td>\n",
       "      <td>0.000000</td>\n",
       "      <td>0.508050</td>\n",
       "    </tr>\n",
       "  </tbody>\n",
       "</table>\n",
       "</div>"
      ],
      "text/plain": [
       "                       speed^3  speed  speed*sin(alpha)  speed*acceleration\n",
       "                                                                           \n",
       "2020-08-18 14:43:19  80.901828  4.325         -0.146402            0.380600\n",
       "2020-08-18 14:43:20  81.520685  4.336         -0.145482            0.365091\n",
       "2020-08-18 14:43:21  85.707790  4.409         -0.146398            0.103171\n",
       "2020-08-18 14:43:22  87.824421  4.445         -0.146198            0.007112\n",
       "2020-08-18 14:43:23  87.587538  4.441          0.000000            0.508050"
      ]
     },
     "execution_count": 44,
     "metadata": {},
     "output_type": "execute_result"
    }
   ],
   "source": [
    "new_data.head()"
   ]
  },
  {
   "cell_type": "code",
   "execution_count": 45,
   "metadata": {},
   "outputs": [
    {
     "data": {
      "text/html": [
       "<div>\n",
       "<style scoped>\n",
       "    .dataframe tbody tr th:only-of-type {\n",
       "        vertical-align: middle;\n",
       "    }\n",
       "\n",
       "    .dataframe tbody tr th {\n",
       "        vertical-align: top;\n",
       "    }\n",
       "\n",
       "    .dataframe thead th {\n",
       "        text-align: right;\n",
       "    }\n",
       "</style>\n",
       "<table border=\"1\" class=\"dataframe\">\n",
       "  <thead>\n",
       "    <tr style=\"text-align: right;\">\n",
       "      <th></th>\n",
       "      <th>speed^3</th>\n",
       "      <th>speed</th>\n",
       "      <th>speed*sin(alpha)</th>\n",
       "      <th>speed*acceleration</th>\n",
       "    </tr>\n",
       "  </thead>\n",
       "  <tbody>\n",
       "    <tr>\n",
       "      <th>count</th>\n",
       "      <td>38254.000000</td>\n",
       "      <td>38254.000000</td>\n",
       "      <td>38254.000000</td>\n",
       "      <td>38254.000000</td>\n",
       "    </tr>\n",
       "    <tr>\n",
       "      <th>mean</th>\n",
       "      <td>716.713830</td>\n",
       "      <td>8.203325</td>\n",
       "      <td>-0.002710</td>\n",
       "      <td>0.571451</td>\n",
       "    </tr>\n",
       "    <tr>\n",
       "      <th>std</th>\n",
       "      <td>631.602968</td>\n",
       "      <td>2.603563</td>\n",
       "      <td>0.249192</td>\n",
       "      <td>1.082863</td>\n",
       "    </tr>\n",
       "    <tr>\n",
       "      <th>min</th>\n",
       "      <td>0.000000</td>\n",
       "      <td>0.000000</td>\n",
       "      <td>-1.803089</td>\n",
       "      <td>0.000000</td>\n",
       "    </tr>\n",
       "    <tr>\n",
       "      <th>25%</th>\n",
       "      <td>284.760443</td>\n",
       "      <td>6.579000</td>\n",
       "      <td>0.000000</td>\n",
       "      <td>0.000000</td>\n",
       "    </tr>\n",
       "    <tr>\n",
       "      <th>50%</th>\n",
       "      <td>571.167214</td>\n",
       "      <td>8.297000</td>\n",
       "      <td>0.000000</td>\n",
       "      <td>0.045422</td>\n",
       "    </tr>\n",
       "    <tr>\n",
       "      <th>75%</th>\n",
       "      <td>962.674280</td>\n",
       "      <td>9.874000</td>\n",
       "      <td>0.076831</td>\n",
       "      <td>0.694669</td>\n",
       "    </tr>\n",
       "    <tr>\n",
       "      <th>max</th>\n",
       "      <td>6439.008413</td>\n",
       "      <td>18.604000</td>\n",
       "      <td>1.427276</td>\n",
       "      <td>21.015078</td>\n",
       "    </tr>\n",
       "  </tbody>\n",
       "</table>\n",
       "</div>"
      ],
      "text/plain": [
       "            speed^3         speed  speed*sin(alpha)  speed*acceleration\n",
       "count  38254.000000  38254.000000      38254.000000        38254.000000\n",
       "mean     716.713830      8.203325         -0.002710            0.571451\n",
       "std      631.602968      2.603563          0.249192            1.082863\n",
       "min        0.000000      0.000000         -1.803089            0.000000\n",
       "25%      284.760443      6.579000          0.000000            0.000000\n",
       "50%      571.167214      8.297000          0.000000            0.045422\n",
       "75%      962.674280      9.874000          0.076831            0.694669\n",
       "max     6439.008413     18.604000          1.427276           21.015078"
      ]
     },
     "execution_count": 45,
     "metadata": {},
     "output_type": "execute_result"
    }
   ],
   "source": [
    "new_data.describe()"
   ]
  },
  {
   "cell_type": "code",
   "execution_count": null,
   "metadata": {},
   "outputs": [],
   "source": []
  }
 ],
 "metadata": {
  "kernelspec": {
   "display_name": "Python 3 (ipykernel)",
   "language": "python",
   "name": "python3"
  },
  "language_info": {
   "codemirror_mode": {
    "name": "ipython",
    "version": 3
   },
   "file_extension": ".py",
   "mimetype": "text/x-python",
   "name": "python",
   "nbconvert_exporter": "python",
   "pygments_lexer": "ipython3",
   "version": "3.11.4"
  }
 },
 "nbformat": 4,
 "nbformat_minor": 4
}
