{
 "cells": [
  {
   "cell_type": "markdown",
   "id": "7031289c",
   "metadata": {},
   "source": [
    "# 📝 Exercise M7.03\n",
    "\n",
    "As with the classification metrics exercise, we will evaluate the regression\n",
    "metrics within a cross-validation framework to get familiar with the syntax.\n",
    "\n",
    "We will use the Ames house prices dataset."
   ]
  },
  {
   "cell_type": "code",
   "execution_count": 1,
   "id": "88872520",
   "metadata": {},
   "outputs": [],
   "source": [
    "import pandas as pd\n",
    "import numpy as np\n",
    "\n",
    "ames_housing = pd.read_csv(\"../datasets/house_prices.csv\")\n",
    "data = ames_housing.drop(columns=\"SalePrice\")\n",
    "target = ames_housing[\"SalePrice\"]\n",
    "data = data.select_dtypes(np.number)\n",
    "target /= 1000"
   ]
  },
  {
   "cell_type": "markdown",
   "id": "4fdb012f",
   "metadata": {
    "lines_to_next_cell": 2
   },
   "source": [
    "<div class=\"admonition note alert alert-info\">\n",
    "<p class=\"first admonition-title\" style=\"font-weight: bold;\">Note</p>\n",
    "<p class=\"last\">If you want a deeper overview regarding this dataset, you can refer to the\n",
    "Appendix - Datasets description section at the end of this MOOC.</p>\n",
    "</div>"
   ]
  },
  {
   "cell_type": "markdown",
   "id": "1b2a5893",
   "metadata": {},
   "source": [
    "The first step will be to create a linear regression model."
   ]
  },
  {
   "cell_type": "code",
   "execution_count": 2,
   "id": "2ec3087e",
   "metadata": {},
   "outputs": [],
   "source": [
    "# Write your code here.\n",
    "from sklearn.linear_model import LinearRegression\n",
    "\n",
    "lrm = LinearRegression()"
   ]
  },
  {
   "cell_type": "markdown",
   "id": "99731639",
   "metadata": {},
   "source": [
    "Then, use the `cross_val_score` to estimate the generalization performance of\n",
    "the model. Use a `KFold` cross-validation with 10 folds. Make the use of the\n",
    "$R^2$ score explicit by assigning the parameter `scoring` (even though it is\n",
    "the default score)."
   ]
  },
  {
   "cell_type": "code",
   "execution_count": 3,
   "id": "d477d082",
   "metadata": {},
   "outputs": [
    {
     "name": "stdout",
     "output_type": "stream",
     "text": [
      "R2: 0.794 ± 0.103\n"
     ]
    }
   ],
   "source": [
    "# Write your code here.\n",
    "from sklearn.model_selection import KFold, cross_val_score\n",
    "\n",
    "cv = KFold(n_splits=10)\n",
    "scores = cross_val_score(lrm, data, target, cv=cv, scoring='r2', n_jobs=-1)\n",
    "print(f\"R2: {scores.mean():.3f} ± {scores.std():.3f}\")"
   ]
  },
  {
   "cell_type": "markdown",
   "id": "c303603e",
   "metadata": {},
   "source": [
    "Then, instead of using the $R^2$ score, use the mean absolute error. You need\n",
    "to refer to the documentation for the [scoring parameter](https://scikit-learn.org/stable/modules/model_evaluation.html#scoring-parameter)."
   ]
  },
  {
   "cell_type": "code",
   "execution_count": 6,
   "id": "cd116628",
   "metadata": {},
   "outputs": [
    {
     "name": "stdout",
     "output_type": "stream",
     "text": [
      "Mean Absolute Error: 21.892 ± 2.225\n"
     ]
    }
   ],
   "source": [
    "# Write your code here.\n",
    "scores = cross_val_score(lrm, data, target, cv=cv, scoring='neg_mean_absolute_error', n_jobs=-1)\n",
    "print(f\"Mean Absolute Error: {-scores.mean():.3f} ± {scores.std():.3f}\")"
   ]
  },
  {
   "cell_type": "markdown",
   "id": "eca20dca",
   "metadata": {},
   "source": [
    "Finally, use the `cross_validate` function and compute multiple scores/errors\n",
    "at once by passing a list of scorers to the `scoring` parameter. You can\n",
    "compute the $R^2$ score and the mean absolute error for instance."
   ]
  },
  {
   "cell_type": "code",
   "execution_count": 18,
   "id": "1ff763f7",
   "metadata": {},
   "outputs": [],
   "source": [
    "# Write your code here.\n",
    "from sklearn.model_selection import cross_validate\n",
    "scoring = ['r2', 'neg_mean_absolute_error', 'neg_median_absolute_error', 'neg_mean_absolute_percentage_error']\n",
    "scores = cross_validate(lrm, data, target, cv=cv, scoring=scoring, n_jobs=-1)"
   ]
  },
  {
   "cell_type": "code",
   "execution_count": 20,
   "metadata": {},
   "outputs": [
    {
     "data": {
      "text/html": [
       "<div>\n",
       "<style scoped>\n",
       "    .dataframe tbody tr th:only-of-type {\n",
       "        vertical-align: middle;\n",
       "    }\n",
       "\n",
       "    .dataframe tbody tr th {\n",
       "        vertical-align: top;\n",
       "    }\n",
       "\n",
       "    .dataframe thead th {\n",
       "        text-align: right;\n",
       "    }\n",
       "</style>\n",
       "<table border=\"1\" class=\"dataframe\">\n",
       "  <thead>\n",
       "    <tr style=\"text-align: right;\">\n",
       "      <th></th>\n",
       "      <th>test_r2</th>\n",
       "      <th>test_neg_mean_absolute_error</th>\n",
       "      <th>test_neg_median_absolute_error</th>\n",
       "      <th>test_neg_mean_absolute_percentage_error</th>\n",
       "    </tr>\n",
       "  </thead>\n",
       "  <tbody>\n",
       "    <tr>\n",
       "      <th>0</th>\n",
       "      <td>0.843903</td>\n",
       "      <td>-20.480499</td>\n",
       "      <td>-15.590772</td>\n",
       "      <td>-0.131686</td>\n",
       "    </tr>\n",
       "    <tr>\n",
       "      <th>1</th>\n",
       "      <td>0.854974</td>\n",
       "      <td>-21.380031</td>\n",
       "      <td>-16.408394</td>\n",
       "      <td>-0.113104</td>\n",
       "    </tr>\n",
       "    <tr>\n",
       "      <th>2</th>\n",
       "      <td>0.887523</td>\n",
       "      <td>-21.268315</td>\n",
       "      <td>-18.436481</td>\n",
       "      <td>-0.131649</td>\n",
       "    </tr>\n",
       "    <tr>\n",
       "      <th>3</th>\n",
       "      <td>0.749511</td>\n",
       "      <td>-22.868877</td>\n",
       "      <td>-15.716027</td>\n",
       "      <td>-0.143983</td>\n",
       "    </tr>\n",
       "    <tr>\n",
       "      <th>4</th>\n",
       "      <td>0.816980</td>\n",
       "      <td>-24.799557</td>\n",
       "      <td>-14.871047</td>\n",
       "      <td>-0.145935</td>\n",
       "    </tr>\n",
       "  </tbody>\n",
       "</table>\n",
       "</div>"
      ],
      "text/plain": [
       "    test_r2  test_neg_mean_absolute_error  test_neg_median_absolute_error  \\\n",
       "0  0.843903                    -20.480499                      -15.590772   \n",
       "1  0.854974                    -21.380031                      -16.408394   \n",
       "2  0.887523                    -21.268315                      -18.436481   \n",
       "3  0.749511                    -22.868877                      -15.716027   \n",
       "4  0.816980                    -24.799557                      -14.871047   \n",
       "\n",
       "   test_neg_mean_absolute_percentage_error  \n",
       "0                                -0.131686  \n",
       "1                                -0.113104  \n",
       "2                                -0.131649  \n",
       "3                                -0.143983  \n",
       "4                                -0.145935  "
      ]
     },
     "execution_count": 20,
     "metadata": {},
     "output_type": "execute_result"
    }
   ],
   "source": [
    "metrics = pd.DataFrame(scores)\n",
    "col_to_keep = [f\"test_{col}\" for col in scoring]\n",
    "# or equally col_to_keep = [\"test_{}\".format(col) for col in scoring]\n",
    "\n",
    "metrics = metrics.drop(columns=metrics.columns.difference(col_to_keep))\n",
    "\n",
    "metrics.head()"
   ]
  },
  {
   "cell_type": "code",
   "execution_count": 31,
   "metadata": {},
   "outputs": [
    {
     "data": {
      "text/html": [
       "<div>\n",
       "<style scoped>\n",
       "    .dataframe tbody tr th:only-of-type {\n",
       "        vertical-align: middle;\n",
       "    }\n",
       "\n",
       "    .dataframe tbody tr th {\n",
       "        vertical-align: top;\n",
       "    }\n",
       "\n",
       "    .dataframe thead th {\n",
       "        text-align: right;\n",
       "    }\n",
       "</style>\n",
       "<table border=\"1\" class=\"dataframe\">\n",
       "  <thead>\n",
       "    <tr style=\"text-align: right;\">\n",
       "      <th></th>\n",
       "      <th>test_r2</th>\n",
       "      <th>test_neg_mean_absolute_error</th>\n",
       "      <th>test_neg_median_absolute_error</th>\n",
       "      <th>test_neg_mean_absolute_percentage_error</th>\n",
       "    </tr>\n",
       "  </thead>\n",
       "  <tbody>\n",
       "    <tr>\n",
       "      <th>mean</th>\n",
       "      <td>0.793756</td>\n",
       "      <td>-21.892397</td>\n",
       "      <td>-15.902960</td>\n",
       "      <td>-0.130373</td>\n",
       "    </tr>\n",
       "    <tr>\n",
       "      <th>std</th>\n",
       "      <td>0.108695</td>\n",
       "      <td>2.345631</td>\n",
       "      <td>1.712831</td>\n",
       "      <td>0.013504</td>\n",
       "    </tr>\n",
       "  </tbody>\n",
       "</table>\n",
       "</div>"
      ],
      "text/plain": [
       "       test_r2  test_neg_mean_absolute_error  test_neg_median_absolute_error  \\\n",
       "mean  0.793756                    -21.892397                      -15.902960   \n",
       "std   0.108695                      2.345631                        1.712831   \n",
       "\n",
       "      test_neg_mean_absolute_percentage_error  \n",
       "mean                                -0.130373  \n",
       "std                                  0.013504  "
      ]
     },
     "execution_count": 31,
     "metadata": {},
     "output_type": "execute_result"
    }
   ],
   "source": [
    "metrics.describe().loc[['mean', 'std']]"
   ]
  }
 ],
 "metadata": {
  "jupytext": {
   "main_language": "python"
  },
  "kernelspec": {
   "display_name": "Python 3 (ipykernel)",
   "language": "python",
   "name": "python3"
  },
  "language_info": {
   "codemirror_mode": {
    "name": "ipython",
    "version": 3
   },
   "file_extension": ".py",
   "mimetype": "text/x-python",
   "name": "python",
   "nbconvert_exporter": "python",
   "pygments_lexer": "ipython3",
   "version": "3.11.4"
  },
  "nbreset": "https://raw.githubusercontent.com/INRIA/scikit-learn-mooc/main/notebooks/metrics_ex_02.ipynb"
 },
 "nbformat": 4,
 "nbformat_minor": 5
}
