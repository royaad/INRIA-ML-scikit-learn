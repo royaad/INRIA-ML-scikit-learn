{
 "cells": [
  {
   "cell_type": "markdown",
   "id": "c1d2b120",
   "metadata": {},
   "source": [
    "# 📝 Exercise M7.01\n",
    "\n",
    "In this exercise we will define dummy classification baselines and use them as\n",
    "reference to assess the relative predictive performance of a given model of\n",
    "interest.\n",
    "\n",
    "We illustrate those baselines with the help of the Adult Census dataset, using\n",
    "only the numerical features for the sake of simplicity."
   ]
  },
  {
   "cell_type": "code",
   "execution_count": 2,
   "id": "8cedcb41",
   "metadata": {},
   "outputs": [],
   "source": [
    "import pandas as pd\n",
    "\n",
    "adult_census = pd.read_csv(\"../datasets/adult-census-numeric-all.csv\")\n",
    "data, target = adult_census.drop(columns=\"class\"), adult_census[\"class\"]"
   ]
  },
  {
   "cell_type": "markdown",
   "id": "2d537d4d",
   "metadata": {},
   "source": [
    "First, define a `ShuffleSplit` cross-validation strategy taking half of the\n",
    "samples as a testing at each round. Let us use 10 cross-validation rounds."
   ]
  },
  {
   "cell_type": "code",
   "execution_count": 5,
   "id": "55673536",
   "metadata": {},
   "outputs": [],
   "source": [
    "# Write your code here.\n",
    "from sklearn.model_selection import ShuffleSplit\n",
    "\n",
    "cv = ShuffleSplit(n_splits=10, test_size=0.5, random_state=0)"
   ]
  },
  {
   "cell_type": "markdown",
   "id": "fdf0f265",
   "metadata": {},
   "source": [
    "Next, create a machine learning pipeline composed of a transformer to\n",
    "standardize the data followed by a logistic regression classifier."
   ]
  },
  {
   "cell_type": "code",
   "execution_count": 6,
   "id": "d5749f3e",
   "metadata": {},
   "outputs": [],
   "source": [
    "# Write your code here.\n",
    "from sklearn.preprocessing import StandardScaler\n",
    "from sklearn.linear_model import LogisticRegression\n",
    "from sklearn.pipeline import make_pipeline\n",
    "\n",
    "lr_model = make_pipeline(StandardScaler(), LogisticRegression(max_iter=500))"
   ]
  },
  {
   "cell_type": "markdown",
   "id": "2f704bb6",
   "metadata": {},
   "source": [
    "Compute the cross-validation (test) scores for the classifier on this dataset.\n",
    "Store the results pandas Series as we did in the previous notebook."
   ]
  },
  {
   "cell_type": "code",
   "execution_count": 7,
   "id": "0f0f1182",
   "metadata": {},
   "outputs": [],
   "source": [
    "# Write your code here.\n",
    "import pandas as pd\n",
    "from sklearn.model_selection import cross_val_score\n",
    "\n",
    "lr_cv_results = cross_val_score(lr_model, data, target, cv=cv, n_jobs=2)\n",
    "lr_cv_results = pd.Series(lr_cv_results, name=\"Logistic Regression\")"
   ]
  },
  {
   "cell_type": "markdown",
   "id": "b0fece9d",
   "metadata": {},
   "source": [
    "Now, compute the cross-validation scores of a dummy classifier that constantly\n",
    "predicts the most frequent class observed the training set. Please refer to\n",
    "the online documentation for the [sklearn.dummy.DummyClassifier\n",
    "](https://scikit-learn.org/stable/modules/generated/sklearn.dummy.DummyClassifier.html)\n",
    "class.\n",
    "\n",
    "Store the results in a second pandas Series."
   ]
  },
  {
   "cell_type": "code",
   "execution_count": 23,
   "id": "1a0b25b9",
   "metadata": {},
   "outputs": [],
   "source": [
    "# Write your code here.\n",
    "from sklearn.dummy import DummyClassifier\n",
    "\n",
    "dummy = DummyClassifier()\n",
    "\n",
    "dummy_cv_results = cross_val_score(dummy, data, target, cv=cv, n_jobs=2)\n",
    "dummy_cv_results = pd.Series(dummy_cv_results, name=\"Dummy Classifier (\"+dummy.get_params()['strategy']+\")\")"
   ]
  },
  {
   "cell_type": "markdown",
   "id": "c5d6171f",
   "metadata": {},
   "source": [
    "Now that we collected the results from the baseline and the model, concatenate\n",
    "the test scores as columns a single pandas dataframe."
   ]
  },
  {
   "cell_type": "code",
   "execution_count": 24,
   "id": "17213fd4",
   "metadata": {},
   "outputs": [
    {
     "data": {
      "text/html": [
       "<div>\n",
       "<style scoped>\n",
       "    .dataframe tbody tr th:only-of-type {\n",
       "        vertical-align: middle;\n",
       "    }\n",
       "\n",
       "    .dataframe tbody tr th {\n",
       "        vertical-align: top;\n",
       "    }\n",
       "\n",
       "    .dataframe thead th {\n",
       "        text-align: right;\n",
       "    }\n",
       "</style>\n",
       "<table border=\"1\" class=\"dataframe\">\n",
       "  <thead>\n",
       "    <tr style=\"text-align: right;\">\n",
       "      <th></th>\n",
       "      <th>Logistic Regression</th>\n",
       "      <th>Dummy Classifier (prior)</th>\n",
       "    </tr>\n",
       "  </thead>\n",
       "  <tbody>\n",
       "    <tr>\n",
       "      <th>0</th>\n",
       "      <td>0.815937</td>\n",
       "      <td>0.760329</td>\n",
       "    </tr>\n",
       "    <tr>\n",
       "      <th>1</th>\n",
       "      <td>0.813849</td>\n",
       "      <td>0.756808</td>\n",
       "    </tr>\n",
       "    <tr>\n",
       "      <th>2</th>\n",
       "      <td>0.815036</td>\n",
       "      <td>0.759142</td>\n",
       "    </tr>\n",
       "    <tr>\n",
       "      <th>3</th>\n",
       "      <td>0.815569</td>\n",
       "      <td>0.760739</td>\n",
       "    </tr>\n",
       "    <tr>\n",
       "      <th>4</th>\n",
       "      <td>0.810982</td>\n",
       "      <td>0.761681</td>\n",
       "    </tr>\n",
       "    <tr>\n",
       "      <th>5</th>\n",
       "      <td>0.814709</td>\n",
       "      <td>0.761885</td>\n",
       "    </tr>\n",
       "    <tr>\n",
       "      <th>6</th>\n",
       "      <td>0.813112</td>\n",
       "      <td>0.757463</td>\n",
       "    </tr>\n",
       "    <tr>\n",
       "      <th>7</th>\n",
       "      <td>0.810327</td>\n",
       "      <td>0.757176</td>\n",
       "    </tr>\n",
       "    <tr>\n",
       "      <th>8</th>\n",
       "      <td>0.812416</td>\n",
       "      <td>0.761885</td>\n",
       "    </tr>\n",
       "    <tr>\n",
       "      <th>9</th>\n",
       "      <td>0.816388</td>\n",
       "      <td>0.763114</td>\n",
       "    </tr>\n",
       "  </tbody>\n",
       "</table>\n",
       "</div>"
      ],
      "text/plain": [
       "   Logistic Regression  Dummy Classifier (prior)\n",
       "0             0.815937                  0.760329\n",
       "1             0.813849                  0.756808\n",
       "2             0.815036                  0.759142\n",
       "3             0.815569                  0.760739\n",
       "4             0.810982                  0.761681\n",
       "5             0.814709                  0.761885\n",
       "6             0.813112                  0.757463\n",
       "7             0.810327                  0.757176\n",
       "8             0.812416                  0.761885\n",
       "9             0.816388                  0.763114"
      ]
     },
     "execution_count": 24,
     "metadata": {},
     "output_type": "execute_result"
    }
   ],
   "source": [
    "# Write your code here.\n",
    "all_errors = pd.concat(\n",
    "    [lr_cv_results, dummy_cv_results],\n",
    "    axis=1,\n",
    ")\n",
    "all_errors"
   ]
  },
  {
   "cell_type": "markdown",
   "id": "97d6f312",
   "metadata": {},
   "source": [
    "\n",
    "Next, plot the histogram of the cross-validation test scores for both models\n",
    "with the help of [pandas built-in plotting\n",
    "function](https://pandas.pydata.org/pandas-docs/stable/user_guide/visualization.html#histograms).\n",
    "\n",
    "What conclusions do you draw from the results?"
   ]
  },
  {
   "cell_type": "code",
   "execution_count": 25,
   "id": "04429ccb",
   "metadata": {},
   "outputs": [
    {
     "data": {
      "image/png": "[encoded data removed]",
      "text/plain": [
       "<Figure size 640x480 with 1 Axes>"
      ]
     },
     "metadata": {},
     "output_type": "display_data"
    }
   ],
   "source": [
    "# Write your code here.\n",
    "import matplotlib.pyplot as plt\n",
    "import numpy as np\n",
    "\n",
    "bins = np.linspace(start=0, stop=1, num=50)\n",
    "all_errors.plot.hist(bins=bins, edgecolor=\"black\")\n",
    "plt.legend(bbox_to_anchor=(1.05, 0.8), loc=\"upper left\")\n",
    "plt.xlabel(\"Accuracy\")\n",
    "_ = plt.title(\"Cross-validation testing errors\")"
   ]
  },
  {
   "cell_type": "markdown",
   "metadata": {},
   "source": [
    "We realize that `LogisticRegression` performs a bit better than `DummyClassifier`."
   ]
  },
  {
   "cell_type": "markdown",
   "id": "571b92d8",
   "metadata": {},
   "source": [
    "Change the `strategy` of the dummy classifier to `\"stratified\"`, compute the\n",
    "results. Similarly compute scores for `strategy=\"uniform\"` and then the  plot\n",
    "the distribution together with the other results.\n",
    "\n",
    "Are those new baselines better than the previous one? Why is this the case?\n",
    "\n",
    "Please refer to the scikit-learn documentation on\n",
    "[sklearn.dummy.DummyClassifier](\n",
    "https://scikit-learn.org/stable/modules/generated/sklearn.dummy.DummyClassifier.html)\n",
    "to find out about the meaning of the `\"stratified\"` and `\"uniform\"`\n",
    "strategies."
   ]
  },
  {
   "cell_type": "code",
   "execution_count": 26,
   "id": "c52f78a7",
   "metadata": {},
   "outputs": [
    {
     "data": {
      "text/html": [
       "<div>\n",
       "<style scoped>\n",
       "    .dataframe tbody tr th:only-of-type {\n",
       "        vertical-align: middle;\n",
       "    }\n",
       "\n",
       "    .dataframe tbody tr th {\n",
       "        vertical-align: top;\n",
       "    }\n",
       "\n",
       "    .dataframe thead th {\n",
       "        text-align: right;\n",
       "    }\n",
       "</style>\n",
       "<table border=\"1\" class=\"dataframe\">\n",
       "  <thead>\n",
       "    <tr style=\"text-align: right;\">\n",
       "      <th></th>\n",
       "      <th>Logistic Regression</th>\n",
       "      <th>Dummy Classifier (prior)</th>\n",
       "      <th>Dummy Classifier (stratified)</th>\n",
       "      <th>Dummy Classifier (uniform)</th>\n",
       "    </tr>\n",
       "  </thead>\n",
       "  <tbody>\n",
       "    <tr>\n",
       "      <th>0</th>\n",
       "      <td>0.815937</td>\n",
       "      <td>0.760329</td>\n",
       "      <td>0.640228</td>\n",
       "      <td>0.501085</td>\n",
       "    </tr>\n",
       "    <tr>\n",
       "      <th>1</th>\n",
       "      <td>0.813849</td>\n",
       "      <td>0.756808</td>\n",
       "      <td>0.635969</td>\n",
       "      <td>0.499202</td>\n",
       "    </tr>\n",
       "    <tr>\n",
       "      <th>2</th>\n",
       "      <td>0.815036</td>\n",
       "      <td>0.759142</td>\n",
       "      <td>0.640883</td>\n",
       "      <td>0.495066</td>\n",
       "    </tr>\n",
       "    <tr>\n",
       "      <th>3</th>\n",
       "      <td>0.815569</td>\n",
       "      <td>0.760739</td>\n",
       "      <td>0.631915</td>\n",
       "      <td>0.497277</td>\n",
       "    </tr>\n",
       "    <tr>\n",
       "      <th>4</th>\n",
       "      <td>0.810982</td>\n",
       "      <td>0.761681</td>\n",
       "      <td>0.632079</td>\n",
       "      <td>0.496867</td>\n",
       "    </tr>\n",
       "    <tr>\n",
       "      <th>5</th>\n",
       "      <td>0.814709</td>\n",
       "      <td>0.761885</td>\n",
       "      <td>0.633512</td>\n",
       "      <td>0.495680</td>\n",
       "    </tr>\n",
       "    <tr>\n",
       "      <th>6</th>\n",
       "      <td>0.813112</td>\n",
       "      <td>0.757463</td>\n",
       "      <td>0.636788</td>\n",
       "      <td>0.502314</td>\n",
       "    </tr>\n",
       "    <tr>\n",
       "      <th>7</th>\n",
       "      <td>0.810327</td>\n",
       "      <td>0.757176</td>\n",
       "      <td>0.633348</td>\n",
       "      <td>0.505221</td>\n",
       "    </tr>\n",
       "    <tr>\n",
       "      <th>8</th>\n",
       "      <td>0.812416</td>\n",
       "      <td>0.761885</td>\n",
       "      <td>0.639040</td>\n",
       "      <td>0.502846</td>\n",
       "    </tr>\n",
       "    <tr>\n",
       "      <th>9</th>\n",
       "      <td>0.816388</td>\n",
       "      <td>0.763114</td>\n",
       "      <td>0.630195</td>\n",
       "      <td>0.500061</td>\n",
       "    </tr>\n",
       "  </tbody>\n",
       "</table>\n",
       "</div>"
      ],
      "text/plain": [
       "   Logistic Regression  Dummy Classifier (prior)  \\\n",
       "0             0.815937                  0.760329   \n",
       "1             0.813849                  0.756808   \n",
       "2             0.815036                  0.759142   \n",
       "3             0.815569                  0.760739   \n",
       "4             0.810982                  0.761681   \n",
       "5             0.814709                  0.761885   \n",
       "6             0.813112                  0.757463   \n",
       "7             0.810327                  0.757176   \n",
       "8             0.812416                  0.761885   \n",
       "9             0.816388                  0.763114   \n",
       "\n",
       "   Dummy Classifier (stratified)  Dummy Classifier (uniform)  \n",
       "0                       0.640228                    0.501085  \n",
       "1                       0.635969                    0.499202  \n",
       "2                       0.640883                    0.495066  \n",
       "3                       0.631915                    0.497277  \n",
       "4                       0.632079                    0.496867  \n",
       "5                       0.633512                    0.495680  \n",
       "6                       0.636788                    0.502314  \n",
       "7                       0.633348                    0.505221  \n",
       "8                       0.639040                    0.502846  \n",
       "9                       0.630195                    0.500061  "
      ]
     },
     "execution_count": 26,
     "metadata": {},
     "output_type": "execute_result"
    }
   ],
   "source": [
    "# Write your code here.\n",
    "strategies = ['stratified', 'uniform']\n",
    "\n",
    "for strategy in strategies:\n",
    "    dummy.set_params(strategy=strategy)\n",
    "    dummy_cv_results = cross_val_score(dummy, data, target, cv=cv, n_jobs=2)\n",
    "    dummy_cv_results = pd.Series(dummy_cv_results, name=\"Dummy Classifier (\"+dummy.get_params()['strategy']+\")\")\n",
    "    all_errors = pd.concat([all_errors, dummy_cv_results], axis=1)\n",
    "    \n",
    "all_errors"
   ]
  },
  {
   "cell_type": "code",
   "execution_count": 27,
   "metadata": {},
   "outputs": [
    {
     "data": {
      "image/png": "[encoded data removed]",
      "text/plain": [
       "<Figure size 640x480 with 1 Axes>"
      ]
     },
     "metadata": {},
     "output_type": "display_data"
    }
   ],
   "source": [
    "all_errors.plot.hist(bins=bins, edgecolor=\"black\")\n",
    "plt.legend(bbox_to_anchor=(1.05, 0.8), loc=\"upper left\")\n",
    "plt.xlabel(\"Accuracy\")\n",
    "_ = plt.title(\"Cross-validation testing errors\")"
   ]
  },
  {
   "cell_type": "markdown",
   "metadata": {},
   "source": [
    "No, those baselines are not better. `stratified` and `uniform` strategies randomize the output, while `prior` returns a constant output."
   ]
  }
 ],
 "metadata": {
  "jupytext": {
   "main_language": "python"
  },
  "kernelspec": {
   "display_name": "Python 3 (ipykernel)",
   "language": "python",
   "name": "python3"
  },
  "language_info": {
   "codemirror_mode": {
    "name": "ipython",
    "version": 3
   },
   "file_extension": ".py",
   "mimetype": "text/x-python",
   "name": "python",
   "nbconvert_exporter": "python",
   "pygments_lexer": "ipython3",
   "version": "3.11.4"
  },
  "nbreset": "https://raw.githubusercontent.com/INRIA/scikit-learn-mooc/main/notebooks/cross_validation_ex_02.ipynb"
 },
 "nbformat": 4,
 "nbformat_minor": 5
}
