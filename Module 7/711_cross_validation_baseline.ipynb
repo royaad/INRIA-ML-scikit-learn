{
 "cells": [
  {
   "cell_type": "markdown",
   "id": "63b8379f",
   "metadata": {},
   "source": [
    "# Comparing model performance with a simple baseline\n",
    "\n",
    "In this notebook, we present how to compare the generalization performance of\n",
    "a model to a minimal baseline. In regression, we can use the `DummyRegressor`\n",
    "class to predict the mean target value observed on the training set without\n",
    "using the input features.\n",
    "\n",
    "We now demonstrate how to compute the score of a regression model and then\n",
    "compare it to such a baseline on the California housing dataset."
   ]
  },
  {
   "cell_type": "markdown",
   "id": "881dd327",
   "metadata": {},
   "source": [
    "<div class=\"admonition note alert alert-info\">\n",
    "<p class=\"first admonition-title\" style=\"font-weight: bold;\">Note</p>\n",
    "<p class=\"last\">If you want a deeper overview regarding this dataset, you can refer to the\n",
    "section named \"Appendix - Datasets description\" at the end of this MOOC.</p>\n",
    "</div>"
   ]
  },
  {
   "cell_type": "code",
   "execution_count": 1,
   "id": "121198eb",
   "metadata": {},
   "outputs": [],
   "source": [
    "from sklearn.datasets import fetch_california_housing\n",
    "\n",
    "data, target = fetch_california_housing(return_X_y=True, as_frame=True)\n",
    "target *= 100  # rescale the target in k$"
   ]
  },
  {
   "cell_type": "markdown",
   "id": "1cacb4f2",
   "metadata": {},
   "source": [
    "Across all evaluations, we will use a `ShuffleSplit` cross-validation splitter\n",
    "with 20% of the data held on the validation side of the split."
   ]
  },
  {
   "cell_type": "code",
   "execution_count": 2,
   "id": "811ea403",
   "metadata": {},
   "outputs": [],
   "source": [
    "from sklearn.model_selection import ShuffleSplit\n",
    "\n",
    "cv = ShuffleSplit(n_splits=30, test_size=0.2, random_state=0)"
   ]
  },
  {
   "cell_type": "markdown",
   "id": "7d8b0d22",
   "metadata": {},
   "source": [
    "We start by running the cross-validation for a simple decision tree regressor\n",
    "which is our model of interest. Besides, we will store the testing error in a\n",
    "pandas series to make it easier to plot the results."
   ]
  },
  {
   "cell_type": "code",
   "execution_count": 3,
   "id": "4ca69e08",
   "metadata": {},
   "outputs": [
    {
     "data": {
      "text/plain": [
       "count    30.000000\n",
       "mean     45.662450\n",
       "std       1.091213\n",
       "min      43.525547\n",
       "25%      44.955333\n",
       "50%      45.467352\n",
       "75%      46.601754\n",
       "max      47.808935\n",
       "Name: Decision tree regressor, dtype: float64"
      ]
     },
     "execution_count": 3,
     "metadata": {},
     "output_type": "execute_result"
    }
   ],
   "source": [
    "import pandas as pd\n",
    "from sklearn.tree import DecisionTreeRegressor\n",
    "from sklearn.model_selection import cross_validate\n",
    "\n",
    "regressor = DecisionTreeRegressor()\n",
    "cv_results_tree_regressor = cross_validate(\n",
    "    regressor, data, target, cv=cv, scoring=\"neg_mean_absolute_error\", n_jobs=2\n",
    ")\n",
    "\n",
    "errors_tree_regressor = pd.Series(\n",
    "    -cv_results_tree_regressor[\"test_score\"], name=\"Decision tree regressor\"\n",
    ")\n",
    "errors_tree_regressor.describe()"
   ]
  },
  {
   "cell_type": "markdown",
   "id": "26722565",
   "metadata": {},
   "source": [
    "Then, we evaluate our baseline. This baseline is called a dummy regressor.\n",
    "This dummy regressor will always predict the mean target computed on the\n",
    "training target variable. Therefore, the dummy regressor does not use any\n",
    "information from the input features stored in the dataframe named `data`."
   ]
  },
  {
   "cell_type": "code",
   "execution_count": 6,
   "id": "b46cea6b",
   "metadata": {},
   "outputs": [
    {
     "data": {
      "text/plain": [
       "count    30.000000\n",
       "mean     91.140009\n",
       "std       0.821140\n",
       "min      89.757566\n",
       "25%      90.543652\n",
       "50%      91.034555\n",
       "75%      91.979007\n",
       "max      92.477244\n",
       "Name: Dummy regressor, dtype: float64"
      ]
     },
     "execution_count": 6,
     "metadata": {},
     "output_type": "execute_result"
    }
   ],
   "source": [
    "from sklearn.dummy import DummyRegressor\n",
    "\n",
    "dummy = DummyRegressor(strategy=\"mean\")\n",
    "result_dummy = cross_validate(\n",
    "    dummy, data, target, cv=cv, scoring=\"neg_mean_absolute_error\", n_jobs=2\n",
    ")\n",
    "errors_dummy_regressor = pd.Series(\n",
    "    -result_dummy[\"test_score\"], name=\"Dummy regressor\"\n",
    ")\n",
    "errors_dummy_regressor.describe()"
   ]
  },
  {
   "cell_type": "markdown",
   "id": "9c2578d9",
   "metadata": {},
   "source": [
    "We now plot the cross-validation testing errors for the mean target baseline\n",
    "and the actual decision tree regressor."
   ]
  },
  {
   "cell_type": "code",
   "execution_count": 7,
   "id": "8bc3c90b",
   "metadata": {},
   "outputs": [
    {
     "data": {
      "text/html": [
       "<div>\n",
       "<style scoped>\n",
       "    .dataframe tbody tr th:only-of-type {\n",
       "        vertical-align: middle;\n",
       "    }\n",
       "\n",
       "    .dataframe tbody tr th {\n",
       "        vertical-align: top;\n",
       "    }\n",
       "\n",
       "    .dataframe thead th {\n",
       "        text-align: right;\n",
       "    }\n",
       "</style>\n",
       "<table border=\"1\" class=\"dataframe\">\n",
       "  <thead>\n",
       "    <tr style=\"text-align: right;\">\n",
       "      <th></th>\n",
       "      <th>Decision tree regressor</th>\n",
       "      <th>Dummy regressor</th>\n",
       "    </tr>\n",
       "  </thead>\n",
       "  <tbody>\n",
       "    <tr>\n",
       "      <th>0</th>\n",
       "      <td>46.724484</td>\n",
       "      <td>90.713153</td>\n",
       "    </tr>\n",
       "    <tr>\n",
       "      <th>1</th>\n",
       "      <td>46.753440</td>\n",
       "      <td>90.539353</td>\n",
       "    </tr>\n",
       "    <tr>\n",
       "      <th>2</th>\n",
       "      <td>44.405857</td>\n",
       "      <td>91.941912</td>\n",
       "    </tr>\n",
       "    <tr>\n",
       "      <th>3</th>\n",
       "      <td>43.915134</td>\n",
       "      <td>90.213912</td>\n",
       "    </tr>\n",
       "    <tr>\n",
       "      <th>4</th>\n",
       "      <td>47.808935</td>\n",
       "      <td>92.015862</td>\n",
       "    </tr>\n",
       "    <tr>\n",
       "      <th>5</th>\n",
       "      <td>45.226930</td>\n",
       "      <td>90.542490</td>\n",
       "    </tr>\n",
       "    <tr>\n",
       "      <th>6</th>\n",
       "      <td>44.406921</td>\n",
       "      <td>89.757566</td>\n",
       "    </tr>\n",
       "    <tr>\n",
       "      <th>7</th>\n",
       "      <td>44.593186</td>\n",
       "      <td>92.477244</td>\n",
       "    </tr>\n",
       "    <tr>\n",
       "      <th>8</th>\n",
       "      <td>45.013412</td>\n",
       "      <td>90.947952</td>\n",
       "    </tr>\n",
       "    <tr>\n",
       "      <th>9</th>\n",
       "      <td>44.860550</td>\n",
       "      <td>91.991373</td>\n",
       "    </tr>\n",
       "    <tr>\n",
       "      <th>10</th>\n",
       "      <td>46.717437</td>\n",
       "      <td>92.023571</td>\n",
       "    </tr>\n",
       "    <tr>\n",
       "      <th>11</th>\n",
       "      <td>45.808179</td>\n",
       "      <td>90.556965</td>\n",
       "    </tr>\n",
       "    <tr>\n",
       "      <th>12</th>\n",
       "      <td>45.052969</td>\n",
       "      <td>91.539567</td>\n",
       "    </tr>\n",
       "    <tr>\n",
       "      <th>13</th>\n",
       "      <td>45.428049</td>\n",
       "      <td>91.185225</td>\n",
       "    </tr>\n",
       "    <tr>\n",
       "      <th>14</th>\n",
       "      <td>46.569685</td>\n",
       "      <td>92.298971</td>\n",
       "    </tr>\n",
       "    <tr>\n",
       "      <th>15</th>\n",
       "      <td>45.006172</td>\n",
       "      <td>91.084639</td>\n",
       "    </tr>\n",
       "    <tr>\n",
       "      <th>16</th>\n",
       "      <td>45.698399</td>\n",
       "      <td>90.984471</td>\n",
       "    </tr>\n",
       "    <tr>\n",
       "      <th>17</th>\n",
       "      <td>46.781821</td>\n",
       "      <td>89.981744</td>\n",
       "    </tr>\n",
       "    <tr>\n",
       "      <th>18</th>\n",
       "      <td>44.938387</td>\n",
       "      <td>90.547140</td>\n",
       "    </tr>\n",
       "    <tr>\n",
       "      <th>19</th>\n",
       "      <td>47.178918</td>\n",
       "      <td>89.820219</td>\n",
       "    </tr>\n",
       "    <tr>\n",
       "      <th>20</th>\n",
       "      <td>43.525547</td>\n",
       "      <td>91.768721</td>\n",
       "    </tr>\n",
       "    <tr>\n",
       "      <th>21</th>\n",
       "      <td>46.121964</td>\n",
       "      <td>92.305556</td>\n",
       "    </tr>\n",
       "    <tr>\n",
       "      <th>22</th>\n",
       "      <td>45.356412</td>\n",
       "      <td>90.503017</td>\n",
       "    </tr>\n",
       "    <tr>\n",
       "      <th>23</th>\n",
       "      <td>46.612443</td>\n",
       "      <td>92.147974</td>\n",
       "    </tr>\n",
       "    <tr>\n",
       "      <th>24</th>\n",
       "      <td>46.162158</td>\n",
       "      <td>91.386320</td>\n",
       "    </tr>\n",
       "    <tr>\n",
       "      <th>25</th>\n",
       "      <td>45.506654</td>\n",
       "      <td>90.815660</td>\n",
       "    </tr>\n",
       "    <tr>\n",
       "      <th>26</th>\n",
       "      <td>44.497529</td>\n",
       "      <td>92.216574</td>\n",
       "    </tr>\n",
       "    <tr>\n",
       "      <th>27</th>\n",
       "      <td>46.295171</td>\n",
       "      <td>90.107460</td>\n",
       "    </tr>\n",
       "    <tr>\n",
       "      <th>28</th>\n",
       "      <td>45.218157</td>\n",
       "      <td>90.620318</td>\n",
       "    </tr>\n",
       "    <tr>\n",
       "      <th>29</th>\n",
       "      <td>47.688586</td>\n",
       "      <td>91.165331</td>\n",
       "    </tr>\n",
       "  </tbody>\n",
       "</table>\n",
       "</div>"
      ],
      "text/plain": [
       "    Decision tree regressor  Dummy regressor\n",
       "0                 46.724484        90.713153\n",
       "1                 46.753440        90.539353\n",
       "2                 44.405857        91.941912\n",
       "3                 43.915134        90.213912\n",
       "4                 47.808935        92.015862\n",
       "5                 45.226930        90.542490\n",
       "6                 44.406921        89.757566\n",
       "7                 44.593186        92.477244\n",
       "8                 45.013412        90.947952\n",
       "9                 44.860550        91.991373\n",
       "10                46.717437        92.023571\n",
       "11                45.808179        90.556965\n",
       "12                45.052969        91.539567\n",
       "13                45.428049        91.185225\n",
       "14                46.569685        92.298971\n",
       "15                45.006172        91.084639\n",
       "16                45.698399        90.984471\n",
       "17                46.781821        89.981744\n",
       "18                44.938387        90.547140\n",
       "19                47.178918        89.820219\n",
       "20                43.525547        91.768721\n",
       "21                46.121964        92.305556\n",
       "22                45.356412        90.503017\n",
       "23                46.612443        92.147974\n",
       "24                46.162158        91.386320\n",
       "25                45.506654        90.815660\n",
       "26                44.497529        92.216574\n",
       "27                46.295171        90.107460\n",
       "28                45.218157        90.620318\n",
       "29                47.688586        91.165331"
      ]
     },
     "execution_count": 7,
     "metadata": {},
     "output_type": "execute_result"
    }
   ],
   "source": [
    "all_errors = pd.concat(\n",
    "    [errors_tree_regressor, errors_dummy_regressor],\n",
    "    axis=1,\n",
    ")\n",
    "all_errors"
   ]
  },
  {
   "cell_type": "code",
   "execution_count": 8,
   "id": "9e49a4b4",
   "metadata": {},
   "outputs": [
    {
     "data": {
      "image/png": "[encoded data removed]",
      "text/plain": [
       "<Figure size 640x480 with 1 Axes>"
      ]
     },
     "metadata": {},
     "output_type": "display_data"
    }
   ],
   "source": [
    "import matplotlib.pyplot as plt\n",
    "import numpy as np\n",
    "\n",
    "bins = np.linspace(start=0, stop=100, num=80)\n",
    "all_errors.plot.hist(bins=bins, edgecolor=\"black\")\n",
    "plt.legend(bbox_to_anchor=(1.05, 0.8), loc=\"upper left\")\n",
    "plt.xlabel(\"Mean absolute error (k$)\")\n",
    "_ = plt.title(\"Cross-validation testing errors\")"
   ]
  },
  {
   "cell_type": "markdown",
   "id": "aea62a8c",
   "metadata": {},
   "source": [
    "We see that the generalization performance of our decision tree is far from\n",
    "being perfect: the price predictions are off by more than 45,000 US dollars on\n",
    "average. However it is much better than the mean price baseline. So this\n",
    "confirms that it is possible to predict the housing price much better by using\n",
    "a model that takes into account the values of the input features (housing\n",
    "location, size, neighborhood income...). Such a model makes more informed\n",
    "predictions and approximately divides the error rate by a factor of 2 compared\n",
    "to the baseline that ignores the input features.\n",
    "\n",
    "Note that here we used the mean price as the baseline prediction. We could\n",
    "have used the median instead. See the online documentation of the\n",
    "[sklearn.dummy.DummyRegressor](https://scikit-learn.org/stable/modules/generated/sklearn.dummy.DummyRegressor.html)\n",
    "class for other options. For this particular example, using the mean instead\n",
    "of the median does not make much of a difference but this could have been the\n",
    "case for dataset with extreme outliers."
   ]
  }
 ],
 "metadata": {
  "jupytext": {
   "main_language": "python"
  },
  "kernelspec": {
   "display_name": "Python 3 (ipykernel)",
   "language": "python",
   "name": "python3"
  },
  "language_info": {
   "codemirror_mode": {
    "name": "ipython",
    "version": 3
   },
   "file_extension": ".py",
   "mimetype": "text/x-python",
   "name": "python",
   "nbconvert_exporter": "python",
   "pygments_lexer": "ipython3",
   "version": "3.11.4"
  },
  "nbreset": "https://raw.githubusercontent.com/INRIA/scikit-learn-mooc/main/notebooks/cross_validation_baseline.ipynb"
 },
 "nbformat": 4,
 "nbformat_minor": 5
}
