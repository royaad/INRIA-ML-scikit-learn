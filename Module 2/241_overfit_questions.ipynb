{
 "cells": [
  {
   "cell_type": "markdown",
   "metadata": {},
   "source": [
    "# Module 2 - Wrap-Up Quiz"
   ]
  },
  {
   "cell_type": "markdown",
   "metadata": {},
   "source": [
    "## Importing Pandas"
   ]
  },
  {
   "cell_type": "code",
   "execution_count": 1,
   "metadata": {},
   "outputs": [],
   "source": [
    "import pandas as pd"
   ]
  },
  {
   "cell_type": "markdown",
   "metadata": {},
   "source": [
    "## Loading Data"
   ]
  },
  {
   "cell_type": "code",
   "execution_count": 2,
   "metadata": {},
   "outputs": [
    {
     "data": {
      "text/html": [
       "<div>\n",
       "<style scoped>\n",
       "    .dataframe tbody tr th:only-of-type {\n",
       "        vertical-align: middle;\n",
       "    }\n",
       "\n",
       "    .dataframe tbody tr th {\n",
       "        vertical-align: top;\n",
       "    }\n",
       "\n",
       "    .dataframe thead th {\n",
       "        text-align: right;\n",
       "    }\n",
       "</style>\n",
       "<table border=\"1\" class=\"dataframe\">\n",
       "  <thead>\n",
       "    <tr style=\"text-align: right;\">\n",
       "      <th></th>\n",
       "      <th>Recency</th>\n",
       "      <th>Frequency</th>\n",
       "      <th>Monetary</th>\n",
       "      <th>Time</th>\n",
       "    </tr>\n",
       "  </thead>\n",
       "  <tbody>\n",
       "    <tr>\n",
       "      <th>0</th>\n",
       "      <td>2</td>\n",
       "      <td>50</td>\n",
       "      <td>12500</td>\n",
       "      <td>98</td>\n",
       "    </tr>\n",
       "    <tr>\n",
       "      <th>1</th>\n",
       "      <td>0</td>\n",
       "      <td>13</td>\n",
       "      <td>3250</td>\n",
       "      <td>28</td>\n",
       "    </tr>\n",
       "    <tr>\n",
       "      <th>2</th>\n",
       "      <td>1</td>\n",
       "      <td>16</td>\n",
       "      <td>4000</td>\n",
       "      <td>35</td>\n",
       "    </tr>\n",
       "    <tr>\n",
       "      <th>3</th>\n",
       "      <td>2</td>\n",
       "      <td>20</td>\n",
       "      <td>5000</td>\n",
       "      <td>45</td>\n",
       "    </tr>\n",
       "    <tr>\n",
       "      <th>4</th>\n",
       "      <td>1</td>\n",
       "      <td>24</td>\n",
       "      <td>6000</td>\n",
       "      <td>77</td>\n",
       "    </tr>\n",
       "  </tbody>\n",
       "</table>\n",
       "</div>"
      ],
      "text/plain": [
       "   Recency  Frequency  Monetary  Time\n",
       "0        2         50     12500    98\n",
       "1        0         13      3250    28\n",
       "2        1         16      4000    35\n",
       "3        2         20      5000    45\n",
       "4        1         24      6000    77"
      ]
     },
     "execution_count": 2,
     "metadata": {},
     "output_type": "execute_result"
    }
   ],
   "source": [
    "blood_transfusion = pd.read_csv(\"../datasets/blood_transfusion.csv\")\n",
    "target_name = \"Class\"\n",
    "data = blood_transfusion.drop(columns=target_name)\n",
    "target = blood_transfusion[target_name]\n",
    "# Checking data\n",
    "data.head()"
   ]
  },
  {
   "cell_type": "markdown",
   "metadata": {},
   "source": [
    "## Checking target type and imbalance"
   ]
  },
  {
   "cell_type": "code",
   "execution_count": 3,
   "metadata": {
    "scrolled": true
   },
   "outputs": [
    {
     "data": {
      "text/plain": [
       "Class\n",
       "not donated    570\n",
       "donated        178\n",
       "Name: count, dtype: int64"
      ]
     },
     "execution_count": 3,
     "metadata": {},
     "output_type": "execute_result"
    }
   ],
   "source": [
    "target.value_counts()"
   ]
  },
  {
   "cell_type": "markdown",
   "metadata": {},
   "source": [
    "We can also use the `value_count()` method with the option `normalize=True`, which returns normalized values."
   ]
  },
  {
   "cell_type": "code",
   "execution_count": 4,
   "metadata": {},
   "outputs": [
    {
     "data": {
      "text/plain": [
       "Class\n",
       "not donated    0.762032\n",
       "donated        0.237968\n",
       "Name: proportion, dtype: float64"
      ]
     },
     "execution_count": 4,
     "metadata": {},
     "output_type": "execute_result"
    }
   ],
   "source": [
    "target.value_counts(normalize=True)"
   ]
  },
  {
   "cell_type": "markdown",
   "metadata": {},
   "source": [
    "## Baseline accuracy using DummyClassifier"
   ]
  },
  {
   "cell_type": "code",
   "execution_count": 5,
   "metadata": {},
   "outputs": [
    {
     "name": "stdout",
     "output_type": "stream",
     "text": [
      "The mean cross-validation accuracy is: 0.762 ± 0.004 \n"
     ]
    }
   ],
   "source": [
    "from sklearn.dummy import DummyClassifier\n",
    "# since we only care for the test score, we will replace cross_validate with cross_val_score\n",
    "from sklearn.model_selection import cross_val_score\n",
    "\n",
    "baseline_model = DummyClassifier(strategy='most_frequent')\n",
    "\n",
    "scores = cross_val_score(baseline_model, data, target, cv=10)\n",
    "\n",
    "print(\n",
    "    \"The mean cross-validation accuracy is: \"\n",
    "    f\"{scores.mean():.3f} ± {scores.std():.3f} \"\n",
    ")"
   ]
  },
  {
   "cell_type": "markdown",
   "metadata": {},
   "source": [
    "N.B. The obtained accuracy is nothing but $$\\frac{number_{\\text{not donated}}}{number_{\\text{not donated}}+number_{\\text{donated}}}=\\frac{570}{570+178}=0.762$$"
   ]
  },
  {
   "cell_type": "markdown",
   "metadata": {},
   "source": [
    "With `scoring=\"balanced_accuracy\"` "
   ]
  },
  {
   "cell_type": "code",
   "execution_count": 6,
   "metadata": {},
   "outputs": [
    {
     "name": "stdout",
     "output_type": "stream",
     "text": [
      "The mean cross-validation accuracy is: 0.500 ± 0.000 \n"
     ]
    }
   ],
   "source": [
    "scores = cross_val_score(baseline_model, data, target, cv=10, scoring=\"balanced_accuracy\")\n",
    "\n",
    "print(\n",
    "    \"The mean cross-validation accuracy is: \"\n",
    "    f\"{scores.mean():.3f} ± {scores.std():.3f} \"\n",
    ")"
   ]
  },
  {
   "cell_type": "markdown",
   "metadata": {},
   "source": [
    "Which makes sense, since for a balanced dataset would have $number_{\\text{not donated}}=number_{\\text{donated}}$.\n",
    "\n",
    "However, `balanced accuracy` is defined as the average of recall obtained on each class. More reading in [link 1](https://scikit-learn.org/stable/modules/generated/sklearn.metrics.balanced_accuracy_score.html#sklearn.metrics.balanced_accuracy_score) and [link 2](https://scikit-learn.org/stable/modules/generated/sklearn.metrics.recall_score.html#sklearn.metrics.recall_score)."
   ]
  },
  {
   "cell_type": "markdown",
   "metadata": {},
   "source": [
    "## KNN Model"
   ]
  },
  {
   "cell_type": "code",
   "execution_count": 8,
   "metadata": {},
   "outputs": [],
   "source": [
    "from sklearn.preprocessing import StandardScaler\n",
    "from sklearn.pipeline import make_pipeline\n",
    "from sklearn.neighbors import KNeighborsClassifier\n",
    "\n",
    "model = make_pipeline(StandardScaler(), KNeighborsClassifier())"
   ]
  },
  {
   "cell_type": "markdown",
   "metadata": {},
   "source": [
    "Inspect the parameters of the created pipeline. What is the value of K, the number of neighbors considered when predicting with the k-nearest neighbors?"
   ]
  },
  {
   "cell_type": "code",
   "execution_count": 17,
   "metadata": {},
   "outputs": [
    {
     "data": {
      "text/plain": [
       "{'memory': None,\n",
       " 'steps': [('standardscaler', StandardScaler()),\n",
       "  ('kneighborsclassifier', KNeighborsClassifier())],\n",
       " 'verbose': False,\n",
       " 'standardscaler': StandardScaler(),\n",
       " 'kneighborsclassifier': KNeighborsClassifier(),\n",
       " 'standardscaler__copy': True,\n",
       " 'standardscaler__with_mean': True,\n",
       " 'standardscaler__with_std': True,\n",
       " 'kneighborsclassifier__algorithm': 'auto',\n",
       " 'kneighborsclassifier__leaf_size': 30,\n",
       " 'kneighborsclassifier__metric': 'minkowski',\n",
       " 'kneighborsclassifier__metric_params': None,\n",
       " 'kneighborsclassifier__n_jobs': None,\n",
       " 'kneighborsclassifier__n_neighbors': 5,\n",
       " 'kneighborsclassifier__p': 2,\n",
       " 'kneighborsclassifier__weights': 'uniform'}"
      ]
     },
     "execution_count": 17,
     "metadata": {},
     "output_type": "execute_result"
    }
   ],
   "source": [
    "# Checking model parameters\n",
    "model.get_params()"
   ]
  },
  {
   "cell_type": "markdown",
   "metadata": {},
   "source": [
    "Since we did not specify any parameters for the `KNeighborsClassifier`, we can also check the [sklearn documentation](https://scikit-learn.org/stable/modules/generated/sklearn.neighbors.KNeighborsClassifier.html) to know the default number of neighbors."
   ]
  },
  {
   "cell_type": "markdown",
   "metadata": {},
   "source": [
    "Set `n_neighbors=1` in the previous model and evaluate it using a 10-fold cross-validation. Use the balanced accuracy as a score. What can you say about this model? Compare the average of the train and test scores to argument your answer."
   ]
  },
  {
   "cell_type": "markdown",
   "metadata": {},
   "source": [
    "One way to change the parameters of a model after creating an instance is to use the `set_params()` method."
   ]
  },
  {
   "cell_type": "code",
   "execution_count": 74,
   "metadata": {},
   "outputs": [
    {
     "data": {
      "text/plain": [
       "{'memory': None,\n",
       " 'steps': [('standardscaler', StandardScaler()),\n",
       "  ('kneighborsclassifier', KNeighborsClassifier(n_neighbors=1))],\n",
       " 'verbose': False,\n",
       " 'standardscaler': StandardScaler(),\n",
       " 'kneighborsclassifier': KNeighborsClassifier(n_neighbors=1),\n",
       " 'standardscaler__copy': True,\n",
       " 'standardscaler__with_mean': True,\n",
       " 'standardscaler__with_std': True,\n",
       " 'kneighborsclassifier__algorithm': 'auto',\n",
       " 'kneighborsclassifier__leaf_size': 30,\n",
       " 'kneighborsclassifier__metric': 'minkowski',\n",
       " 'kneighborsclassifier__metric_params': None,\n",
       " 'kneighborsclassifier__n_jobs': None,\n",
       " 'kneighborsclassifier__n_neighbors': 1,\n",
       " 'kneighborsclassifier__p': 2,\n",
       " 'kneighborsclassifier__weights': 'uniform'}"
      ]
     },
     "execution_count": 74,
     "metadata": {},
     "output_type": "execute_result"
    }
   ],
   "source": [
    "model.set_params(kneighborsclassifier__n_neighbors=1)\n",
    "model.get_params()"
   ]
  },
  {
   "cell_type": "code",
   "execution_count": 75,
   "metadata": {},
   "outputs": [
    {
     "name": "stdout",
     "output_type": "stream",
     "text": [
      "The mean cross-validation train accuracy is: 0.883 ± 0.008 \n",
      "The mean cross-validation test accuracy is: 0.484 ± 0.105 \n"
     ]
    }
   ],
   "source": [
    "from sklearn.model_selection import cross_validate\n",
    "\n",
    "cv_results = cross_validate(model, data, target, cv=10, return_train_score=True, scoring=\"balanced_accuracy\")\n",
    "\n",
    "train_scores = cv_results[\"train_score\"]\n",
    "test_scores = cv_results[\"test_score\"]\n",
    "\n",
    "print(\n",
    "    \"The mean cross-validation train accuracy is: \"\n",
    "    f\"{train_scores.mean():.3f} ± {train_scores.std():.3f} \"\n",
    ")\n",
    "print(\n",
    "    \"The mean cross-validation test accuracy is: \"\n",
    "    f\"{test_scores.mean():.3f} ± {test_scores.std():.3f} \"\n",
    ")"
   ]
  },
  {
   "cell_type": "markdown",
   "metadata": {},
   "source": [
    "The model clearly overfits since it has a high train accuracy of 0.883 and a low (almost by half) test accuracy of 0.484. The `KneighborsClassifier` overfits when the number of neighbors is small. The model is 'less complex' and is more sensitive to noise as it only considers one neighbors. Therefore, the model overfits with small Ks. A ballpark estimate would be to start with $K=\\log(n_{samples})$ and increase K. More details in this [link](https://stats.stackexchange.com/questions/384542/how-to-prevent-overfitting-with-knn)."
   ]
  },
  {
   "cell_type": "markdown",
   "metadata": {},
   "source": [
    "## Hyperparameter Tuning"
   ]
  },
  {
   "cell_type": "markdown",
   "metadata": {},
   "source": [
    "We can change the hyperparameter using a for loop"
   ]
  },
  {
   "cell_type": "code",
   "execution_count": 65,
   "metadata": {},
   "outputs": [
    {
     "name": "stdout",
     "output_type": "stream",
     "text": [
      "K = 1\n",
      "-------------------------\n",
      "avg. train score:   0.890\n",
      "avg. test score:    0.490\n",
      "\n",
      "K = 2\n",
      "-------------------------\n",
      "avg. train score:   0.842\n",
      "avg. test score:    0.501\n",
      "\n",
      "K = 5\n",
      "-------------------------\n",
      "avg. train score:   0.710\n",
      "avg. test score:    0.515\n",
      "\n",
      "K = 10\n",
      "-------------------------\n",
      "avg. train score:   0.697\n",
      "avg. test score:    0.554\n",
      "\n",
      "K = 20\n",
      "-------------------------\n",
      "avg. train score:   0.678\n",
      "avg. test score:    0.601\n",
      "\n",
      "K = 50\n",
      "-------------------------\n",
      "avg. train score:   0.624\n",
      "avg. test score:    0.568\n",
      "\n",
      "K = 100\n",
      "-------------------------\n",
      "avg. train score:   0.536\n",
      "avg. test score:    0.554\n",
      "\n",
      "K = 200\n",
      "-------------------------\n",
      "avg. train score:   0.500\n",
      "avg. test score:    0.500\n",
      "\n",
      "K = 500\n",
      "-------------------------\n",
      "avg. train score:   0.500\n",
      "avg. test score:    0.500\n",
      "\n"
     ]
    }
   ],
   "source": [
    "param_range = [1, 2, 5, 10, 20, 50, 100, 200, 500]\n",
    "train_scores = []\n",
    "test_scores = []\n",
    "# Looping over param_range\n",
    "for i in param_range:\n",
    "    model.set_params(kneighborsclassifier__n_neighbors=i)\n",
    "    print(f\"K = {model.get_params()['kneighborsclassifier__n_neighbors']}\")\n",
    "    print('-'*25)\n",
    "    cv_results = cross_validate(model, data, target, cv=5, return_train_score=True, scoring=\"balanced_accuracy\")\n",
    "    train_scores.append(cv_results[\"train_score\"].mean())\n",
    "    test_scores.append(cv_results[\"test_score\"].mean())\n",
    "    print(f\"{'avg. train score:':<20}{train_scores[-1]:.3f}\")\n",
    "    print(f\"{'avg. test score:':<20}{test_scores[-1]:.3f}\\n\")"
   ]
  },
  {
   "cell_type": "markdown",
   "metadata": {},
   "source": [
    "Plotting results"
   ]
  },
  {
   "cell_type": "code",
   "execution_count": 68,
   "metadata": {},
   "outputs": [
    {
     "data": {
      "text/plain": [
       "Text(0, 0.5, 'Avg. Accuracy')"
      ]
     },
     "execution_count": 68,
     "metadata": {},
     "output_type": "execute_result"
    },
    {
     "data": {
      "image/png": "[encoded data removed]",
      "text/plain": [
       "<Figure size 640x480 with 1 Axes>"
      ]
     },
     "metadata": {},
     "output_type": "display_data"
    }
   ],
   "source": [
    "import matplotlib.pyplot as plt\n",
    "\n",
    "plt.plot(param_range, train_scores, label = 'train')\n",
    "plt.plot(param_range, test_scores, label = 'test')\n",
    "plt.legend()\n",
    "plt.xlabel('K')\n",
    "plt.ylabel('Avg. Accuracy')"
   ]
  },
  {
   "cell_type": "markdown",
   "metadata": {},
   "source": [
    "Or, We can use `ValidationCurveDisplay`"
   ]
  },
  {
   "cell_type": "code",
   "execution_count": 13,
   "metadata": {},
   "outputs": [
    {
     "data": {
      "image/png": "[encoded data removed]",
      "text/plain": [
       "<Figure size 640x480 with 1 Axes>"
      ]
     },
     "metadata": {},
     "output_type": "display_data"
    }
   ],
   "source": [
    "import numpy as np\n",
    "from sklearn.model_selection import ValidationCurveDisplay\n",
    "\n",
    "param_range = np.array([1, 2, 5, 10, 20, 50, 100, 200, 500])\n",
    "\n",
    "disp = ValidationCurveDisplay.from_estimator(\n",
    "    model,\n",
    "    data,\n",
    "    target,\n",
    "    param_name=\"kneighborsclassifier__n_neighbors\",\n",
    "    param_range=param_range,\n",
    "    scoring=\"balanced_accuracy\",\n",
    "    n_jobs=2,\n",
    ")\n",
    "\n",
    "_ = disp.ax_.set(\n",
    "    xscale=\"linear\",\n",
    "    xlabel=\"Value of hyperparameter n_neighbors\",\n",
    "    ylabel=\"Balanced accuracy score\",\n",
    "    title=\"Validation curve of K-nearest neighbors\",\n",
    ")"
   ]
  },
  {
   "cell_type": "markdown",
   "metadata": {},
   "source": [
    "For more info on `xscale`, use [this link](https://matplotlib.org/stable/api/_as_gen/matplotlib.pyplot.xscale.html)"
   ]
  },
  {
   "cell_type": "markdown",
   "metadata": {},
   "source": [
    "## Testing the effect of StandardScalar"
   ]
  },
  {
   "cell_type": "code",
   "execution_count": 101,
   "metadata": {},
   "outputs": [],
   "source": [
    "# Simple KNeighborsClassifier\n",
    "model_1 = KNeighborsClassifier(n_neighbors=10)\n",
    "# KNeighborsClassifier with StandardScaler\n",
    "model_2 = make_pipeline(StandardScaler(), model_1)"
   ]
  },
  {
   "cell_type": "code",
   "execution_count": 102,
   "metadata": {},
   "outputs": [
    {
     "name": "stdout",
     "output_type": "stream",
     "text": [
      "The mean cross-validation train accuracy is: 0.666 ± 0.010 \n",
      "The mean cross-validation test accuracy is: 0.539 ± 0.034 \n",
      "The mean fit time is: 3.17 ms ± 0.44 ms\n"
     ]
    }
   ],
   "source": [
    "from sklearn.model_selection import cross_validate\n",
    "\n",
    "cv_results = cross_validate(model_1, data, target, cv=10, return_train_score=True, scoring=\"balanced_accuracy\")\n",
    "\n",
    "train_scores = cv_results[\"train_score\"]\n",
    "test_scores = cv_results[\"test_score\"]\n",
    "time = cv_results[\"fit_time\"]\n",
    "\n",
    "print(\n",
    "    \"The mean cross-validation train accuracy is: \"\n",
    "    f\"{train_scores.mean():.3f} ± {train_scores.std():.3f} \"\n",
    ")\n",
    "print(\n",
    "    \"The mean cross-validation test accuracy is: \"\n",
    "    f\"{test_scores.mean():.3f} ± {test_scores.std():.3f} \"\n",
    ")\n",
    "print(\n",
    "    \"The mean fit time is: \"\n",
    "    f\"{1000*time.mean():.2f} ms ± {1000*time.std():.2f} ms\"\n",
    ")"
   ]
  },
  {
   "cell_type": "code",
   "execution_count": 103,
   "metadata": {},
   "outputs": [
    {
     "name": "stdout",
     "output_type": "stream",
     "text": [
      "The mean cross-validation train accuracy is: 0.685 ± 0.020 \n",
      "The mean cross-validation test accuracy is: 0.550 ± 0.080 \n",
      "The mean fit time is: 4.86 ms ± 1.43 ms\n"
     ]
    }
   ],
   "source": [
    "cv_results = cross_validate(model_2, data, target, cv=10, return_train_score=True, scoring=\"balanced_accuracy\")\n",
    "\n",
    "train_scores = cv_results[\"train_score\"]\n",
    "test_scores = cv_results[\"test_score\"]\n",
    "time = cv_results[\"fit_time\"]\n",
    "\n",
    "print(\n",
    "    \"The mean cross-validation train accuracy is: \"\n",
    "    f\"{train_scores.mean():.3f} ± {train_scores.std():.3f} \"\n",
    ")\n",
    "print(\n",
    "    \"The mean cross-validation test accuracy is: \"\n",
    "    f\"{test_scores.mean():.3f} ± {test_scores.std():.3f} \"\n",
    ")\n",
    "print(\n",
    "    \"The mean fit time is: \"\n",
    "    f\"{1000*time.mean():.2f} ms ± {1000*time.std():.2f} ms\"\n",
    ")"
   ]
  },
  {
   "cell_type": "markdown",
   "metadata": {},
   "source": [
    "For this specific dataset, we do not see a drastic improvement in the model performance. However, The k-nearest neighbor algorithm relies on majority voting based on class membership of 'k' nearest samples for a given test point. The nearness of samples is typically based on Euclidean distance. Without normalization, the nearest neighbors are mainly defined by the feature with the bigger range/numbers, which leads to incorrect classification.\n",
    "\n",
    "Normalization and Standardization helps solve the problem, as most feature will lie more or less on the same range, therefore contributing approximately equally to the distance computation. \n",
    "\n",
    "For more reading:\n",
    "* [Should I normalize or standardize my dataset for knn?](https://stackoverflow.com/questions/55073423/should-i-normalize-or-standardize-my-dataset-for-knn)\n",
    "* [Accuracy difference on normalization in KNN](https://stackoverflow.com/questions/42092448/accuracy-difference-on-normalization-in-knn?rq=3)\n",
    "* [Why do you need to scale data in KNN](https://stats.stackexchange.com/questions/287425/why-do-you-need-to-scale-data-in-knn)"
   ]
  }
 ],
 "metadata": {
  "kernelspec": {
   "display_name": "Python 3 (ipykernel)",
   "language": "python",
   "name": "python3"
  },
  "language_info": {
   "codemirror_mode": {
    "name": "ipython",
    "version": 3
   },
   "file_extension": ".py",
   "mimetype": "text/x-python",
   "name": "python",
   "nbconvert_exporter": "python",
   "pygments_lexer": "ipython3",
   "version": "3.11.4"
  }
 },
 "nbformat": 4,
 "nbformat_minor": 4
}
