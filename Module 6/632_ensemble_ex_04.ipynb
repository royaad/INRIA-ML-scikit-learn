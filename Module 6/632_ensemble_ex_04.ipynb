{
 "cells": [
  {
   "cell_type": "markdown",
   "id": "e02704dc",
   "metadata": {},
   "source": [
    "# 📝 Exercise M6.04\n",
    "\n",
    "The aim of the exercise is to get familiar with the histogram\n",
    "gradient-boosting in scikit-learn. Besides, we will use this model within a\n",
    "cross-validation framework in order to inspect internal parameters found via\n",
    "grid-search.\n",
    "\n",
    "We will use the California housing dataset."
   ]
  },
  {
   "cell_type": "code",
   "execution_count": 1,
   "id": "75d32517",
   "metadata": {},
   "outputs": [],
   "source": [
    "from sklearn.datasets import fetch_california_housing\n",
    "\n",
    "data, target = fetch_california_housing(return_X_y=True, as_frame=True)\n",
    "target *= 100  # rescale the target in k$"
   ]
  },
  {
   "cell_type": "markdown",
   "id": "6b14e0c6",
   "metadata": {},
   "source": [
    "First, create a histogram gradient boosting regressor. You can set the trees\n",
    "number to be large, and configure the model to use early-stopping."
   ]
  },
  {
   "cell_type": "code",
   "execution_count": 2,
   "id": "de228401",
   "metadata": {},
   "outputs": [],
   "source": [
    "# Write your code here.\n",
    "from sklearn.ensemble import HistGradientBoostingRegressor\n",
    "\n",
    "hgbr = HistGradientBoostingRegressor(max_iter=1000, early_stopping=True, random_state=0)"
   ]
  },
  {
   "cell_type": "markdown",
   "id": "e6e9cae3",
   "metadata": {},
   "source": [
    "We will use a grid-search to find some optimal parameter for this model. In\n",
    "this grid-search, you should search for the following parameters:\n",
    "\n",
    "* `max_depth: [3, 8]`;\n",
    "* `max_leaf_nodes: [15, 31]`;\n",
    "* `learning_rate: [0.1, 1]`.\n",
    "\n",
    "Feel free to explore the space with additional values. Create the grid-search\n",
    "providing the previous gradient boosting instance as the model."
   ]
  },
  {
   "cell_type": "code",
   "execution_count": 3,
   "id": "f7d62900",
   "metadata": {},
   "outputs": [],
   "source": [
    "# Write your code here.\n",
    "from sklearn.model_selection import GridSearchCV\n",
    "param_grid = {\"max_depth\": [3, 8],\n",
    "              \"max_leaf_nodes\": [15, 31],\n",
    "              \"learning_rate\": [0.1, 1]}\n",
    "\n",
    "hgbr_grid = GridSearchCV(hgbr, param_grid=param_grid, n_jobs=2, cv=5)"
   ]
  },
  {
   "cell_type": "markdown",
   "id": "f2e45289",
   "metadata": {},
   "source": [
    "Finally, we will run our experiment through cross-validation. In this regard,\n",
    "define a 5-fold cross-validation. Besides, be sure to shuffle the data.\n",
    "Subsequently, use the function `sklearn.model_selection.cross_validate` to run\n",
    "the cross-validation. You should also set `return_estimator=True`, so that we\n",
    "can investigate the inner model trained via cross-validation."
   ]
  },
  {
   "cell_type": "code",
   "execution_count": 4,
   "id": "971713d1",
   "metadata": {},
   "outputs": [],
   "source": [
    "# Write your code here.\n",
    "from sklearn.model_selection import cross_validate\n",
    "from sklearn.model_selection import KFold\n",
    "\n",
    "cv = KFold(n_splits=5, shuffle=True, random_state=0)\n",
    "\n",
    "cv_results = cross_validate(hgbr_grid, data, target, cv=cv, return_estimator=True, n_jobs=2)\n"
   ]
  },
  {
   "cell_type": "markdown",
   "metadata": {},
   "source": [
    "We can check the indices of the splits by using the following code,\n",
    "\n",
    "Code 1"
   ]
  },
  {
   "cell_type": "code",
   "execution_count": 5,
   "metadata": {},
   "outputs": [
    {
     "name": "stdout",
     "output_type": "stream",
     "text": [
      "Fold 0:\n",
      "  Train: index=[    0     1     2 ... 20637 20638 20639]\n",
      "  Test:  index=[    7     8    12 ... 20626 20629 20630]\n",
      "Fold 1:\n",
      "  Train: index=[    0     1     2 ... 20636 20637 20638]\n",
      "  Test:  index=[    9    20    27 ... 20610 20617 20639]\n",
      "Fold 2:\n",
      "  Train: index=[    1     4     6 ... 20633 20634 20639]\n",
      "  Test:  index=[    0     2     3 ... 20636 20637 20638]\n",
      "Fold 3:\n",
      "  Train: index=[    0     2     3 ... 20637 20638 20639]\n",
      "  Test:  index=[    1     4     6 ... 20624 20632 20633]\n",
      "Fold 4:\n",
      "  Train: index=[    0     1     2 ... 20637 20638 20639]\n",
      "  Test:  index=[   10    13    19 ... 20620 20622 20634]\n"
     ]
    }
   ],
   "source": [
    "for i, (train_index, test_index) in enumerate(cv.split(data)):\n",
    "    print(f\"Fold {i}:\")\n",
    "    print(f\"  Train: index={train_index}\")\n",
    "    print(f\"  Test:  index={test_index}\")"
   ]
  },
  {
   "cell_type": "markdown",
   "metadata": {},
   "source": [
    "Code 2"
   ]
  },
  {
   "cell_type": "code",
   "execution_count": 6,
   "metadata": {},
   "outputs": [
    {
     "name": "stdout",
     "output_type": "stream",
     "text": [
      "(array([    0,     1,     2, ..., 20637, 20638, 20639]), array([    7,     8,    12, ..., 20626, 20629, 20630]))\n",
      "(array([    0,     1,     2, ..., 20636, 20637, 20638]), array([    9,    20,    27, ..., 20610, 20617, 20639]))\n",
      "(array([    1,     4,     6, ..., 20633, 20634, 20639]), array([    0,     2,     3, ..., 20636, 20637, 20638]))\n",
      "(array([    0,     2,     3, ..., 20637, 20638, 20639]), array([    1,     4,     6, ..., 20624, 20632, 20633]))\n",
      "(array([    0,     1,     2, ..., 20637, 20638, 20639]), array([   10,    13,    19, ..., 20620, 20622, 20634]))\n"
     ]
    }
   ],
   "source": [
    "Random_Iter = cv.split(data)\n",
    "for i in range(cv.get_n_splits()):\n",
    "    print(next(Random_Iter))"
   ]
  },
  {
   "cell_type": "markdown",
   "id": "88c6bbe3",
   "metadata": {},
   "source": [
    "Now that we got the cross-validation results, print out the mean and standard\n",
    "deviation score."
   ]
  },
  {
   "cell_type": "code",
   "execution_count": 7,
   "id": "cdd65daa",
   "metadata": {},
   "outputs": [
    {
     "name": "stdout",
     "output_type": "stream",
     "text": [
      "R2 score with cross-validation: 0.839 ± 0.006\n"
     ]
    }
   ],
   "source": [
    "# Write your code here.\n",
    "print(f\"R2 score with cross-validation: {cv_results['test_score'].mean():.3f} ± \"\n",
    "      f\"{cv_results['test_score'].std():.3f}\")"
   ]
  },
  {
   "cell_type": "markdown",
   "id": "44f757a2",
   "metadata": {},
   "source": [
    "Then inspect the `estimator` entry of the results and check the best\n",
    "parameters values. Besides, check the number of trees used by the model."
   ]
  },
  {
   "cell_type": "code",
   "execution_count": 9,
   "id": "2b2eeea0",
   "metadata": {},
   "outputs": [
    {
     "name": "stdout",
     "output_type": "stream",
     "text": [
      "{'learning_rate': 0.1, 'max_depth': 3, 'max_leaf_nodes': 15}\n",
      "528\n",
      "{'learning_rate': 0.1, 'max_depth': 8, 'max_leaf_nodes': 15}\n",
      "447\n",
      "{'learning_rate': 0.1, 'max_depth': 3, 'max_leaf_nodes': 15}\n",
      "576\n",
      "{'learning_rate': 0.1, 'max_depth': 8, 'max_leaf_nodes': 15}\n",
      "290\n",
      "{'learning_rate': 0.1, 'max_depth': 8, 'max_leaf_nodes': 15}\n",
      "414\n"
     ]
    }
   ],
   "source": [
    "# Write your code here.\n",
    "for estimator in cv_results[\"estimator\"]:\n",
    "    print(estimator.best_params_)\n",
    "    print(estimator.best_estimator_.n_iter_)"
   ]
  },
  {
   "cell_type": "markdown",
   "id": "a9093c15",
   "metadata": {},
   "source": [
    "Inspect the results of the inner CV for each estimator of the outer CV.\n",
    "Aggregate the mean test score for each parameter combination and make a box\n",
    "plot of these scores."
   ]
  },
  {
   "cell_type": "code",
   "execution_count": 34,
   "id": "201f5d97",
   "metadata": {},
   "outputs": [
    {
     "data": {
      "text/html": [
       "<div>\n",
       "<style scoped>\n",
       "    .dataframe tbody tr th:only-of-type {\n",
       "        vertical-align: middle;\n",
       "    }\n",
       "\n",
       "    .dataframe tbody tr th {\n",
       "        vertical-align: top;\n",
       "    }\n",
       "\n",
       "    .dataframe thead tr th {\n",
       "        text-align: left;\n",
       "    }\n",
       "</style>\n",
       "<table border=\"1\" class=\"dataframe\">\n",
       "  <thead>\n",
       "    <tr>\n",
       "      <th>param_max_depth</th>\n",
       "      <th colspan=\"2\" halign=\"left\">3</th>\n",
       "      <th colspan=\"2\" halign=\"left\">8</th>\n",
       "      <th colspan=\"2\" halign=\"left\">3</th>\n",
       "      <th colspan=\"2\" halign=\"left\">8</th>\n",
       "    </tr>\n",
       "    <tr>\n",
       "      <th>param_max_leaf_nodes</th>\n",
       "      <th>15</th>\n",
       "      <th>31</th>\n",
       "      <th>15</th>\n",
       "      <th>31</th>\n",
       "      <th>15</th>\n",
       "      <th>31</th>\n",
       "      <th>15</th>\n",
       "      <th>31</th>\n",
       "    </tr>\n",
       "    <tr>\n",
       "      <th>param_learning_rate</th>\n",
       "      <th>0.1</th>\n",
       "      <th>0.1</th>\n",
       "      <th>0.1</th>\n",
       "      <th>0.1</th>\n",
       "      <th>1</th>\n",
       "      <th>1</th>\n",
       "      <th>1</th>\n",
       "      <th>1</th>\n",
       "    </tr>\n",
       "  </thead>\n",
       "  <tbody>\n",
       "    <tr>\n",
       "      <th>CV 0</th>\n",
       "      <td>0.696279</td>\n",
       "      <td>0.696279</td>\n",
       "      <td>0.695167</td>\n",
       "      <td>0.689567</td>\n",
       "      <td>0.594949</td>\n",
       "      <td>0.594949</td>\n",
       "      <td>0.594929</td>\n",
       "      <td>0.542924</td>\n",
       "    </tr>\n",
       "    <tr>\n",
       "      <th>CV 1</th>\n",
       "      <td>0.693432</td>\n",
       "      <td>0.693432</td>\n",
       "      <td>0.709576</td>\n",
       "      <td>0.692818</td>\n",
       "      <td>0.635830</td>\n",
       "      <td>0.635830</td>\n",
       "      <td>0.574798</td>\n",
       "      <td>0.548045</td>\n",
       "    </tr>\n",
       "    <tr>\n",
       "      <th>CV 2</th>\n",
       "      <td>0.703452</td>\n",
       "      <td>0.703452</td>\n",
       "      <td>0.699527</td>\n",
       "      <td>0.689627</td>\n",
       "      <td>0.609780</td>\n",
       "      <td>0.609780</td>\n",
       "      <td>0.587401</td>\n",
       "      <td>0.557469</td>\n",
       "    </tr>\n",
       "    <tr>\n",
       "      <th>CV 3</th>\n",
       "      <td>0.675031</td>\n",
       "      <td>0.675031</td>\n",
       "      <td>0.686113</td>\n",
       "      <td>0.683151</td>\n",
       "      <td>0.601173</td>\n",
       "      <td>0.601173</td>\n",
       "      <td>0.599924</td>\n",
       "      <td>0.537000</td>\n",
       "    </tr>\n",
       "    <tr>\n",
       "      <th>CV 4</th>\n",
       "      <td>0.678721</td>\n",
       "      <td>0.678721</td>\n",
       "      <td>0.696453</td>\n",
       "      <td>0.690846</td>\n",
       "      <td>0.621719</td>\n",
       "      <td>0.621719</td>\n",
       "      <td>0.586566</td>\n",
       "      <td>0.559147</td>\n",
       "    </tr>\n",
       "  </tbody>\n",
       "</table>\n",
       "</div>"
      ],
      "text/plain": [
       "param_max_depth              3                   8                   3  \\\n",
       "param_max_leaf_nodes        15        31        15        31        15   \n",
       "param_learning_rate        0.1       0.1       0.1       0.1         1   \n",
       "CV 0                  0.696279  0.696279  0.695167  0.689567  0.594949   \n",
       "CV 1                  0.693432  0.693432  0.709576  0.692818  0.635830   \n",
       "CV 2                  0.703452  0.703452  0.699527  0.689627  0.609780   \n",
       "CV 3                  0.675031  0.675031  0.686113  0.683151  0.601173   \n",
       "CV 4                  0.678721  0.678721  0.696453  0.690846  0.621719   \n",
       "\n",
       "param_max_depth                        8            \n",
       "param_max_leaf_nodes        31        15        31  \n",
       "param_learning_rate          1         1         1  \n",
       "CV 0                  0.594949  0.594929  0.542924  \n",
       "CV 1                  0.635830  0.574798  0.548045  \n",
       "CV 2                  0.609780  0.587401  0.557469  \n",
       "CV 3                  0.601173  0.599924  0.537000  \n",
       "CV 4                  0.621719  0.586566  0.559147  "
      ]
     },
     "execution_count": 34,
     "metadata": {},
     "output_type": "execute_result"
    }
   ],
   "source": [
    "# Write your code here.\n",
    "import pandas as pd\n",
    "\n",
    "index_columns = [f\"param_{name}\" for name in param_grid.keys()]\n",
    "columns = index_columns + [\"mean_test_score\"]\n",
    "\n",
    "inner_cv_results = []\n",
    "for cv_idx, estimator in enumerate(cv_results[\"estimator\"]):\n",
    "    search_cv_results = pd.DataFrame(estimator.cv_results_)\n",
    "    search_cv_results = search_cv_results[columns].set_index(index_columns)\n",
    "    search_cv_results = search_cv_results.rename(\n",
    "        columns={\"mean_test_score\": f\"CV {cv_idx}\"}\n",
    "    )\n",
    "    inner_cv_results.append(search_cv_results)\n",
    "inner_cv_results = pd.concat(inner_cv_results, axis=1).T\n",
    "\n",
    "inner_cv_results"
   ]
  },
  {
   "cell_type": "code",
   "execution_count": 49,
   "metadata": {},
   "outputs": [
    {
     "data": {
      "image/png": "[encoded data removed]",
      "text/plain": [
       "<Figure size 640x480 with 1 Axes>"
      ]
     },
     "metadata": {},
     "output_type": "display_data"
    }
   ],
   "source": [
    "import matplotlib.pyplot as plt\n",
    "\n",
    "color = {\"boxes\": \"tab:blue\", \"whiskers\": \"black\", \"medians\": \"tab:orange\", \"caps\": \"black\"}\n",
    "inner_cv_results.plot.box(vert=False, color=color, patch_artist=True)\n",
    "plt.xlabel(\"R2 score\")\n",
    "plt.ylabel(\"Parameters\")\n",
    "_ = plt.title(\n",
    "    \"Inner CV results with parameters\\n\"\n",
    "    \"(max_depth, max_leaf_nodes, learning_rate)\"\n",
    ")"
   ]
  }
 ],
 "metadata": {
  "jupytext": {
   "main_language": "python"
  },
  "kernelspec": {
   "display_name": "Python 3 (ipykernel)",
   "language": "python",
   "name": "python3"
  },
  "language_info": {
   "codemirror_mode": {
    "name": "ipython",
    "version": 3
   },
   "file_extension": ".py",
   "mimetype": "text/x-python",
   "name": "python",
   "nbconvert_exporter": "python",
   "pygments_lexer": "ipython3",
   "version": "3.11.4"
  },
  "nbreset": "https://raw.githubusercontent.com/INRIA/scikit-learn-mooc/main/notebooks/ensemble_ex_04.ipynb"
 },
 "nbformat": 4,
 "nbformat_minor": 5
}
