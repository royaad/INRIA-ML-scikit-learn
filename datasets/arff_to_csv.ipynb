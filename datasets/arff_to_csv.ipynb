{
 "cells": [
  {
   "cell_type": "markdown",
   "metadata": {},
   "source": [
    "# ARFF to CSV Conversion"
   ]
  },
  {
   "cell_type": "markdown",
   "metadata": {},
   "source": [
    "## Importing libraries"
   ]
  },
  {
   "cell_type": "code",
   "execution_count": 3,
   "metadata": {},
   "outputs": [],
   "source": [
    "from scipy.io import arff\n",
    "import pandas as pd"
   ]
  },
  {
   "cell_type": "markdown",
   "metadata": {},
   "source": [
    "## Reading ARFF file using scipy"
   ]
  },
  {
   "cell_type": "code",
   "execution_count": 21,
   "metadata": {},
   "outputs": [
    {
     "data": {
      "text/html": [
       "<div>\n",
       "<style scoped>\n",
       "    .dataframe tbody tr th:only-of-type {\n",
       "        vertical-align: middle;\n",
       "    }\n",
       "\n",
       "    .dataframe tbody tr th {\n",
       "        vertical-align: top;\n",
       "    }\n",
       "\n",
       "    .dataframe thead th {\n",
       "        text-align: right;\n",
       "    }\n",
       "</style>\n",
       "<table border=\"1\" class=\"dataframe\">\n",
       "  <thead>\n",
       "    <tr style=\"text-align: right;\">\n",
       "      <th></th>\n",
       "      <th>age</th>\n",
       "      <th>workclass</th>\n",
       "      <th>fnlwgt</th>\n",
       "      <th>education</th>\n",
       "      <th>education-num</th>\n",
       "      <th>marital-status</th>\n",
       "      <th>occupation</th>\n",
       "      <th>relationship</th>\n",
       "      <th>race</th>\n",
       "      <th>sex</th>\n",
       "      <th>capital-gain</th>\n",
       "      <th>capital-loss</th>\n",
       "      <th>hours-per-week</th>\n",
       "      <th>native-country</th>\n",
       "      <th>class</th>\n",
       "    </tr>\n",
       "  </thead>\n",
       "  <tbody>\n",
       "    <tr>\n",
       "      <th>0</th>\n",
       "      <td>25.0</td>\n",
       "      <td>b'Private'</td>\n",
       "      <td>226802.0</td>\n",
       "      <td>b'11th'</td>\n",
       "      <td>7.0</td>\n",
       "      <td>b'Never-married'</td>\n",
       "      <td>b'Machine-op-inspct'</td>\n",
       "      <td>b'Own-child'</td>\n",
       "      <td>b'Black'</td>\n",
       "      <td>b'Male'</td>\n",
       "      <td>0.0</td>\n",
       "      <td>0.0</td>\n",
       "      <td>40.0</td>\n",
       "      <td>b'United-States'</td>\n",
       "      <td>b'&lt;=50K'</td>\n",
       "    </tr>\n",
       "    <tr>\n",
       "      <th>1</th>\n",
       "      <td>38.0</td>\n",
       "      <td>b'Private'</td>\n",
       "      <td>89814.0</td>\n",
       "      <td>b'HS-grad'</td>\n",
       "      <td>9.0</td>\n",
       "      <td>b'Married-civ-spouse'</td>\n",
       "      <td>b'Farming-fishing'</td>\n",
       "      <td>b'Husband'</td>\n",
       "      <td>b'White'</td>\n",
       "      <td>b'Male'</td>\n",
       "      <td>0.0</td>\n",
       "      <td>0.0</td>\n",
       "      <td>50.0</td>\n",
       "      <td>b'United-States'</td>\n",
       "      <td>b'&lt;=50K'</td>\n",
       "    </tr>\n",
       "    <tr>\n",
       "      <th>2</th>\n",
       "      <td>28.0</td>\n",
       "      <td>b'Local-gov'</td>\n",
       "      <td>336951.0</td>\n",
       "      <td>b'Assoc-acdm'</td>\n",
       "      <td>12.0</td>\n",
       "      <td>b'Married-civ-spouse'</td>\n",
       "      <td>b'Protective-serv'</td>\n",
       "      <td>b'Husband'</td>\n",
       "      <td>b'White'</td>\n",
       "      <td>b'Male'</td>\n",
       "      <td>0.0</td>\n",
       "      <td>0.0</td>\n",
       "      <td>40.0</td>\n",
       "      <td>b'United-States'</td>\n",
       "      <td>b'&gt;50K'</td>\n",
       "    </tr>\n",
       "    <tr>\n",
       "      <th>3</th>\n",
       "      <td>44.0</td>\n",
       "      <td>b'Private'</td>\n",
       "      <td>160323.0</td>\n",
       "      <td>b'Some-college'</td>\n",
       "      <td>10.0</td>\n",
       "      <td>b'Married-civ-spouse'</td>\n",
       "      <td>b'Machine-op-inspct'</td>\n",
       "      <td>b'Husband'</td>\n",
       "      <td>b'Black'</td>\n",
       "      <td>b'Male'</td>\n",
       "      <td>7688.0</td>\n",
       "      <td>0.0</td>\n",
       "      <td>40.0</td>\n",
       "      <td>b'United-States'</td>\n",
       "      <td>b'&gt;50K'</td>\n",
       "    </tr>\n",
       "    <tr>\n",
       "      <th>4</th>\n",
       "      <td>18.0</td>\n",
       "      <td>b'?'</td>\n",
       "      <td>103497.0</td>\n",
       "      <td>b'Some-college'</td>\n",
       "      <td>10.0</td>\n",
       "      <td>b'Never-married'</td>\n",
       "      <td>b'?'</td>\n",
       "      <td>b'Own-child'</td>\n",
       "      <td>b'White'</td>\n",
       "      <td>b'Female'</td>\n",
       "      <td>0.0</td>\n",
       "      <td>0.0</td>\n",
       "      <td>30.0</td>\n",
       "      <td>b'United-States'</td>\n",
       "      <td>b'&lt;=50K'</td>\n",
       "    </tr>\n",
       "  </tbody>\n",
       "</table>\n",
       "</div>"
      ],
      "text/plain": [
       "    age     workclass    fnlwgt        education  education-num  \\\n",
       "0  25.0    b'Private'  226802.0          b'11th'            7.0   \n",
       "1  38.0    b'Private'   89814.0       b'HS-grad'            9.0   \n",
       "2  28.0  b'Local-gov'  336951.0    b'Assoc-acdm'           12.0   \n",
       "3  44.0    b'Private'  160323.0  b'Some-college'           10.0   \n",
       "4  18.0          b'?'  103497.0  b'Some-college'           10.0   \n",
       "\n",
       "          marital-status            occupation  relationship      race  \\\n",
       "0       b'Never-married'  b'Machine-op-inspct'  b'Own-child'  b'Black'   \n",
       "1  b'Married-civ-spouse'    b'Farming-fishing'    b'Husband'  b'White'   \n",
       "2  b'Married-civ-spouse'    b'Protective-serv'    b'Husband'  b'White'   \n",
       "3  b'Married-civ-spouse'  b'Machine-op-inspct'    b'Husband'  b'Black'   \n",
       "4       b'Never-married'                  b'?'  b'Own-child'  b'White'   \n",
       "\n",
       "         sex  capital-gain  capital-loss  hours-per-week    native-country  \\\n",
       "0    b'Male'           0.0           0.0            40.0  b'United-States'   \n",
       "1    b'Male'           0.0           0.0            50.0  b'United-States'   \n",
       "2    b'Male'           0.0           0.0            40.0  b'United-States'   \n",
       "3    b'Male'        7688.0           0.0            40.0  b'United-States'   \n",
       "4  b'Female'           0.0           0.0            30.0  b'United-States'   \n",
       "\n",
       "      class  \n",
       "0  b'<=50K'  \n",
       "1  b'<=50K'  \n",
       "2   b'>50K'  \n",
       "3   b'>50K'  \n",
       "4  b'<=50K'  "
      ]
     },
     "execution_count": 21,
     "metadata": {},
     "output_type": "execute_result"
    }
   ],
   "source": [
    "filename = 'adult-census'\n",
    "data, meta = arff.loadarff(filename+'.arff')\n",
    "df = pd.DataFrame(data)\n",
    "df.head()"
   ]
  },
  {
   "cell_type": "markdown",
   "metadata": {},
   "source": [
    "## Save to CSV without procession"
   ]
  },
  {
   "cell_type": "code",
   "execution_count": null,
   "metadata": {},
   "outputs": [],
   "source": [
    "df.to_csv(filename+'.csv')"
   ]
  },
  {
   "cell_type": "markdown",
   "metadata": {},
   "source": [
    "## Save to CSV after conversion from binary to string"
   ]
  },
  {
   "cell_type": "code",
   "execution_count": 45,
   "metadata": {},
   "outputs": [],
   "source": [
    "for col in df.columns:\n",
    "    # check if element is binary\n",
    "    if isinstance(df[col][0], bytes):\n",
    "        # if binary, decode string\n",
    "        df[col] = df[col].apply(lambda x: x.decode('utf-8'))\n",
    "\n",
    "df.head()\n",
    "df.to_csv(filename+'.csv')"
   ]
  },
  {
   "cell_type": "markdown",
   "metadata": {},
   "source": [
    "## Further Reading"
   ]
  },
  {
   "cell_type": "markdown",
   "metadata": {},
   "source": [
    "* [scipy.io.arff.loadarff](https://docs.scipy.org/doc/scipy/reference/generated/scipy.io.arff.loadarff.html)\n",
    "* [Python - how to check if a string is binary](https://stackoverflow.com/questions/74205146/python-how-to-check-if-a-string-is-binary)\n",
    "* [Python Strings decode() method](https://www.geeksforgeeks.org/python-strings-decode-method/)"
   ]
  }
 ],
 "metadata": {
  "kernelspec": {
   "display_name": "Python 3",
   "language": "python",
   "name": "python3"
  },
  "language_info": {
   "codemirror_mode": {
    "name": "ipython",
    "version": 3
   },
   "file_extension": ".py",
   "mimetype": "text/x-python",
   "name": "python",
   "nbconvert_exporter": "python",
   "pygments_lexer": "ipython3",
   "version": "3.11.4"
  }
 },
 "nbformat": 4,
 "nbformat_minor": 2
}
