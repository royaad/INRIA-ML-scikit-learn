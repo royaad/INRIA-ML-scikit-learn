{
 "cells": [
  {
   "cell_type": "markdown",
   "id": "8aa969ea",
   "metadata": {},
   "source": [
    "# 📝 Exercise M3.01\n",
    "\n",
    "The goal is to write an exhaustive search to find the best parameters\n",
    "combination maximizing the model generalization performance.\n",
    "\n",
    "Here we use a small subset of the Adult Census dataset to make the code faster\n",
    "to execute. Once your code works on the small subset, try to change\n",
    "`train_size` to a larger value (e.g. 0.8 for 80% instead of 20%)."
   ]
  },
  {
   "cell_type": "code",
   "execution_count": 1,
   "id": "9df13f20",
   "metadata": {},
   "outputs": [],
   "source": [
    "import pandas as pd\n",
    "\n",
    "from sklearn.model_selection import train_test_split\n",
    "\n",
    "adult_census = pd.read_csv(\"../datasets/adult-census.csv\")\n",
    "\n",
    "target_name = \"class\"\n",
    "target = adult_census[target_name]\n",
    "data = adult_census.drop(columns=[target_name, \"education-num\"])\n",
    "\n",
    "data_train, data_test, target_train, target_test = train_test_split(\n",
    "    data, target, train_size=0.2, random_state=42\n",
    ")"
   ]
  },
  {
   "cell_type": "code",
   "execution_count": 2,
   "id": "708ba0a3",
   "metadata": {},
   "outputs": [],
   "source": [
    "from sklearn.compose import ColumnTransformer\n",
    "from sklearn.compose import make_column_selector as selector\n",
    "from sklearn.preprocessing import OrdinalEncoder\n",
    "\n",
    "categorical_preprocessor = OrdinalEncoder(\n",
    "    handle_unknown=\"use_encoded_value\", unknown_value=-1\n",
    ")\n",
    "preprocessor = ColumnTransformer(\n",
    "    [\n",
    "        (\n",
    "            \"cat_preprocessor\",\n",
    "            categorical_preprocessor,\n",
    "            selector(dtype_include=object),\n",
    "        )\n",
    "    ],\n",
    "    remainder=\"passthrough\",\n",
    ")\n",
    "\n",
    "from sklearn.ensemble import HistGradientBoostingClassifier\n",
    "from sklearn.pipeline import Pipeline\n",
    "\n",
    "model = Pipeline(\n",
    "    [\n",
    "        (\"preprocessor\", preprocessor),\n",
    "        (\"classifier\", HistGradientBoostingClassifier(random_state=42)),\n",
    "    ]\n",
    ")"
   ]
  },
  {
   "cell_type": "markdown",
   "id": "f4653a71",
   "metadata": {},
   "source": [
    "Use the previously defined model (called `model`) and using two nested `for`\n",
    "loops, make a search of the best combinations of the `learning_rate` and\n",
    "`max_leaf_nodes` parameters. In this regard, you have to train and test the\n",
    "model by setting the parameters. The evaluation of the model should be\n",
    "performed using `cross_val_score` on the training set. Use the following\n",
    "parameters search:\n",
    "- `learning_rate` for the values 0.01, 0.1, 1 and 10. This parameter controls\n",
    "  the ability of a new tree to correct the error of the previous sequence of\n",
    "  trees\n",
    "- `max_leaf_nodes` for the values 3, 10, 30. This parameter controls the depth\n",
    "  of each tree."
   ]
  },
  {
   "cell_type": "code",
   "execution_count": 16,
   "id": "0dccef7b",
   "metadata": {},
   "outputs": [
    {
     "name": "stdout",
     "output_type": "stream",
     "text": [
      "Avg. Accuracy for lr =  0.01 and max leaf nodes =     3 is 0.790\n",
      "Avg. Accuracy for lr =  0.01 and max leaf nodes =    10 is 0.814\n",
      "Avg. Accuracy for lr =  0.01 and max leaf nodes =    30 is 0.842\n",
      "Avg. Accuracy for lr =   0.1 and max leaf nodes =     3 is 0.849\n",
      "Avg. Accuracy for lr =   0.1 and max leaf nodes =    10 is 0.863\n",
      "Avg. Accuracy for lr =   0.1 and max leaf nodes =    30 is 0.861\n",
      "Avg. Accuracy for lr =     1 and max leaf nodes =     3 is 0.852\n",
      "Avg. Accuracy for lr =     1 and max leaf nodes =    10 is 0.853\n",
      "Avg. Accuracy for lr =     1 and max leaf nodes =    30 is 0.839\n",
      "Avg. Accuracy for lr =    10 and max leaf nodes =     3 is 0.288\n",
      "Avg. Accuracy for lr =    10 and max leaf nodes =    10 is 0.282\n",
      "Avg. Accuracy for lr =    10 and max leaf nodes =    30 is 0.540\n"
     ]
    }
   ],
   "source": [
    "# Write your code here.\n",
    "from sklearn.model_selection import cross_val_score\n",
    "\n",
    "learning_rate = [.01, .1, 1, 10]\n",
    "max_leaf_nodes = [3, 10, 30]\n",
    "best_score = 0\n",
    "\n",
    "for lr in learning_rate:\n",
    "    for mln in max_leaf_nodes:\n",
    "        model.set_params(classifier__learning_rate=lr, classifier__max_leaf_nodes=mln)\n",
    "        # print(model.get_params()['classifier__learning_rate'], model.get_params()['classifier__max_leaf_nodes'])\n",
    "        scores = cross_val_score(model, data_train, target_train)\n",
    "        mean_score = scores.mean()\n",
    "        if mean_score > best_score:\n",
    "            best_score = mean_score # update best score\n",
    "            best_lr = lr            # save the best lr\n",
    "            best_mln = mln          # save the best mln\n",
    "        print(f\"Avg. Accuracy for lr = {lr:>5} and max leaf nodes = {mln:>5} is {scores.mean():.3f}\")"
   ]
  },
  {
   "cell_type": "markdown",
   "id": "96154178",
   "metadata": {},
   "source": [
    "Now use the test set to score the model using the best parameters that we\n",
    "found using cross-validation. You will have to refit the model over the full\n",
    "training set."
   ]
  },
  {
   "cell_type": "code",
   "execution_count": 17,
   "id": "05afc0ac",
   "metadata": {},
   "outputs": [
    {
     "name": "stdout",
     "output_type": "stream",
     "text": [
      "The mean cross-validation train accuracy is: 0.873 ± 0.001 \n",
      "The mean cross-validation test accuracy is: 0.870 ± 0.001 \n"
     ]
    }
   ],
   "source": [
    "# Write your code here.\n",
    "from sklearn.model_selection import cross_validate\n",
    "\n",
    "model.set_params(classifier__learning_rate=best_lr, classifier__max_leaf_nodes=best_mln)\n",
    "\n",
    "cv_results = cross_validate(model, data, target, return_train_score=True)\n",
    "\n",
    "train_scores = cv_results[\"train_score\"]\n",
    "test_scores = cv_results[\"test_score\"]\n",
    "\n",
    "print(\n",
    "    \"The mean cross-validation train accuracy is: \"\n",
    "    f\"{train_scores.mean():.3f} ± {train_scores.std():.3f} \"\n",
    ")\n",
    "print(\n",
    "    \"The mean cross-validation test accuracy is: \"\n",
    "    f\"{test_scores.mean():.3f} ± {test_scores.std():.3f} \"\n",
    ")"
   ]
  }
 ],
 "metadata": {
  "jupytext": {
   "main_language": "python"
  },
  "kernelspec": {
   "display_name": "Python 3 (ipykernel)",
   "language": "python",
   "name": "python3"
  },
  "language_info": {
   "codemirror_mode": {
    "name": "ipython",
    "version": 3
   },
   "file_extension": ".py",
   "mimetype": "text/x-python",
   "name": "python",
   "nbconvert_exporter": "python",
   "pygments_lexer": "ipython3",
   "version": "3.11.4"
  },
  "nbreset": "https://raw.githubusercontent.com/INRIA/scikit-learn-mooc/main/notebooks/parameter_tuning_ex_02.ipynb"
 },
 "nbformat": 4,
 "nbformat_minor": 5
}
