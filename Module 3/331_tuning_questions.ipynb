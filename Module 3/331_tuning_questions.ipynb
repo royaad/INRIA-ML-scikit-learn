{
 "cells": [
  {
   "cell_type": "markdown",
   "metadata": {},
   "source": [
    "# Module 3 - Wrap-Up Quiz"
   ]
  },
  {
   "cell_type": "markdown",
   "metadata": {},
   "source": [
    "## Importing Data"
   ]
  },
  {
   "cell_type": "code",
   "execution_count": 1,
   "metadata": {},
   "outputs": [],
   "source": [
    "import pandas as pd\n",
    "\n",
    "penguins = pd.read_csv(\"../datasets/penguins.csv\")\n",
    "\n",
    "columns = [\"Body Mass (g)\", \"Flipper Length (mm)\", \"Culmen Length (mm)\"]\n",
    "target_name = \"Species\"\n",
    "\n",
    "# Remove lines with missing values for the columns of interest\n",
    "penguins_non_missing = penguins[columns + [target_name]].dropna()\n",
    "\n",
    "data = penguins_non_missing[columns]\n",
    "target = penguins_non_missing[target_name]"
   ]
  },
  {
   "cell_type": "markdown",
   "metadata": {},
   "source": [
    "## Checking Target"
   ]
  },
  {
   "cell_type": "code",
   "execution_count": 2,
   "metadata": {},
   "outputs": [
    {
     "data": {
      "text/plain": [
       "Species\n",
       "Adelie Penguin (Pygoscelis adeliae)          0.441520\n",
       "Gentoo penguin (Pygoscelis papua)            0.359649\n",
       "Chinstrap penguin (Pygoscelis antarctica)    0.198830\n",
       "Name: proportion, dtype: float64"
      ]
     },
     "execution_count": 2,
     "metadata": {},
     "output_type": "execute_result"
    }
   ],
   "source": [
    "target.value_counts(normalize=True)"
   ]
  },
  {
   "cell_type": "markdown",
   "metadata": {},
   "source": [
    "## Checking Features"
   ]
  },
  {
   "cell_type": "code",
   "execution_count": 4,
   "metadata": {},
   "outputs": [
    {
     "data": {
      "text/html": [
       "<div>\n",
       "<style scoped>\n",
       "    .dataframe tbody tr th:only-of-type {\n",
       "        vertical-align: middle;\n",
       "    }\n",
       "\n",
       "    .dataframe tbody tr th {\n",
       "        vertical-align: top;\n",
       "    }\n",
       "\n",
       "    .dataframe thead th {\n",
       "        text-align: right;\n",
       "    }\n",
       "</style>\n",
       "<table border=\"1\" class=\"dataframe\">\n",
       "  <thead>\n",
       "    <tr style=\"text-align: right;\">\n",
       "      <th></th>\n",
       "      <th>Body Mass (g)</th>\n",
       "      <th>Flipper Length (mm)</th>\n",
       "      <th>Culmen Length (mm)</th>\n",
       "    </tr>\n",
       "  </thead>\n",
       "  <tbody>\n",
       "    <tr>\n",
       "      <th>count</th>\n",
       "      <td>342.000000</td>\n",
       "      <td>342.000000</td>\n",
       "      <td>342.000000</td>\n",
       "    </tr>\n",
       "    <tr>\n",
       "      <th>mean</th>\n",
       "      <td>4201.754386</td>\n",
       "      <td>200.915205</td>\n",
       "      <td>43.921930</td>\n",
       "    </tr>\n",
       "    <tr>\n",
       "      <th>std</th>\n",
       "      <td>801.954536</td>\n",
       "      <td>14.061714</td>\n",
       "      <td>5.459584</td>\n",
       "    </tr>\n",
       "    <tr>\n",
       "      <th>min</th>\n",
       "      <td>2700.000000</td>\n",
       "      <td>172.000000</td>\n",
       "      <td>32.100000</td>\n",
       "    </tr>\n",
       "    <tr>\n",
       "      <th>25%</th>\n",
       "      <td>3550.000000</td>\n",
       "      <td>190.000000</td>\n",
       "      <td>39.225000</td>\n",
       "    </tr>\n",
       "    <tr>\n",
       "      <th>50%</th>\n",
       "      <td>4050.000000</td>\n",
       "      <td>197.000000</td>\n",
       "      <td>44.450000</td>\n",
       "    </tr>\n",
       "    <tr>\n",
       "      <th>75%</th>\n",
       "      <td>4750.000000</td>\n",
       "      <td>213.000000</td>\n",
       "      <td>48.500000</td>\n",
       "    </tr>\n",
       "    <tr>\n",
       "      <th>max</th>\n",
       "      <td>6300.000000</td>\n",
       "      <td>231.000000</td>\n",
       "      <td>59.600000</td>\n",
       "    </tr>\n",
       "  </tbody>\n",
       "</table>\n",
       "</div>"
      ],
      "text/plain": [
       "       Body Mass (g)  Flipper Length (mm)  Culmen Length (mm)\n",
       "count     342.000000           342.000000          342.000000\n",
       "mean     4201.754386           200.915205           43.921930\n",
       "std       801.954536            14.061714            5.459584\n",
       "min      2700.000000           172.000000           32.100000\n",
       "25%      3550.000000           190.000000           39.225000\n",
       "50%      4050.000000           197.000000           44.450000\n",
       "75%      4750.000000           213.000000           48.500000\n",
       "max      6300.000000           231.000000           59.600000"
      ]
     },
     "execution_count": 4,
     "metadata": {},
     "output_type": "execute_result"
    }
   ],
   "source": [
    "data.describe()"
   ]
  },
  {
   "cell_type": "markdown",
   "metadata": {},
   "source": [
    "## Model"
   ]
  },
  {
   "cell_type": "code",
   "execution_count": 32,
   "metadata": {},
   "outputs": [],
   "source": [
    "from sklearn.neighbors import KNeighborsClassifier\n",
    "from sklearn.preprocessing import StandardScaler\n",
    "from sklearn.pipeline import Pipeline\n",
    "model = Pipeline(steps=[\n",
    "    (\"preprocessor\", StandardScaler()),\n",
    "    (\"classifier\", KNeighborsClassifier(n_neighbors=5)),\n",
    "])"
   ]
  },
  {
   "cell_type": "code",
   "execution_count": 16,
   "metadata": {},
   "outputs": [
    {
     "name": "stdout",
     "output_type": "stream",
     "text": [
      "The mean cross-validation test accuracy is: 0.952 ± 0.040 \n"
     ]
    }
   ],
   "source": [
    "from sklearn.model_selection import cross_validate\n",
    "\n",
    "cv_results = cross_validate(model, data, target, cv=10, scoring=\"balanced_accuracy\")\n",
    "\n",
    "scores_5 = cv_results[\"test_score\"]\n",
    "\n",
    "print(\n",
    "    \"The mean cross-validation test accuracy is: \"\n",
    "    f\"{scores_5.mean():.3f} ± {scores_5.std():.3f} \"\n",
    ")"
   ]
  },
  {
   "cell_type": "code",
   "execution_count": 17,
   "metadata": {},
   "outputs": [
    {
     "name": "stdout",
     "output_type": "stream",
     "text": [
      "[1.         1.         1.         0.91880342 0.88253968 0.95238095\n",
      " 0.97777778 0.93015873 0.90793651 0.95238095]\n"
     ]
    }
   ],
   "source": [
    "print(scores_5)"
   ]
  },
  {
   "cell_type": "markdown",
   "metadata": {},
   "source": [
    "## Manual Parameter Search"
   ]
  },
  {
   "cell_type": "markdown",
   "metadata": {},
   "source": [
    "### n_neighbors = 51"
   ]
  },
  {
   "cell_type": "code",
   "execution_count": 18,
   "metadata": {},
   "outputs": [
    {
     "name": "stdout",
     "output_type": "stream",
     "text": [
      "The mean cross-validation test accuracy is: 0.942 ± 0.039 \n"
     ]
    }
   ],
   "source": [
    "model.set_params(classifier__n_neighbors=51)\n",
    "\n",
    "cv_results = cross_validate(model, data, target, cv=10, scoring=\"balanced_accuracy\")\n",
    "\n",
    "scores_51 = cv_results[\"test_score\"]\n",
    "\n",
    "print(\n",
    "    \"The mean cross-validation test accuracy is: \"\n",
    "    f\"{scores_51.mean():.3f} ± {scores_51.std():.3f} \"\n",
    ")"
   ]
  },
  {
   "cell_type": "code",
   "execution_count": 30,
   "metadata": {},
   "outputs": [
    {
     "name": "stdout",
     "output_type": "stream",
     "text": [
      "[0.95238095 0.97777778 1.         0.86324786 0.88253968 0.95238095\n",
      " 0.95555556 0.95238095 0.93015873 0.95238095]\n"
     ]
    },
    {
     "data": {
      "text/plain": [
       "4"
      ]
     },
     "execution_count": 30,
     "metadata": {},
     "output_type": "execute_result"
    }
   ],
   "source": [
    "print(scores_51)\n",
    "# count the cases where the scores for 51 are bigger than 5\n",
    "(scores_5 > scores_51).sum()"
   ]
  },
  {
   "cell_type": "markdown",
   "metadata": {},
   "source": [
    "### n_neighbors = 101"
   ]
  },
  {
   "cell_type": "code",
   "execution_count": 22,
   "metadata": {},
   "outputs": [
    {
     "name": "stdout",
     "output_type": "stream",
     "text": [
      "The mean cross-validation test accuracy is: 0.877 ± 0.042 \n"
     ]
    }
   ],
   "source": [
    "model.set_params(classifier__n_neighbors=101)\n",
    "\n",
    "cv_results = cross_validate(model, data, target, cv=10, scoring=\"balanced_accuracy\")\n",
    "\n",
    "scores_101 = cv_results[\"test_score\"]\n",
    "\n",
    "print(\n",
    "    \"The mean cross-validation test accuracy is: \"\n",
    "    f\"{scores_101.mean():.3f} ± {scores_101.std():.3f} \"\n",
    ")"
   ]
  },
  {
   "cell_type": "code",
   "execution_count": 29,
   "metadata": {},
   "outputs": [
    {
     "name": "stdout",
     "output_type": "stream",
     "text": [
      "[0.85714286 0.95238095 0.94444444 0.86324786 0.83492063 0.85714286\n",
      " 0.83492063 0.88253968 0.83492063 0.9047619 ]\n"
     ]
    },
    {
     "data": {
      "text/plain": [
       "10"
      ]
     },
     "execution_count": 29,
     "metadata": {},
     "output_type": "execute_result"
    }
   ],
   "source": [
    "print(scores_101)\n",
    "# count the cases where the scores for 51 are bigger than 5\n",
    "# we can also sort before comparing...\n",
    "(scores_5 > scores_101).sum()"
   ]
  },
  {
   "cell_type": "markdown",
   "metadata": {},
   "source": [
    "### Withou StandardScaler"
   ]
  },
  {
   "cell_type": "code",
   "execution_count": 26,
   "metadata": {},
   "outputs": [
    {
     "name": "stdout",
     "output_type": "stream",
     "text": [
      "The mean cross-validation test accuracy is: 0.740 ± 0.087 \n"
     ]
    }
   ],
   "source": [
    "model_2 = KNeighborsClassifier(n_neighbors=5)\n",
    "\n",
    "cv_results = cross_validate(model_2, data, target, cv=10, scoring=\"balanced_accuracy\")\n",
    "\n",
    "scores_wss = cv_results[\"test_score\"]\n",
    "\n",
    "print(\n",
    "    \"The mean cross-validation test accuracy is: \"\n",
    "    f\"{scores_wss.mean():.3f} ± {scores_wss.std():.3f} \"\n",
    ")"
   ]
  },
  {
   "cell_type": "code",
   "execution_count": 28,
   "metadata": {},
   "outputs": [
    {
     "name": "stdout",
     "output_type": "stream",
     "text": [
      "[0.66468254 0.73601954 0.74102564 0.7042735  0.58412698 0.66984127\n",
      " 0.83492063 0.74285714 0.88253968 0.83809524]\n"
     ]
    },
    {
     "data": {
      "text/plain": [
       "10"
      ]
     },
     "execution_count": 28,
     "metadata": {},
     "output_type": "execute_result"
    }
   ],
   "source": [
    "print(scores_wss)\n",
    "(scores_5 > scores_wss).sum()"
   ]
  },
  {
   "cell_type": "markdown",
   "metadata": {},
   "source": [
    "We see the model performs worse without StandardScaler, which is expected."
   ]
  },
  {
   "cell_type": "markdown",
   "metadata": {},
   "source": [
    "## Preprocessing Impact"
   ]
  },
  {
   "cell_type": "code",
   "execution_count": 31,
   "metadata": {},
   "outputs": [],
   "source": [
    "from sklearn.preprocessing import MinMaxScaler\n",
    "from sklearn.preprocessing import QuantileTransformer\n",
    "from sklearn.preprocessing import PowerTransformer\n",
    "\n",
    "\n",
    "all_preprocessors = [\n",
    "    None,\n",
    "    StandardScaler(),\n",
    "    MinMaxScaler(),\n",
    "    QuantileTransformer(n_quantiles=100),\n",
    "    PowerTransformer(method=\"box-cox\"),\n",
    "]"
   ]
  },
  {
   "cell_type": "code",
   "execution_count": 68,
   "metadata": {},
   "outputs": [
    {
     "name": "stdout",
     "output_type": "stream",
     "text": [
      "Fitting 10 folds for each of 15 candidates, totalling 150 fits\n"
     ]
    },
    {
     "data": {
      "text/html": [
       "<style>#sk-container-id-4 {color: black;}#sk-container-id-4 pre{padding: 0;}#sk-container-id-4 div.sk-toggleable {background-color: white;}#sk-container-id-4 label.sk-toggleable__label {cursor: pointer;display: block;width: 100%;margin-bottom: 0;padding: 0.3em;box-sizing: border-box;text-align: center;}#sk-container-id-4 label.sk-toggleable__label-arrow:before {content: \"▸\";float: left;margin-right: 0.25em;color: #696969;}#sk-container-id-4 label.sk-toggleable__label-arrow:hover:before {color: black;}#sk-container-id-4 div.sk-estimator:hover label.sk-toggleable__label-arrow:before {color: black;}#sk-container-id-4 div.sk-toggleable__content {max-height: 0;max-width: 0;overflow: hidden;text-align: left;background-color: #f0f8ff;}#sk-container-id-4 div.sk-toggleable__content pre {margin: 0.2em;color: black;border-radius: 0.25em;background-color: #f0f8ff;}#sk-container-id-4 input.sk-toggleable__control:checked~div.sk-toggleable__content {max-height: 200px;max-width: 100%;overflow: auto;}#sk-container-id-4 input.sk-toggleable__control:checked~label.sk-toggleable__label-arrow:before {content: \"▾\";}#sk-container-id-4 div.sk-estimator input.sk-toggleable__control:checked~label.sk-toggleable__label {background-color: #d4ebff;}#sk-container-id-4 div.sk-label input.sk-toggleable__control:checked~label.sk-toggleable__label {background-color: #d4ebff;}#sk-container-id-4 input.sk-hidden--visually {border: 0;clip: rect(1px 1px 1px 1px);clip: rect(1px, 1px, 1px, 1px);height: 1px;margin: -1px;overflow: hidden;padding: 0;position: absolute;width: 1px;}#sk-container-id-4 div.sk-estimator {font-family: monospace;background-color: #f0f8ff;border: 1px dotted black;border-radius: 0.25em;box-sizing: border-box;margin-bottom: 0.5em;}#sk-container-id-4 div.sk-estimator:hover {background-color: #d4ebff;}#sk-container-id-4 div.sk-parallel-item::after {content: \"\";width: 100%;border-bottom: 1px solid gray;flex-grow: 1;}#sk-container-id-4 div.sk-label:hover label.sk-toggleable__label {background-color: #d4ebff;}#sk-container-id-4 div.sk-serial::before {content: \"\";position: absolute;border-left: 1px solid gray;box-sizing: border-box;top: 0;bottom: 0;left: 50%;z-index: 0;}#sk-container-id-4 div.sk-serial {display: flex;flex-direction: column;align-items: center;background-color: white;padding-right: 0.2em;padding-left: 0.2em;position: relative;}#sk-container-id-4 div.sk-item {position: relative;z-index: 1;}#sk-container-id-4 div.sk-parallel {display: flex;align-items: stretch;justify-content: center;background-color: white;position: relative;}#sk-container-id-4 div.sk-item::before, #sk-container-id-4 div.sk-parallel-item::before {content: \"\";position: absolute;border-left: 1px solid gray;box-sizing: border-box;top: 0;bottom: 0;left: 50%;z-index: -1;}#sk-container-id-4 div.sk-parallel-item {display: flex;flex-direction: column;z-index: 1;position: relative;background-color: white;}#sk-container-id-4 div.sk-parallel-item:first-child::after {align-self: flex-end;width: 50%;}#sk-container-id-4 div.sk-parallel-item:last-child::after {align-self: flex-start;width: 50%;}#sk-container-id-4 div.sk-parallel-item:only-child::after {width: 0;}#sk-container-id-4 div.sk-dashed-wrapped {border: 1px dashed gray;margin: 0 0.4em 0.5em 0.4em;box-sizing: border-box;padding-bottom: 0.4em;background-color: white;}#sk-container-id-4 div.sk-label label {font-family: monospace;font-weight: bold;display: inline-block;line-height: 1.2em;}#sk-container-id-4 div.sk-label-container {text-align: center;}#sk-container-id-4 div.sk-container {/* jupyter's `normalize.less` sets `[hidden] { display: none; }` but bootstrap.min.css set `[hidden] { display: none !important; }` so we also need the `!important` here to be able to override the default hidden behavior on the sphinx rendered scikit-learn.org. See: https://github.com/scikit-learn/scikit-learn/issues/21755 */display: inline-block !important;position: relative;}#sk-container-id-4 div.sk-text-repr-fallback {display: none;}</style><div id=\"sk-container-id-4\" class=\"sk-top-container\"><div class=\"sk-text-repr-fallback\"><pre>GridSearchCV(cv=10,\n",
       "             estimator=Pipeline(steps=[(&#x27;preprocessor&#x27;, StandardScaler()),\n",
       "                                       (&#x27;classifier&#x27;, KNeighborsClassifier())]),\n",
       "             n_jobs=2,\n",
       "             param_grid={&#x27;classifier__n_neighbors&#x27;: [5, 51, 101],\n",
       "                         &#x27;preprocessor&#x27;: [None, StandardScaler(),\n",
       "                                          MinMaxScaler(),\n",
       "                                          QuantileTransformer(n_quantiles=100),\n",
       "                                          PowerTransformer(method=&#x27;box-cox&#x27;)]},\n",
       "             scoring=&#x27;balanced_accuracy&#x27;, verbose=1)</pre><b>In a Jupyter environment, please rerun this cell to show the HTML representation or trust the notebook. <br />On GitHub, the HTML representation is unable to render, please try loading this page with nbviewer.org.</b></div><div class=\"sk-container\" hidden><div class=\"sk-item sk-dashed-wrapped\"><div class=\"sk-label-container\"><div class=\"sk-label sk-toggleable\"><input class=\"sk-toggleable__control sk-hidden--visually\" id=\"sk-estimator-id-9\" type=\"checkbox\" ><label for=\"sk-estimator-id-9\" class=\"sk-toggleable__label sk-toggleable__label-arrow\">GridSearchCV</label><div class=\"sk-toggleable__content\"><pre>GridSearchCV(cv=10,\n",
       "             estimator=Pipeline(steps=[(&#x27;preprocessor&#x27;, StandardScaler()),\n",
       "                                       (&#x27;classifier&#x27;, KNeighborsClassifier())]),\n",
       "             n_jobs=2,\n",
       "             param_grid={&#x27;classifier__n_neighbors&#x27;: [5, 51, 101],\n",
       "                         &#x27;preprocessor&#x27;: [None, StandardScaler(),\n",
       "                                          MinMaxScaler(),\n",
       "                                          QuantileTransformer(n_quantiles=100),\n",
       "                                          PowerTransformer(method=&#x27;box-cox&#x27;)]},\n",
       "             scoring=&#x27;balanced_accuracy&#x27;, verbose=1)</pre></div></div></div><div class=\"sk-parallel\"><div class=\"sk-parallel-item\"><div class=\"sk-item\"><div class=\"sk-label-container\"><div class=\"sk-label sk-toggleable\"><input class=\"sk-toggleable__control sk-hidden--visually\" id=\"sk-estimator-id-10\" type=\"checkbox\" ><label for=\"sk-estimator-id-10\" class=\"sk-toggleable__label sk-toggleable__label-arrow\">estimator: Pipeline</label><div class=\"sk-toggleable__content\"><pre>Pipeline(steps=[(&#x27;preprocessor&#x27;, StandardScaler()),\n",
       "                (&#x27;classifier&#x27;, KNeighborsClassifier())])</pre></div></div></div><div class=\"sk-serial\"><div class=\"sk-item\"><div class=\"sk-serial\"><div class=\"sk-item\"><div class=\"sk-estimator sk-toggleable\"><input class=\"sk-toggleable__control sk-hidden--visually\" id=\"sk-estimator-id-11\" type=\"checkbox\" ><label for=\"sk-estimator-id-11\" class=\"sk-toggleable__label sk-toggleable__label-arrow\">StandardScaler</label><div class=\"sk-toggleable__content\"><pre>StandardScaler()</pre></div></div></div><div class=\"sk-item\"><div class=\"sk-estimator sk-toggleable\"><input class=\"sk-toggleable__control sk-hidden--visually\" id=\"sk-estimator-id-12\" type=\"checkbox\" ><label for=\"sk-estimator-id-12\" class=\"sk-toggleable__label sk-toggleable__label-arrow\">KNeighborsClassifier</label><div class=\"sk-toggleable__content\"><pre>KNeighborsClassifier()</pre></div></div></div></div></div></div></div></div></div></div></div></div>"
      ],
      "text/plain": [
       "GridSearchCV(cv=10,\n",
       "             estimator=Pipeline(steps=[('preprocessor', StandardScaler()),\n",
       "                                       ('classifier', KNeighborsClassifier())]),\n",
       "             n_jobs=2,\n",
       "             param_grid={'classifier__n_neighbors': [5, 51, 101],\n",
       "                         'preprocessor': [None, StandardScaler(),\n",
       "                                          MinMaxScaler(),\n",
       "                                          QuantileTransformer(n_quantiles=100),\n",
       "                                          PowerTransformer(method='box-cox')]},\n",
       "             scoring='balanced_accuracy', verbose=1)"
      ]
     },
     "execution_count": 68,
     "metadata": {},
     "output_type": "execute_result"
    }
   ],
   "source": [
    "from sklearn.model_selection import GridSearchCV\n",
    "\n",
    "param_grid = {\"preprocessor\": all_preprocessors, \"classifier__n_neighbors\": [5, 51, 101]}\n",
    "\n",
    "model_grid_search = GridSearchCV(model, param_grid=param_grid, n_jobs=2, cv=10, verbose=1, scoring = \"balanced_accuracy\")\n",
    "\n",
    "model_grid_search.fit(data, target)"
   ]
  },
  {
   "cell_type": "code",
   "execution_count": 75,
   "metadata": {},
   "outputs": [
    {
     "data": {
      "text/html": [
       "<div>\n",
       "<style scoped>\n",
       "    .dataframe tbody tr th:only-of-type {\n",
       "        vertical-align: middle;\n",
       "    }\n",
       "\n",
       "    .dataframe tbody tr th {\n",
       "        vertical-align: top;\n",
       "    }\n",
       "\n",
       "    .dataframe thead th {\n",
       "        text-align: right;\n",
       "    }\n",
       "</style>\n",
       "<table border=\"1\" class=\"dataframe\">\n",
       "  <thead>\n",
       "    <tr style=\"text-align: right;\">\n",
       "      <th></th>\n",
       "      <th>mean_fit_time</th>\n",
       "      <th>std_fit_time</th>\n",
       "      <th>mean_score_time</th>\n",
       "      <th>std_score_time</th>\n",
       "      <th>param_classifier__n_neighbors</th>\n",
       "      <th>param_preprocessor</th>\n",
       "      <th>params</th>\n",
       "      <th>split0_test_score</th>\n",
       "      <th>split1_test_score</th>\n",
       "      <th>split2_test_score</th>\n",
       "      <th>split3_test_score</th>\n",
       "      <th>split4_test_score</th>\n",
       "      <th>split5_test_score</th>\n",
       "      <th>split6_test_score</th>\n",
       "      <th>split7_test_score</th>\n",
       "      <th>split8_test_score</th>\n",
       "      <th>split9_test_score</th>\n",
       "      <th>mean_test_score</th>\n",
       "      <th>std_test_score</th>\n",
       "      <th>rank_test_score</th>\n",
       "    </tr>\n",
       "  </thead>\n",
       "  <tbody>\n",
       "    <tr>\n",
       "      <th>0</th>\n",
       "      <td>0.001639</td>\n",
       "      <td>0.003480</td>\n",
       "      <td>0.005497</td>\n",
       "      <td>0.004669</td>\n",
       "      <td>5</td>\n",
       "      <td>StandardScaler</td>\n",
       "      <td>{'classifier__n_neighbors': 5, 'preprocessor':...</td>\n",
       "      <td>1.000000</td>\n",
       "      <td>1.000000</td>\n",
       "      <td>1.0</td>\n",
       "      <td>0.918803</td>\n",
       "      <td>0.882540</td>\n",
       "      <td>0.952381</td>\n",
       "      <td>0.977778</td>\n",
       "      <td>0.930159</td>\n",
       "      <td>0.907937</td>\n",
       "      <td>0.952381</td>\n",
       "      <td>0.952198</td>\n",
       "      <td>0.039902</td>\n",
       "      <td>1</td>\n",
       "    </tr>\n",
       "    <tr>\n",
       "      <th>1</th>\n",
       "      <td>0.003805</td>\n",
       "      <td>0.001740</td>\n",
       "      <td>0.004896</td>\n",
       "      <td>0.001310</td>\n",
       "      <td>5</td>\n",
       "      <td>MinMaxScaler</td>\n",
       "      <td>{'classifier__n_neighbors': 5, 'preprocessor':...</td>\n",
       "      <td>1.000000</td>\n",
       "      <td>0.952381</td>\n",
       "      <td>1.0</td>\n",
       "      <td>0.944444</td>\n",
       "      <td>0.882540</td>\n",
       "      <td>0.930159</td>\n",
       "      <td>0.955556</td>\n",
       "      <td>0.952381</td>\n",
       "      <td>0.907937</td>\n",
       "      <td>0.952381</td>\n",
       "      <td>0.947778</td>\n",
       "      <td>0.034268</td>\n",
       "      <td>2</td>\n",
       "    </tr>\n",
       "    <tr>\n",
       "      <th>2</th>\n",
       "      <td>0.004227</td>\n",
       "      <td>0.002767</td>\n",
       "      <td>0.004545</td>\n",
       "      <td>0.002955</td>\n",
       "      <td>5</td>\n",
       "      <td>QuantileTransformer</td>\n",
       "      <td>{'classifier__n_neighbors': 5, 'preprocessor':...</td>\n",
       "      <td>0.952381</td>\n",
       "      <td>0.926740</td>\n",
       "      <td>1.0</td>\n",
       "      <td>0.918803</td>\n",
       "      <td>0.904762</td>\n",
       "      <td>1.000000</td>\n",
       "      <td>0.977778</td>\n",
       "      <td>0.930159</td>\n",
       "      <td>0.907937</td>\n",
       "      <td>0.952381</td>\n",
       "      <td>0.947094</td>\n",
       "      <td>0.033797</td>\n",
       "      <td>3</td>\n",
       "    </tr>\n",
       "    <tr>\n",
       "      <th>3</th>\n",
       "      <td>0.010285</td>\n",
       "      <td>0.011328</td>\n",
       "      <td>0.005866</td>\n",
       "      <td>0.002368</td>\n",
       "      <td>5</td>\n",
       "      <td>PowerTransformer</td>\n",
       "      <td>{'classifier__n_neighbors': 5, 'preprocessor':...</td>\n",
       "      <td>1.000000</td>\n",
       "      <td>0.977778</td>\n",
       "      <td>1.0</td>\n",
       "      <td>0.863248</td>\n",
       "      <td>0.882540</td>\n",
       "      <td>0.952381</td>\n",
       "      <td>0.955556</td>\n",
       "      <td>0.930159</td>\n",
       "      <td>0.907937</td>\n",
       "      <td>1.000000</td>\n",
       "      <td>0.946960</td>\n",
       "      <td>0.047387</td>\n",
       "      <td>4</td>\n",
       "    </tr>\n",
       "    <tr>\n",
       "      <th>4</th>\n",
       "      <td>0.003356</td>\n",
       "      <td>0.000502</td>\n",
       "      <td>0.004454</td>\n",
       "      <td>0.000681</td>\n",
       "      <td>51</td>\n",
       "      <td>StandardScaler</td>\n",
       "      <td>{'classifier__n_neighbors': 51, 'preprocessor'...</td>\n",
       "      <td>0.952381</td>\n",
       "      <td>0.977778</td>\n",
       "      <td>1.0</td>\n",
       "      <td>0.863248</td>\n",
       "      <td>0.882540</td>\n",
       "      <td>0.952381</td>\n",
       "      <td>0.955556</td>\n",
       "      <td>0.952381</td>\n",
       "      <td>0.930159</td>\n",
       "      <td>0.952381</td>\n",
       "      <td>0.941880</td>\n",
       "      <td>0.038905</td>\n",
       "      <td>5</td>\n",
       "    </tr>\n",
       "  </tbody>\n",
       "</table>\n",
       "</div>"
      ],
      "text/plain": [
       "   mean_fit_time  std_fit_time  mean_score_time  std_score_time  \\\n",
       "0       0.001639      0.003480         0.005497        0.004669   \n",
       "1       0.003805      0.001740         0.004896        0.001310   \n",
       "2       0.004227      0.002767         0.004545        0.002955   \n",
       "3       0.010285      0.011328         0.005866        0.002368   \n",
       "4       0.003356      0.000502         0.004454        0.000681   \n",
       "\n",
       "  param_classifier__n_neighbors   param_preprocessor  \\\n",
       "0                             5       StandardScaler   \n",
       "1                             5         MinMaxScaler   \n",
       "2                             5  QuantileTransformer   \n",
       "3                             5     PowerTransformer   \n",
       "4                            51       StandardScaler   \n",
       "\n",
       "                                              params  split0_test_score  \\\n",
       "0  {'classifier__n_neighbors': 5, 'preprocessor':...           1.000000   \n",
       "1  {'classifier__n_neighbors': 5, 'preprocessor':...           1.000000   \n",
       "2  {'classifier__n_neighbors': 5, 'preprocessor':...           0.952381   \n",
       "3  {'classifier__n_neighbors': 5, 'preprocessor':...           1.000000   \n",
       "4  {'classifier__n_neighbors': 51, 'preprocessor'...           0.952381   \n",
       "\n",
       "   split1_test_score  split2_test_score  split3_test_score  split4_test_score  \\\n",
       "0           1.000000                1.0           0.918803           0.882540   \n",
       "1           0.952381                1.0           0.944444           0.882540   \n",
       "2           0.926740                1.0           0.918803           0.904762   \n",
       "3           0.977778                1.0           0.863248           0.882540   \n",
       "4           0.977778                1.0           0.863248           0.882540   \n",
       "\n",
       "   split5_test_score  split6_test_score  split7_test_score  split8_test_score  \\\n",
       "0           0.952381           0.977778           0.930159           0.907937   \n",
       "1           0.930159           0.955556           0.952381           0.907937   \n",
       "2           1.000000           0.977778           0.930159           0.907937   \n",
       "3           0.952381           0.955556           0.930159           0.907937   \n",
       "4           0.952381           0.955556           0.952381           0.930159   \n",
       "\n",
       "   split9_test_score  mean_test_score  std_test_score  rank_test_score  \n",
       "0           0.952381         0.952198        0.039902                1  \n",
       "1           0.952381         0.947778        0.034268                2  \n",
       "2           0.952381         0.947094        0.033797                3  \n",
       "3           1.000000         0.946960        0.047387                4  \n",
       "4           0.952381         0.941880        0.038905                5  "
      ]
     },
     "execution_count": 75,
     "metadata": {},
     "output_type": "execute_result"
    }
   ],
   "source": [
    "cv_results = pd.DataFrame(model_grid_search.cv_results_).sort_values(\n",
    "    \"rank_test_score\", ascending=True, ignore_index=True)\n",
    "# convert the name of the preprocessor for later display. The name is an object by default.\n",
    "cv_results[\"param_preprocessor\"] = cv_results[\"param_preprocessor\"].apply(\n",
    "    lambda x: x.__class__.__name__ if x is not None else \"None\"\n",
    ")\n",
    "cv_results.head()"
   ]
  },
  {
   "cell_type": "markdown",
   "metadata": {},
   "source": [
    "The best ranked model using a StandardScaler is substantially better (at least 7 of the cross-validations scores are better) than using any other preprocessor?"
   ]
  },
  {
   "cell_type": "code",
   "execution_count": 78,
   "metadata": {},
   "outputs": [
    {
     "name": "stdout",
     "output_type": "stream",
     "text": [
      "5-NN with StandardScaler is strictly better than 5-NN with MinMaxScaler for 3 CV iterations out of 10.\n",
      "5-NN with StandardScaler is strictly better than 5-NN with QuantileTransformer for 2 CV iterations out of 10.\n",
      "5-NN with StandardScaler is strictly better than 5-NN with PowerTransformer for 3 CV iterations out of 10.\n"
     ]
    }
   ],
   "source": [
    "reference_model = cv_results.iloc[0]\n",
    "other_models = cv_results.iloc[1:4]\n",
    "cv_score_columns = cv_results.columns[cv_results.columns.str.startswith(\"split\")]\n",
    "for idx, other_model in other_models.iterrows():\n",
    "    score_reference_model = reference_model[cv_score_columns]\n",
    "    score_other_model = other_model[cv_score_columns]\n",
    "    print(\n",
    "        f\"{reference_model['param_classifier__n_neighbors']}-NN with \"\n",
    "        f\"{reference_model['param_preprocessor']} is strictly better than \"\n",
    "        f\"{other_model['param_classifier__n_neighbors']}-NN with \"\n",
    "        f\"{other_model['param_preprocessor']} for \"\n",
    "        f\"{sum(score_reference_model > score_other_model)} CV iterations \"\n",
    "        f\"out of 10.\"\n",
    "    )"
   ]
  },
  {
   "cell_type": "markdown",
   "metadata": {},
   "source": [
    "The model with n_neighbors=5 and StandardScaler is substantially better (at least 7 of the cross-validations scores are better) than the model with n_neighbors=51 and StandardScaler?"
   ]
  },
  {
   "cell_type": "code",
   "execution_count": 81,
   "metadata": {},
   "outputs": [
    {
     "name": "stdout",
     "output_type": "stream",
     "text": [
      "5-NN with StandardScaler is strictly better 51-NN with StandardScaler for 4 CV iterations out of 10.\n"
     ]
    }
   ],
   "source": [
    "import numpy as np\n",
    "\n",
    "reference_model = cv_results.iloc[0][cv_score_columns]\n",
    "other_model = cv_results.iloc[4][cv_score_columns]\n",
    "print(\n",
    "    f\"5-NN with StandardScaler is strictly better 51-NN with StandardScaler for \"\n",
    "    f\"{np.sum(reference_model.to_numpy() > other_model.to_numpy())} \"\n",
    "    \"CV iterations out of 10.\"\n",
    ")"
   ]
  },
  {
   "cell_type": "markdown",
   "metadata": {},
   "source": [
    "The model with n_neighbors=51 and StandardScaler is substantially better (at least 7 of the cross-validations scores are better) than the model with n_neighbors=101 and StandardScaler?"
   ]
  },
  {
   "cell_type": "code",
   "execution_count": 83,
   "metadata": {},
   "outputs": [
    {
     "name": "stdout",
     "output_type": "stream",
     "text": [
      "51-NN with StandardScaler is strictly better than 101-NN with StandardScaler for 10 CV iterations out of 10.\n"
     ]
    }
   ],
   "source": [
    "reference_model = cv_results.iloc[0][cv_score_columns]\n",
    "other_model = cv_results.iloc[8][cv_score_columns]\n",
    "print(\n",
    "    f\"51-NN with StandardScaler is strictly better than 101-NN with StandardScaler for \"\n",
    "    f\"{np.sum(reference_model.to_numpy() > other_model.to_numpy())} \"\n",
    "    \"CV iterations out of 10.\"\n",
    ")"
   ]
  },
  {
   "cell_type": "markdown",
   "metadata": {},
   "source": [
    "## Nested Cross-Validation"
   ]
  },
  {
   "cell_type": "code",
   "execution_count": 86,
   "metadata": {},
   "outputs": [],
   "source": [
    "cv_results = cross_validate(\n",
    "    model_grid_search, data, target, cv=10, n_jobs=2, return_estimator=True, scoring = \"balanced_accuracy\"\n",
    ")"
   ]
  },
  {
   "cell_type": "code",
   "execution_count": 87,
   "metadata": {},
   "outputs": [
    {
     "name": "stdout",
     "output_type": "stream",
     "text": [
      "Generalization score with hyperparameters tuning:\n",
      "0.943 ± 0.038\n"
     ]
    }
   ],
   "source": [
    "cv_results = pd.DataFrame(cv_results)\n",
    "cv_test_scores = cv_results[\"test_score\"]\n",
    "print(\n",
    "    \"Generalization score with hyperparameters tuning:\\n\"\n",
    "    f\"{cv_test_scores.mean():.3f} ± {cv_test_scores.std():.3f}\"\n",
    ")"
   ]
  },
  {
   "cell_type": "markdown",
   "metadata": {},
   "source": [
    "Best estimators"
   ]
  },
  {
   "cell_type": "code",
   "execution_count": 88,
   "metadata": {},
   "outputs": [
    {
     "name": "stdout",
     "output_type": "stream",
     "text": [
      "Best hyperparameters for fold #1:\n",
      "{'classifier__n_neighbors': 5, 'preprocessor': QuantileTransformer(n_quantiles=100)}\n",
      "Best hyperparameters for fold #2:\n",
      "{'classifier__n_neighbors': 5, 'preprocessor': QuantileTransformer(n_quantiles=100)}\n",
      "Best hyperparameters for fold #3:\n",
      "{'classifier__n_neighbors': 5, 'preprocessor': StandardScaler()}\n",
      "Best hyperparameters for fold #4:\n",
      "{'classifier__n_neighbors': 5, 'preprocessor': StandardScaler()}\n",
      "Best hyperparameters for fold #5:\n",
      "{'classifier__n_neighbors': 5, 'preprocessor': MinMaxScaler()}\n",
      "Best hyperparameters for fold #6:\n",
      "{'classifier__n_neighbors': 5, 'preprocessor': QuantileTransformer(n_quantiles=100)}\n",
      "Best hyperparameters for fold #7:\n",
      "{'classifier__n_neighbors': 5, 'preprocessor': MinMaxScaler()}\n",
      "Best hyperparameters for fold #8:\n",
      "{'classifier__n_neighbors': 5, 'preprocessor': StandardScaler()}\n",
      "Best hyperparameters for fold #9:\n",
      "{'classifier__n_neighbors': 5, 'preprocessor': StandardScaler()}\n",
      "Best hyperparameters for fold #10:\n",
      "{'classifier__n_neighbors': 5, 'preprocessor': QuantileTransformer(n_quantiles=100)}\n"
     ]
    }
   ],
   "source": [
    "for cv_fold, estimator_in_fold in enumerate(cv_results[\"estimator\"]):\n",
    "    print(\n",
    "        f\"Best hyperparameters for fold #{cv_fold + 1}:\\n\"\n",
    "        f\"{estimator_in_fold.best_params_}\"\n",
    "    )"
   ]
  }
 ],
 "metadata": {
  "kernelspec": {
   "display_name": "Python 3 (ipykernel)",
   "language": "python",
   "name": "python3"
  },
  "language_info": {
   "codemirror_mode": {
    "name": "ipython",
    "version": 3
   },
   "file_extension": ".py",
   "mimetype": "text/x-python",
   "name": "python",
   "nbconvert_exporter": "python",
   "pygments_lexer": "ipython3",
   "version": "3.11.4"
  }
 },
 "nbformat": 4,
 "nbformat_minor": 4
}
