{
 "cells": [
  {
   "cell_type": "markdown",
   "id": "2c0bc4e2",
   "metadata": {},
   "source": [
    "# 📝 Exercise M4.02\n",
    "\n",
    "In the previous notebook, we showed that we can add new features based on the\n",
    "original feature `x` to make the model more expressive, for instance `x ** 2` or\n",
    "`x ** 3`. In that case we only used a single feature in `data`.\n",
    "\n",
    "The aim of this notebook is to train a linear regression algorithm on a\n",
    "dataset with more than a single feature. In such a \"multi-dimensional\" feature\n",
    "space we can derive new features of the form `x1 * x2`, `x2 * x3`, etc.\n",
    "Products of features are usually called \"non-linear\" or \"multiplicative\"\n",
    "interactions between features.\n",
    "\n",
    "Feature engineering can be an important step of a model pipeline as long as\n",
    "the new features are expected to be predictive. For instance, think of a\n",
    "classification model to decide if a patient has risk of developing a heart\n",
    "disease. This would depend on the patient's Body Mass Index which is defined\n",
    "as `weight / height ** 2`.\n",
    "\n",
    "We load the dataset penguins dataset. We first use a set of 3 numerical\n",
    "features to predict the target, i.e. the body mass of the penguin."
   ]
  },
  {
   "cell_type": "markdown",
   "id": "565c4269",
   "metadata": {},
   "source": [
    "<div class=\"admonition note alert alert-info\">\n",
    "<p class=\"first admonition-title\" style=\"font-weight: bold;\">Note</p>\n",
    "<p class=\"last\">If you want a deeper overview regarding this dataset, you can refer to the\n",
    "Appendix - Datasets description section at the end of this MOOC.</p>\n",
    "</div>"
   ]
  },
  {
   "cell_type": "code",
   "execution_count": 3,
   "id": "d8355734",
   "metadata": {},
   "outputs": [
    {
     "data": {
      "text/html": [
       "<div>\n",
       "<style scoped>\n",
       "    .dataframe tbody tr th:only-of-type {\n",
       "        vertical-align: middle;\n",
       "    }\n",
       "\n",
       "    .dataframe tbody tr th {\n",
       "        vertical-align: top;\n",
       "    }\n",
       "\n",
       "    .dataframe thead th {\n",
       "        text-align: right;\n",
       "    }\n",
       "</style>\n",
       "<table border=\"1\" class=\"dataframe\">\n",
       "  <thead>\n",
       "    <tr style=\"text-align: right;\">\n",
       "      <th></th>\n",
       "      <th>Flipper Length (mm)</th>\n",
       "      <th>Culmen Length (mm)</th>\n",
       "      <th>Culmen Depth (mm)</th>\n",
       "    </tr>\n",
       "  </thead>\n",
       "  <tbody>\n",
       "    <tr>\n",
       "      <th>0</th>\n",
       "      <td>181.0</td>\n",
       "      <td>39.1</td>\n",
       "      <td>18.7</td>\n",
       "    </tr>\n",
       "    <tr>\n",
       "      <th>1</th>\n",
       "      <td>186.0</td>\n",
       "      <td>39.5</td>\n",
       "      <td>17.4</td>\n",
       "    </tr>\n",
       "    <tr>\n",
       "      <th>2</th>\n",
       "      <td>195.0</td>\n",
       "      <td>40.3</td>\n",
       "      <td>18.0</td>\n",
       "    </tr>\n",
       "    <tr>\n",
       "      <th>4</th>\n",
       "      <td>193.0</td>\n",
       "      <td>36.7</td>\n",
       "      <td>19.3</td>\n",
       "    </tr>\n",
       "    <tr>\n",
       "      <th>5</th>\n",
       "      <td>190.0</td>\n",
       "      <td>39.3</td>\n",
       "      <td>20.6</td>\n",
       "    </tr>\n",
       "  </tbody>\n",
       "</table>\n",
       "</div>"
      ],
      "text/plain": [
       "   Flipper Length (mm)  Culmen Length (mm)  Culmen Depth (mm)\n",
       "0                181.0                39.1               18.7\n",
       "1                186.0                39.5               17.4\n",
       "2                195.0                40.3               18.0\n",
       "4                193.0                36.7               19.3\n",
       "5                190.0                39.3               20.6"
      ]
     },
     "execution_count": 3,
     "metadata": {},
     "output_type": "execute_result"
    }
   ],
   "source": [
    "import pandas as pd\n",
    "\n",
    "penguins = pd.read_csv(\"../datasets/penguins.csv\")\n",
    "\n",
    "columns = [\"Flipper Length (mm)\", \"Culmen Length (mm)\", \"Culmen Depth (mm)\"]\n",
    "target_name = \"Body Mass (g)\"\n",
    "\n",
    "# Remove lines with missing values for the columns of interest\n",
    "penguins_non_missing = penguins[columns + [target_name]].dropna()\n",
    "\n",
    "data = penguins_non_missing[columns]\n",
    "target = penguins_non_missing[target_name]\n",
    "data.head()"
   ]
  },
  {
   "cell_type": "markdown",
   "id": "215046dd",
   "metadata": {},
   "source": [
    "Now it is your turn to train a linear regression model on this dataset. First,\n",
    "create a linear regression model."
   ]
  },
  {
   "cell_type": "code",
   "execution_count": 1,
   "id": "ac8635c1",
   "metadata": {},
   "outputs": [],
   "source": [
    "# Write your code here.\n",
    "from sklearn.linear_model import LinearRegression\n",
    "\n",
    "baseline_model = LinearRegression()"
   ]
  },
  {
   "cell_type": "markdown",
   "id": "38cacbc9",
   "metadata": {},
   "source": [
    "Execute a cross-validation with 10 folds and use the mean absolute error (MAE)\n",
    "as metric."
   ]
  },
  {
   "cell_type": "markdown",
   "metadata": {},
   "source": [
    "The `cross_validate` and `cross_val_score` functions have `neg_mean_absolute_error` and no `mean_absolute_error`.\n",
    "\n",
    "This makes more sense when we think of accuracy. We usually search to **maximize** the **accuracy**. However, we usually want to **minimize** the **MAE**. If we flip the sign of the MAE, we go back again to a maximization problem. And thus, the negative sign of some of the scoring strategies is justified in order to bring all problems to a maximization problem. This is specifically more relevant for hyperparameter optimization tasks."
   ]
  },
  {
   "cell_type": "code",
   "execution_count": 10,
   "id": "bdd1e1b3",
   "metadata": {},
   "outputs": [],
   "source": [
    "# Write your code here.\n",
    "from sklearn.model_selection import cross_val_score\n",
    "\n",
    "scores = cross_val_score(baseline_model, data, target, cv=10, scoring=\"neg_mean_absolute_error\")"
   ]
  },
  {
   "cell_type": "markdown",
   "id": "9d078d13",
   "metadata": {},
   "source": [
    "Compute the mean and std of the MAE in grams (g). Remember you have to revert\n",
    "the sign introduced when metrics start with `neg_`, such as in\n",
    "`\"neg_mean_absolute_error\"`."
   ]
  },
  {
   "cell_type": "code",
   "execution_count": 11,
   "id": "76656eb3",
   "metadata": {},
   "outputs": [
    {
     "name": "stdout",
     "output_type": "stream",
     "text": [
      "The mean cross-validation MAE is: 337.071 ± 84.868 \n"
     ]
    }
   ],
   "source": [
    "# Write your code here.\n",
    "scores = -scores\n",
    "\n",
    "print(\n",
    "    \"The mean cross-validation MAE is: \"\n",
    "    f\"{scores.mean():.3f} ± {scores.std():.3f} \"\n",
    ")"
   ]
  },
  {
   "cell_type": "markdown",
   "id": "64b071f3",
   "metadata": {},
   "source": [
    "Now create a pipeline using `make_pipeline` consisting of a\n",
    "`PolynomialFeatures` and a linear regression. Set `degree=2` and\n",
    "`interaction_only=True` to the feature engineering step. Remember not to\n",
    "include a \"bias\" feature (that is a constant-valued feature) to avoid\n",
    "introducing a redundancy with the intercept of the subsequent linear\n",
    "regression model.\n",
    "\n",
    "You may want to use the `.set_output(transform=\"pandas\")` method of the\n",
    "pipeline to answer the next question."
   ]
  },
  {
   "cell_type": "code",
   "execution_count": 17,
   "id": "6920cc89",
   "metadata": {},
   "outputs": [
    {
     "data": {
      "text/html": [
       "<style>#sk-container-id-3 {color: black;}#sk-container-id-3 pre{padding: 0;}#sk-container-id-3 div.sk-toggleable {background-color: white;}#sk-container-id-3 label.sk-toggleable__label {cursor: pointer;display: block;width: 100%;margin-bottom: 0;padding: 0.3em;box-sizing: border-box;text-align: center;}#sk-container-id-3 label.sk-toggleable__label-arrow:before {content: \"▸\";float: left;margin-right: 0.25em;color: #696969;}#sk-container-id-3 label.sk-toggleable__label-arrow:hover:before {color: black;}#sk-container-id-3 div.sk-estimator:hover label.sk-toggleable__label-arrow:before {color: black;}#sk-container-id-3 div.sk-toggleable__content {max-height: 0;max-width: 0;overflow: hidden;text-align: left;background-color: #f0f8ff;}#sk-container-id-3 div.sk-toggleable__content pre {margin: 0.2em;color: black;border-radius: 0.25em;background-color: #f0f8ff;}#sk-container-id-3 input.sk-toggleable__control:checked~div.sk-toggleable__content {max-height: 200px;max-width: 100%;overflow: auto;}#sk-container-id-3 input.sk-toggleable__control:checked~label.sk-toggleable__label-arrow:before {content: \"▾\";}#sk-container-id-3 div.sk-estimator input.sk-toggleable__control:checked~label.sk-toggleable__label {background-color: #d4ebff;}#sk-container-id-3 div.sk-label input.sk-toggleable__control:checked~label.sk-toggleable__label {background-color: #d4ebff;}#sk-container-id-3 input.sk-hidden--visually {border: 0;clip: rect(1px 1px 1px 1px);clip: rect(1px, 1px, 1px, 1px);height: 1px;margin: -1px;overflow: hidden;padding: 0;position: absolute;width: 1px;}#sk-container-id-3 div.sk-estimator {font-family: monospace;background-color: #f0f8ff;border: 1px dotted black;border-radius: 0.25em;box-sizing: border-box;margin-bottom: 0.5em;}#sk-container-id-3 div.sk-estimator:hover {background-color: #d4ebff;}#sk-container-id-3 div.sk-parallel-item::after {content: \"\";width: 100%;border-bottom: 1px solid gray;flex-grow: 1;}#sk-container-id-3 div.sk-label:hover label.sk-toggleable__label {background-color: #d4ebff;}#sk-container-id-3 div.sk-serial::before {content: \"\";position: absolute;border-left: 1px solid gray;box-sizing: border-box;top: 0;bottom: 0;left: 50%;z-index: 0;}#sk-container-id-3 div.sk-serial {display: flex;flex-direction: column;align-items: center;background-color: white;padding-right: 0.2em;padding-left: 0.2em;position: relative;}#sk-container-id-3 div.sk-item {position: relative;z-index: 1;}#sk-container-id-3 div.sk-parallel {display: flex;align-items: stretch;justify-content: center;background-color: white;position: relative;}#sk-container-id-3 div.sk-item::before, #sk-container-id-3 div.sk-parallel-item::before {content: \"\";position: absolute;border-left: 1px solid gray;box-sizing: border-box;top: 0;bottom: 0;left: 50%;z-index: -1;}#sk-container-id-3 div.sk-parallel-item {display: flex;flex-direction: column;z-index: 1;position: relative;background-color: white;}#sk-container-id-3 div.sk-parallel-item:first-child::after {align-self: flex-end;width: 50%;}#sk-container-id-3 div.sk-parallel-item:last-child::after {align-self: flex-start;width: 50%;}#sk-container-id-3 div.sk-parallel-item:only-child::after {width: 0;}#sk-container-id-3 div.sk-dashed-wrapped {border: 1px dashed gray;margin: 0 0.4em 0.5em 0.4em;box-sizing: border-box;padding-bottom: 0.4em;background-color: white;}#sk-container-id-3 div.sk-label label {font-family: monospace;font-weight: bold;display: inline-block;line-height: 1.2em;}#sk-container-id-3 div.sk-label-container {text-align: center;}#sk-container-id-3 div.sk-container {/* jupyter's `normalize.less` sets `[hidden] { display: none; }` but bootstrap.min.css set `[hidden] { display: none !important; }` so we also need the `!important` here to be able to override the default hidden behavior on the sphinx rendered scikit-learn.org. See: https://github.com/scikit-learn/scikit-learn/issues/21755 */display: inline-block !important;position: relative;}#sk-container-id-3 div.sk-text-repr-fallback {display: none;}</style><div id=\"sk-container-id-3\" class=\"sk-top-container\"><div class=\"sk-text-repr-fallback\"><pre>Pipeline(steps=[(&#x27;polynomialfeatures&#x27;,\n",
       "                 PolynomialFeatures(degree=3, include_bias=False,\n",
       "                                    interaction_only=True)),\n",
       "                (&#x27;linearregression&#x27;, LinearRegression())])</pre><b>In a Jupyter environment, please rerun this cell to show the HTML representation or trust the notebook. <br />On GitHub, the HTML representation is unable to render, please try loading this page with nbviewer.org.</b></div><div class=\"sk-container\" hidden><div class=\"sk-item sk-dashed-wrapped\"><div class=\"sk-label-container\"><div class=\"sk-label sk-toggleable\"><input class=\"sk-toggleable__control sk-hidden--visually\" id=\"sk-estimator-id-5\" type=\"checkbox\" ><label for=\"sk-estimator-id-5\" class=\"sk-toggleable__label sk-toggleable__label-arrow\">Pipeline</label><div class=\"sk-toggleable__content\"><pre>Pipeline(steps=[(&#x27;polynomialfeatures&#x27;,\n",
       "                 PolynomialFeatures(degree=3, include_bias=False,\n",
       "                                    interaction_only=True)),\n",
       "                (&#x27;linearregression&#x27;, LinearRegression())])</pre></div></div></div><div class=\"sk-serial\"><div class=\"sk-item\"><div class=\"sk-estimator sk-toggleable\"><input class=\"sk-toggleable__control sk-hidden--visually\" id=\"sk-estimator-id-6\" type=\"checkbox\" ><label for=\"sk-estimator-id-6\" class=\"sk-toggleable__label sk-toggleable__label-arrow\">PolynomialFeatures</label><div class=\"sk-toggleable__content\"><pre>PolynomialFeatures(degree=3, include_bias=False, interaction_only=True)</pre></div></div></div><div class=\"sk-item\"><div class=\"sk-estimator sk-toggleable\"><input class=\"sk-toggleable__control sk-hidden--visually\" id=\"sk-estimator-id-7\" type=\"checkbox\" ><label for=\"sk-estimator-id-7\" class=\"sk-toggleable__label sk-toggleable__label-arrow\">LinearRegression</label><div class=\"sk-toggleable__content\"><pre>LinearRegression()</pre></div></div></div></div></div></div></div>"
      ],
      "text/plain": [
       "Pipeline(steps=[('polynomialfeatures',\n",
       "                 PolynomialFeatures(degree=3, include_bias=False,\n",
       "                                    interaction_only=True)),\n",
       "                ('linearregression', LinearRegression())])"
      ]
     },
     "execution_count": 17,
     "metadata": {},
     "output_type": "execute_result"
    }
   ],
   "source": [
    "# Write your code here.\n",
    "from sklearn.pipeline import make_pipeline\n",
    "from sklearn.preprocessing import PolynomialFeatures\n",
    "\n",
    "polynomial_regression = make_pipeline(\n",
    "    PolynomialFeatures(degree=3, include_bias=False, interaction_only=True),\n",
    "    LinearRegression(),\n",
    ")\n",
    "polynomial_regression.set_output(transform=\"pandas\")"
   ]
  },
  {
   "cell_type": "markdown",
   "id": "f515e966",
   "metadata": {},
   "source": [
    "Transform the first 5 rows of the dataset and look at the column names. How\n",
    "many features are generated at the output of the `PolynomialFeatures` step in\n",
    "the previous pipeline?"
   ]
  },
  {
   "cell_type": "code",
   "execution_count": 27,
   "id": "514364dc",
   "metadata": {},
   "outputs": [
    {
     "data": {
      "text/html": [
       "<div>\n",
       "<style scoped>\n",
       "    .dataframe tbody tr th:only-of-type {\n",
       "        vertical-align: middle;\n",
       "    }\n",
       "\n",
       "    .dataframe tbody tr th {\n",
       "        vertical-align: top;\n",
       "    }\n",
       "\n",
       "    .dataframe thead th {\n",
       "        text-align: right;\n",
       "    }\n",
       "</style>\n",
       "<table border=\"1\" class=\"dataframe\">\n",
       "  <thead>\n",
       "    <tr style=\"text-align: right;\">\n",
       "      <th></th>\n",
       "      <th>Flipper Length (mm)</th>\n",
       "      <th>Culmen Length (mm)</th>\n",
       "      <th>Culmen Depth (mm)</th>\n",
       "      <th>Flipper Length (mm) Culmen Length (mm)</th>\n",
       "      <th>Flipper Length (mm) Culmen Depth (mm)</th>\n",
       "      <th>Culmen Length (mm) Culmen Depth (mm)</th>\n",
       "      <th>Flipper Length (mm) Culmen Length (mm) Culmen Depth (mm)</th>\n",
       "    </tr>\n",
       "  </thead>\n",
       "  <tbody>\n",
       "    <tr>\n",
       "      <th>0</th>\n",
       "      <td>181.0</td>\n",
       "      <td>39.1</td>\n",
       "      <td>18.7</td>\n",
       "      <td>7077.1</td>\n",
       "      <td>3384.7</td>\n",
       "      <td>731.17</td>\n",
       "      <td>132341.77</td>\n",
       "    </tr>\n",
       "    <tr>\n",
       "      <th>1</th>\n",
       "      <td>186.0</td>\n",
       "      <td>39.5</td>\n",
       "      <td>17.4</td>\n",
       "      <td>7347.0</td>\n",
       "      <td>3236.4</td>\n",
       "      <td>687.30</td>\n",
       "      <td>127837.80</td>\n",
       "    </tr>\n",
       "    <tr>\n",
       "      <th>2</th>\n",
       "      <td>195.0</td>\n",
       "      <td>40.3</td>\n",
       "      <td>18.0</td>\n",
       "      <td>7858.5</td>\n",
       "      <td>3510.0</td>\n",
       "      <td>725.40</td>\n",
       "      <td>141453.00</td>\n",
       "    </tr>\n",
       "    <tr>\n",
       "      <th>4</th>\n",
       "      <td>193.0</td>\n",
       "      <td>36.7</td>\n",
       "      <td>19.3</td>\n",
       "      <td>7083.1</td>\n",
       "      <td>3724.9</td>\n",
       "      <td>708.31</td>\n",
       "      <td>136703.83</td>\n",
       "    </tr>\n",
       "    <tr>\n",
       "      <th>5</th>\n",
       "      <td>190.0</td>\n",
       "      <td>39.3</td>\n",
       "      <td>20.6</td>\n",
       "      <td>7467.0</td>\n",
       "      <td>3914.0</td>\n",
       "      <td>809.58</td>\n",
       "      <td>153820.20</td>\n",
       "    </tr>\n",
       "  </tbody>\n",
       "</table>\n",
       "</div>"
      ],
      "text/plain": [
       "   Flipper Length (mm)  Culmen Length (mm)  Culmen Depth (mm)  \\\n",
       "0                181.0                39.1               18.7   \n",
       "1                186.0                39.5               17.4   \n",
       "2                195.0                40.3               18.0   \n",
       "4                193.0                36.7               19.3   \n",
       "5                190.0                39.3               20.6   \n",
       "\n",
       "   Flipper Length (mm) Culmen Length (mm)  \\\n",
       "0                                  7077.1   \n",
       "1                                  7347.0   \n",
       "2                                  7858.5   \n",
       "4                                  7083.1   \n",
       "5                                  7467.0   \n",
       "\n",
       "   Flipper Length (mm) Culmen Depth (mm)  \\\n",
       "0                                 3384.7   \n",
       "1                                 3236.4   \n",
       "2                                 3510.0   \n",
       "4                                 3724.9   \n",
       "5                                 3914.0   \n",
       "\n",
       "   Culmen Length (mm) Culmen Depth (mm)  \\\n",
       "0                                731.17   \n",
       "1                                687.30   \n",
       "2                                725.40   \n",
       "4                                708.31   \n",
       "5                                809.58   \n",
       "\n",
       "   Flipper Length (mm) Culmen Length (mm) Culmen Depth (mm)  \n",
       "0                                          132341.77         \n",
       "1                                          127837.80         \n",
       "2                                          141453.00         \n",
       "4                                          136703.83         \n",
       "5                                          153820.20         "
      ]
     },
     "execution_count": 27,
     "metadata": {},
     "output_type": "execute_result"
    }
   ],
   "source": [
    "# Write your code here.\n",
    "polynomial_regression[0].fit_transform(data.iloc[:5,:])"
   ]
  },
  {
   "cell_type": "markdown",
   "id": "624caefa",
   "metadata": {},
   "source": [
    "Check that the values for the new interaction features are correct for a few\n",
    "of them."
   ]
  },
  {
   "cell_type": "code",
   "execution_count": 62,
   "id": "465b0f21",
   "metadata": {},
   "outputs": [
    {
     "name": "stdout",
     "output_type": "stream",
     "text": [
      "The maximum difference between the two dataframes is 0.0\n"
     ]
    },
    {
     "data": {
      "text/html": [
       "<div>\n",
       "<style scoped>\n",
       "    .dataframe tbody tr th:only-of-type {\n",
       "        vertical-align: middle;\n",
       "    }\n",
       "\n",
       "    .dataframe tbody tr th {\n",
       "        vertical-align: top;\n",
       "    }\n",
       "\n",
       "    .dataframe thead th {\n",
       "        text-align: right;\n",
       "    }\n",
       "</style>\n",
       "<table border=\"1\" class=\"dataframe\">\n",
       "  <thead>\n",
       "    <tr style=\"text-align: right;\">\n",
       "      <th></th>\n",
       "      <th>Flipper Length (mm) x Culmen Length (mm)</th>\n",
       "      <th>Flipper Length (mm) x Culmen Depth (mm)</th>\n",
       "      <th>Culmen Length (mm) x Culmen Depth (mm)</th>\n",
       "    </tr>\n",
       "  </thead>\n",
       "  <tbody>\n",
       "    <tr>\n",
       "      <th>0</th>\n",
       "      <td>7077.1</td>\n",
       "      <td>3384.7</td>\n",
       "      <td>731.17</td>\n",
       "    </tr>\n",
       "    <tr>\n",
       "      <th>1</th>\n",
       "      <td>7347.0</td>\n",
       "      <td>3236.4</td>\n",
       "      <td>687.30</td>\n",
       "    </tr>\n",
       "    <tr>\n",
       "      <th>2</th>\n",
       "      <td>7858.5</td>\n",
       "      <td>3510.0</td>\n",
       "      <td>725.40</td>\n",
       "    </tr>\n",
       "    <tr>\n",
       "      <th>4</th>\n",
       "      <td>7083.1</td>\n",
       "      <td>3724.9</td>\n",
       "      <td>708.31</td>\n",
       "    </tr>\n",
       "    <tr>\n",
       "      <th>5</th>\n",
       "      <td>7467.0</td>\n",
       "      <td>3914.0</td>\n",
       "      <td>809.58</td>\n",
       "    </tr>\n",
       "  </tbody>\n",
       "</table>\n",
       "</div>"
      ],
      "text/plain": [
       "   Flipper Length (mm) x Culmen Length (mm)  \\\n",
       "0                                    7077.1   \n",
       "1                                    7347.0   \n",
       "2                                    7858.5   \n",
       "4                                    7083.1   \n",
       "5                                    7467.0   \n",
       "\n",
       "   Flipper Length (mm) x Culmen Depth (mm)  \\\n",
       "0                                   3384.7   \n",
       "1                                   3236.4   \n",
       "2                                   3510.0   \n",
       "4                                   3724.9   \n",
       "5                                   3914.0   \n",
       "\n",
       "   Culmen Length (mm) x Culmen Depth (mm)  \n",
       "0                                  731.17  \n",
       "1                                  687.30  \n",
       "2                                  725.40  \n",
       "4                                  708.31  \n",
       "5                                  809.58  "
      ]
     },
     "execution_count": 62,
     "metadata": {},
     "output_type": "execute_result"
    }
   ],
   "source": [
    "# Write your code here.\n",
    "data_inter = pd.DataFrame()\n",
    "for i in range(data.shape[1]):\n",
    "    for j in range(i+1, data.shape[1]):\n",
    "        data_inter[f'{data.columns[i]} x {data.columns[j]}'] = data.iloc[:,i]*data.iloc[:,j]\n",
    "\n",
    "avg_diff = abs(polynomial_regression[0].fit_transform(data).iloc[:,3:6].values - data_inter.values).max()\n",
    "print(f'The maximum difference between the two dataframes is {avg_diff}')\n",
    "\n",
    "data_inter.head()"
   ]
  },
  {
   "cell_type": "markdown",
   "id": "339ae1ad",
   "metadata": {},
   "source": [
    "Use the same cross-validation strategy as done previously to estimate the mean\n",
    "and std of the MAE in grams (g) for such a pipeline. Compare with the results\n",
    "without feature engineering."
   ]
  },
  {
   "cell_type": "code",
   "execution_count": 28,
   "id": "0c2b64d0",
   "metadata": {},
   "outputs": [
    {
     "name": "stdout",
     "output_type": "stream",
     "text": [
      "The mean cross-validation MAE is: 303.744 ± 48.773 \n"
     ]
    }
   ],
   "source": [
    "# Write your code here.\n",
    "scores = cross_val_score(polynomial_regression, data, target, cv=10, scoring=\"neg_mean_absolute_error\")\n",
    "scores = -scores\n",
    "print(\n",
    "    \"The mean cross-validation MAE is: \"\n",
    "    f\"{scores.mean():.3f} ± {scores.std():.3f} \"\n",
    ")"
   ]
  },
  {
   "cell_type": "markdown",
   "id": "fbaa160a",
   "metadata": {},
   "source": [
    "\n",
    "Now let's try to build an alternative pipeline with an adjustable number of\n",
    "intermediate features while keeping a similar predictive power. To do so, try\n",
    "using the `Nystroem` transformer instead of `PolynomialFeatures`. Set the\n",
    "kernel parameter to `\"poly\"` and `degree` to 2. Adjust the number of\n",
    "components to be as small as possible while keeping a good cross-validation\n",
    "performance.\n",
    "\n",
    "Hint: Use a `ValidationCurveDisplay` with `param_range = np.array([5, 10, 50,\n",
    "100])` to find the optimal `n_components`."
   ]
  },
  {
   "cell_type": "code",
   "execution_count": 31,
   "id": "85e573f5",
   "metadata": {},
   "outputs": [
    {
     "data": {
      "text/html": [
       "<style>#sk-container-id-5 {color: black;}#sk-container-id-5 pre{padding: 0;}#sk-container-id-5 div.sk-toggleable {background-color: white;}#sk-container-id-5 label.sk-toggleable__label {cursor: pointer;display: block;width: 100%;margin-bottom: 0;padding: 0.3em;box-sizing: border-box;text-align: center;}#sk-container-id-5 label.sk-toggleable__label-arrow:before {content: \"▸\";float: left;margin-right: 0.25em;color: #696969;}#sk-container-id-5 label.sk-toggleable__label-arrow:hover:before {color: black;}#sk-container-id-5 div.sk-estimator:hover label.sk-toggleable__label-arrow:before {color: black;}#sk-container-id-5 div.sk-toggleable__content {max-height: 0;max-width: 0;overflow: hidden;text-align: left;background-color: #f0f8ff;}#sk-container-id-5 div.sk-toggleable__content pre {margin: 0.2em;color: black;border-radius: 0.25em;background-color: #f0f8ff;}#sk-container-id-5 input.sk-toggleable__control:checked~div.sk-toggleable__content {max-height: 200px;max-width: 100%;overflow: auto;}#sk-container-id-5 input.sk-toggleable__control:checked~label.sk-toggleable__label-arrow:before {content: \"▾\";}#sk-container-id-5 div.sk-estimator input.sk-toggleable__control:checked~label.sk-toggleable__label {background-color: #d4ebff;}#sk-container-id-5 div.sk-label input.sk-toggleable__control:checked~label.sk-toggleable__label {background-color: #d4ebff;}#sk-container-id-5 input.sk-hidden--visually {border: 0;clip: rect(1px 1px 1px 1px);clip: rect(1px, 1px, 1px, 1px);height: 1px;margin: -1px;overflow: hidden;padding: 0;position: absolute;width: 1px;}#sk-container-id-5 div.sk-estimator {font-family: monospace;background-color: #f0f8ff;border: 1px dotted black;border-radius: 0.25em;box-sizing: border-box;margin-bottom: 0.5em;}#sk-container-id-5 div.sk-estimator:hover {background-color: #d4ebff;}#sk-container-id-5 div.sk-parallel-item::after {content: \"\";width: 100%;border-bottom: 1px solid gray;flex-grow: 1;}#sk-container-id-5 div.sk-label:hover label.sk-toggleable__label {background-color: #d4ebff;}#sk-container-id-5 div.sk-serial::before {content: \"\";position: absolute;border-left: 1px solid gray;box-sizing: border-box;top: 0;bottom: 0;left: 50%;z-index: 0;}#sk-container-id-5 div.sk-serial {display: flex;flex-direction: column;align-items: center;background-color: white;padding-right: 0.2em;padding-left: 0.2em;position: relative;}#sk-container-id-5 div.sk-item {position: relative;z-index: 1;}#sk-container-id-5 div.sk-parallel {display: flex;align-items: stretch;justify-content: center;background-color: white;position: relative;}#sk-container-id-5 div.sk-item::before, #sk-container-id-5 div.sk-parallel-item::before {content: \"\";position: absolute;border-left: 1px solid gray;box-sizing: border-box;top: 0;bottom: 0;left: 50%;z-index: -1;}#sk-container-id-5 div.sk-parallel-item {display: flex;flex-direction: column;z-index: 1;position: relative;background-color: white;}#sk-container-id-5 div.sk-parallel-item:first-child::after {align-self: flex-end;width: 50%;}#sk-container-id-5 div.sk-parallel-item:last-child::after {align-self: flex-start;width: 50%;}#sk-container-id-5 div.sk-parallel-item:only-child::after {width: 0;}#sk-container-id-5 div.sk-dashed-wrapped {border: 1px dashed gray;margin: 0 0.4em 0.5em 0.4em;box-sizing: border-box;padding-bottom: 0.4em;background-color: white;}#sk-container-id-5 div.sk-label label {font-family: monospace;font-weight: bold;display: inline-block;line-height: 1.2em;}#sk-container-id-5 div.sk-label-container {text-align: center;}#sk-container-id-5 div.sk-container {/* jupyter's `normalize.less` sets `[hidden] { display: none; }` but bootstrap.min.css set `[hidden] { display: none !important; }` so we also need the `!important` here to be able to override the default hidden behavior on the sphinx rendered scikit-learn.org. See: https://github.com/scikit-learn/scikit-learn/issues/21755 */display: inline-block !important;position: relative;}#sk-container-id-5 div.sk-text-repr-fallback {display: none;}</style><div id=\"sk-container-id-5\" class=\"sk-top-container\"><div class=\"sk-text-repr-fallback\"><pre>Pipeline(steps=[(&#x27;nystroem&#x27;,\n",
       "                 Nystroem(degree=2, kernel=&#x27;poly&#x27;, n_components=5,\n",
       "                          random_state=0)),\n",
       "                (&#x27;linearregression&#x27;, LinearRegression())])</pre><b>In a Jupyter environment, please rerun this cell to show the HTML representation or trust the notebook. <br />On GitHub, the HTML representation is unable to render, please try loading this page with nbviewer.org.</b></div><div class=\"sk-container\" hidden><div class=\"sk-item sk-dashed-wrapped\"><div class=\"sk-label-container\"><div class=\"sk-label sk-toggleable\"><input class=\"sk-toggleable__control sk-hidden--visually\" id=\"sk-estimator-id-11\" type=\"checkbox\" ><label for=\"sk-estimator-id-11\" class=\"sk-toggleable__label sk-toggleable__label-arrow\">Pipeline</label><div class=\"sk-toggleable__content\"><pre>Pipeline(steps=[(&#x27;nystroem&#x27;,\n",
       "                 Nystroem(degree=2, kernel=&#x27;poly&#x27;, n_components=5,\n",
       "                          random_state=0)),\n",
       "                (&#x27;linearregression&#x27;, LinearRegression())])</pre></div></div></div><div class=\"sk-serial\"><div class=\"sk-item\"><div class=\"sk-estimator sk-toggleable\"><input class=\"sk-toggleable__control sk-hidden--visually\" id=\"sk-estimator-id-12\" type=\"checkbox\" ><label for=\"sk-estimator-id-12\" class=\"sk-toggleable__label sk-toggleable__label-arrow\">Nystroem</label><div class=\"sk-toggleable__content\"><pre>Nystroem(degree=2, kernel=&#x27;poly&#x27;, n_components=5, random_state=0)</pre></div></div></div><div class=\"sk-item\"><div class=\"sk-estimator sk-toggleable\"><input class=\"sk-toggleable__control sk-hidden--visually\" id=\"sk-estimator-id-13\" type=\"checkbox\" ><label for=\"sk-estimator-id-13\" class=\"sk-toggleable__label sk-toggleable__label-arrow\">LinearRegression</label><div class=\"sk-toggleable__content\"><pre>LinearRegression()</pre></div></div></div></div></div></div></div>"
      ],
      "text/plain": [
       "Pipeline(steps=[('nystroem',\n",
       "                 Nystroem(degree=2, kernel='poly', n_components=5,\n",
       "                          random_state=0)),\n",
       "                ('linearregression', LinearRegression())])"
      ]
     },
     "execution_count": 31,
     "metadata": {},
     "output_type": "execute_result"
    }
   ],
   "source": [
    "# Write your code here.\n",
    "from sklearn.kernel_approximation import Nystroem\n",
    "\n",
    "nystroem_regression = make_pipeline(\n",
    "    Nystroem(kernel=\"poly\", degree=2, n_components=5, random_state=0),\n",
    "    LinearRegression(),\n",
    ")\n",
    "nystroem_regression"
   ]
  },
  {
   "cell_type": "code",
   "execution_count": null,
   "metadata": {},
   "outputs": [],
   "source": [
    "# Write your code here.\n",
    "import numpy as np\n",
    "from sklearn.model_selection import ValidationCurveDisplay\n",
    "\n",
    "n_components = np.array([5, 10, 50, 100])\n",
    "disp = ValidationCurveDisplay.from_estimator(\n",
    "    nystroem_regression,\n",
    "    data,\n",
    "    target,\n",
    "    param_name=\"nystroem__n_components\",\n",
    "    param_range=n_components,\n",
    "    cv=10,\n",
    "    scoring=\"neg_mean_absolute_error\",\n",
    "    negate_score=True,\n",
    "    n_jobs=2,\n",
    ")\n",
    "_ = disp.ax_.set(\n",
    "    xlabel=\"# of components\",\n",
    "    ylabel=\"Mean absolute error (g)\",\n",
    "    title=\"Validation Curve for NyStroem\",\n",
    ")"
   ]
  },
  {
   "cell_type": "markdown",
   "id": "d1d0370b",
   "metadata": {},
   "source": [
    "How do the mean and std of the MAE for the Nystroem pipeline with optimal\n",
    "`n_components` compare to the other previous models?"
   ]
  },
  {
   "cell_type": "code",
   "execution_count": 35,
   "id": "65881ea6",
   "metadata": {},
   "outputs": [
    {
     "name": "stdout",
     "output_type": "stream",
     "text": [
      "The mean cross-validation MAE is: 299.066 ± 44.761 \n"
     ]
    }
   ],
   "source": [
    "# Write your code here.\n",
    "nystroem_regression.set_params(nystroem__n_components=10)\n",
    "\n",
    "# Write your code here.\n",
    "scores = cross_val_score(nystroem_regression, data, target, cv=10, scoring=\"neg_mean_absolute_error\")\n",
    "scores = -scores\n",
    "print(\n",
    "    \"The mean cross-validation MAE is: \"\n",
    "    f\"{scores.mean():.3f} ± {scores.std():.3f} \"\n",
    ")"
   ]
  }
 ],
 "metadata": {
  "jupytext": {
   "main_language": "python"
  },
  "kernelspec": {
   "display_name": "Python 3 (ipykernel)",
   "language": "python",
   "name": "python3"
  },
  "language_info": {
   "codemirror_mode": {
    "name": "ipython",
    "version": 3
   },
   "file_extension": ".py",
   "mimetype": "text/x-python",
   "name": "python",
   "nbconvert_exporter": "python",
   "pygments_lexer": "ipython3",
   "version": "3.11.4"
  },
  "nbreset": "https://raw.githubusercontent.com/INRIA/scikit-learn-mooc/main/notebooks/linear_models_ex_02.ipynb"
 },
 "nbformat": 4,
 "nbformat_minor": 5
}
