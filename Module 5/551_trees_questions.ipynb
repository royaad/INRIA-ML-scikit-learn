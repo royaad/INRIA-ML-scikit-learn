{
 "cells": [
  {
   "cell_type": "markdown",
   "metadata": {},
   "source": [
    "# Module 5 - Wrap-Up Quiz"
   ]
  },
  {
   "cell_type": "markdown",
   "metadata": {},
   "source": [
    "## Importing Data"
   ]
  },
  {
   "cell_type": "code",
   "execution_count": 1,
   "metadata": {},
   "outputs": [],
   "source": [
    "import pandas as pd\n",
    "\n",
    "ames_housing = pd.read_csv(\n",
    "    \"../datasets/ames_housing_no_missing.csv\",\n",
    "    na_filter=False,  # required for pandas>2.0\n",
    ")\n",
    "target_name = \"SalePrice\"\n",
    "data = ames_housing.drop(columns=target_name)\n",
    "target = ames_housing[target_name]"
   ]
  },
  {
   "cell_type": "markdown",
   "metadata": {},
   "source": [
    "Selecting Numerical Features"
   ]
  },
  {
   "cell_type": "code",
   "execution_count": 2,
   "metadata": {},
   "outputs": [],
   "source": [
    "numerical_features = [\n",
    "    \"LotFrontage\", \"LotArea\", \"MasVnrArea\", \"BsmtFinSF1\", \"BsmtFinSF2\",\n",
    "    \"BsmtUnfSF\", \"TotalBsmtSF\", \"1stFlrSF\", \"2ndFlrSF\", \"LowQualFinSF\",\n",
    "    \"GrLivArea\", \"BedroomAbvGr\", \"KitchenAbvGr\", \"TotRmsAbvGrd\", \"Fireplaces\",\n",
    "    \"GarageCars\", \"GarageArea\", \"WoodDeckSF\", \"OpenPorchSF\", \"EnclosedPorch\",\n",
    "    \"3SsnPorch\", \"ScreenPorch\", \"PoolArea\", \"MiscVal\",\n",
    "]\n",
    "\n",
    "data_numerical = data[numerical_features]"
   ]
  },
  {
   "cell_type": "markdown",
   "metadata": {},
   "source": [
    "## Building Models"
   ]
  },
  {
   "cell_type": "markdown",
   "metadata": {},
   "source": [
    "### Linear Model"
   ]
  },
  {
   "cell_type": "code",
   "execution_count": 3,
   "metadata": {},
   "outputs": [],
   "source": [
    "from sklearn.preprocessing import StandardScaler\n",
    "from sklearn.pipeline import make_pipeline\n",
    "from sklearn.linear_model import LinearRegression\n",
    "\n",
    "linear_model = make_pipeline(StandardScaler(), LinearRegression())"
   ]
  },
  {
   "cell_type": "markdown",
   "metadata": {},
   "source": [
    "## Tree Model"
   ]
  },
  {
   "cell_type": "code",
   "execution_count": 4,
   "metadata": {},
   "outputs": [],
   "source": [
    "from sklearn.tree import DecisionTreeRegressor\n",
    "\n",
    "tree_model = DecisionTreeRegressor(random_state=0)"
   ]
  },
  {
   "cell_type": "markdown",
   "metadata": {},
   "source": [
    "## Cross-Validation of Both Models"
   ]
  },
  {
   "cell_type": "code",
   "execution_count": 5,
   "metadata": {},
   "outputs": [],
   "source": [
    "from sklearn.model_selection import cross_val_score\n",
    "\n",
    "LM_test_scores = cross_val_score(linear_model, data_numerical, target, cv=10, n_jobs=2)\n",
    "Tree_test_scores = cross_val_score(tree_model, data_numerical, target, cv=10, n_jobs=2)"
   ]
  },
  {
   "cell_type": "markdown",
   "metadata": {},
   "source": [
    "Fold-to-fold Comparison"
   ]
  },
  {
   "cell_type": "code",
   "execution_count": 6,
   "metadata": {},
   "outputs": [
    {
     "name": "stdout",
     "output_type": "stream",
     "text": [
      "[ True  True  True  True  True  True  True  True False  True]\n",
      "Linear regression is better than decision tree for 9 CV iterations out of 10 folds.\n"
     ]
    }
   ],
   "source": [
    "print(LM_test_scores > Tree_test_scores)\n",
    "print(\n",
    "    \"Linear regression is better than decision tree for \"\n",
    "    f\"{sum(LM_test_scores > Tree_test_scores)} CV iterations out of 10 folds.\"\n",
    ")"
   ]
  },
  {
   "cell_type": "markdown",
   "metadata": {},
   "source": [
    "## Fine-Tunning The Tree Depth"
   ]
  },
  {
   "cell_type": "code",
   "execution_count": 7,
   "metadata": {},
   "outputs": [],
   "source": [
    "import numpy as np\n",
    "from sklearn.model_selection import GridSearchCV, cross_validate\n",
    "\n",
    "\n",
    "param_grid = {\"max_depth\": np.arange(1, 16)}\n",
    "\n",
    "tree_CV = GridSearchCV(tree_model, param_grid=param_grid, cv=10)\n",
    "\n",
    "cv_results = cross_validate(tree_CV, data_numerical, target, cv=10, return_estimator=True, n_jobs=2)"
   ]
  },
  {
   "cell_type": "markdown",
   "metadata": {},
   "source": [
    "Checking the best max_depth for the 10 estimators,"
   ]
  },
  {
   "cell_type": "code",
   "execution_count": 8,
   "metadata": {},
   "outputs": [
    {
     "name": "stdout",
     "output_type": "stream",
     "text": [
      "{'max_depth': 5}\n",
      "{'max_depth': 7}\n",
      "{'max_depth': 6}\n",
      "{'max_depth': 6}\n",
      "{'max_depth': 8}\n",
      "{'max_depth': 6}\n",
      "{'max_depth': 7}\n",
      "{'max_depth': 8}\n",
      "{'max_depth': 7}\n",
      "{'max_depth': 6}\n"
     ]
    }
   ],
   "source": [
    "for estimator in cv_results['estimator']:\n",
    "    print(estimator.best_params_)"
   ]
  },
  {
   "cell_type": "markdown",
   "metadata": {},
   "source": [
    "Fold-to-fold comparison with the linear model,"
   ]
  },
  {
   "cell_type": "code",
   "execution_count": 9,
   "metadata": {
    "scrolled": true
   },
   "outputs": [
    {
     "name": "stdout",
     "output_type": "stream",
     "text": [
      "[False False False False False False False  True  True False]\n",
      "A tree with an optimized depth is better than linear regression for 2 CV iterations out of 10 folds.\n"
     ]
    }
   ],
   "source": [
    "print(cv_results['test_score'] > LM_test_scores)\n",
    "print(\n",
    "    \"A tree with an optimized depth is better than linear regression for \"\n",
    "    f\"{sum(cv_results['test_score'] > LM_test_scores)} CV \"\n",
    "    \"iterations out of 10 folds.\"\n",
    ")"
   ]
  },
  {
   "cell_type": "markdown",
   "metadata": {},
   "source": [
    "Changing the random state to 1"
   ]
  },
  {
   "cell_type": "code",
   "execution_count": 10,
   "metadata": {},
   "outputs": [
    {
     "name": "stdout",
     "output_type": "stream",
     "text": [
      "[False False False False False False False  True  True False]\n",
      "A tree with an optimized depth is better than linear regression for 2 CV iterations out of 10 folds.\n"
     ]
    }
   ],
   "source": [
    "tree_CV.set_params(estimator__random_state=1)\n",
    "\n",
    "cv_results = cross_validate(tree_CV, data_numerical, target, cv=10, return_estimator=True)\n",
    "\n",
    "print(cv_results['test_score'] > LM_test_scores)\n",
    "print(\n",
    "    \"A tree with an optimized depth is better than linear regression for \"\n",
    "    f\"{sum(cv_results['test_score'] > LM_test_scores)} CV \"\n",
    "    \"iterations out of 10 folds.\"\n",
    ")"
   ]
  },
  {
   "cell_type": "markdown",
   "metadata": {},
   "source": [
    "Changing the random state to 42"
   ]
  },
  {
   "cell_type": "code",
   "execution_count": 11,
   "metadata": {},
   "outputs": [
    {
     "name": "stdout",
     "output_type": "stream",
     "text": [
      "[False False False False False False False  True  True False]\n",
      "A tree with an optimized depth is better than linear regression for 2 CV iterations out of 10 folds.\n"
     ]
    }
   ],
   "source": [
    "tree_CV.set_params(estimator__random_state=42)\n",
    "\n",
    "cv_results = cross_validate(tree_CV, data_numerical, target, cv=10, return_estimator=True)\n",
    "\n",
    "print(cv_results['test_score'] > LM_test_scores)\n",
    "print(\n",
    "    \"A tree with an optimized depth is better than linear regression for \"\n",
    "    f\"{sum(cv_results['test_score'] > LM_test_scores)} CV \"\n",
    "    \"iterations out of 10 folds.\"\n",
    ")"
   ]
  },
  {
   "cell_type": "markdown",
   "metadata": {},
   "source": [
    "The tree model is often performing worse than the linear model regardless of the random state of the tree."
   ]
  },
  {
   "cell_type": "markdown",
   "metadata": {},
   "source": [
    "## Models with Cat and Num Data"
   ]
  },
  {
   "cell_type": "markdown",
   "metadata": {},
   "source": [
    "### Linear Model"
   ]
  },
  {
   "cell_type": "code",
   "execution_count": 12,
   "metadata": {},
   "outputs": [
    {
     "data": {
      "text/html": [
       "<style>#sk-container-id-1 {color: black;}#sk-container-id-1 pre{padding: 0;}#sk-container-id-1 div.sk-toggleable {background-color: white;}#sk-container-id-1 label.sk-toggleable__label {cursor: pointer;display: block;width: 100%;margin-bottom: 0;padding: 0.3em;box-sizing: border-box;text-align: center;}#sk-container-id-1 label.sk-toggleable__label-arrow:before {content: \"▸\";float: left;margin-right: 0.25em;color: #696969;}#sk-container-id-1 label.sk-toggleable__label-arrow:hover:before {color: black;}#sk-container-id-1 div.sk-estimator:hover label.sk-toggleable__label-arrow:before {color: black;}#sk-container-id-1 div.sk-toggleable__content {max-height: 0;max-width: 0;overflow: hidden;text-align: left;background-color: #f0f8ff;}#sk-container-id-1 div.sk-toggleable__content pre {margin: 0.2em;color: black;border-radius: 0.25em;background-color: #f0f8ff;}#sk-container-id-1 input.sk-toggleable__control:checked~div.sk-toggleable__content {max-height: 200px;max-width: 100%;overflow: auto;}#sk-container-id-1 input.sk-toggleable__control:checked~label.sk-toggleable__label-arrow:before {content: \"▾\";}#sk-container-id-1 div.sk-estimator input.sk-toggleable__control:checked~label.sk-toggleable__label {background-color: #d4ebff;}#sk-container-id-1 div.sk-label input.sk-toggleable__control:checked~label.sk-toggleable__label {background-color: #d4ebff;}#sk-container-id-1 input.sk-hidden--visually {border: 0;clip: rect(1px 1px 1px 1px);clip: rect(1px, 1px, 1px, 1px);height: 1px;margin: -1px;overflow: hidden;padding: 0;position: absolute;width: 1px;}#sk-container-id-1 div.sk-estimator {font-family: monospace;background-color: #f0f8ff;border: 1px dotted black;border-radius: 0.25em;box-sizing: border-box;margin-bottom: 0.5em;}#sk-container-id-1 div.sk-estimator:hover {background-color: #d4ebff;}#sk-container-id-1 div.sk-parallel-item::after {content: \"\";width: 100%;border-bottom: 1px solid gray;flex-grow: 1;}#sk-container-id-1 div.sk-label:hover label.sk-toggleable__label {background-color: #d4ebff;}#sk-container-id-1 div.sk-serial::before {content: \"\";position: absolute;border-left: 1px solid gray;box-sizing: border-box;top: 0;bottom: 0;left: 50%;z-index: 0;}#sk-container-id-1 div.sk-serial {display: flex;flex-direction: column;align-items: center;background-color: white;padding-right: 0.2em;padding-left: 0.2em;position: relative;}#sk-container-id-1 div.sk-item {position: relative;z-index: 1;}#sk-container-id-1 div.sk-parallel {display: flex;align-items: stretch;justify-content: center;background-color: white;position: relative;}#sk-container-id-1 div.sk-item::before, #sk-container-id-1 div.sk-parallel-item::before {content: \"\";position: absolute;border-left: 1px solid gray;box-sizing: border-box;top: 0;bottom: 0;left: 50%;z-index: -1;}#sk-container-id-1 div.sk-parallel-item {display: flex;flex-direction: column;z-index: 1;position: relative;background-color: white;}#sk-container-id-1 div.sk-parallel-item:first-child::after {align-self: flex-end;width: 50%;}#sk-container-id-1 div.sk-parallel-item:last-child::after {align-self: flex-start;width: 50%;}#sk-container-id-1 div.sk-parallel-item:only-child::after {width: 0;}#sk-container-id-1 div.sk-dashed-wrapped {border: 1px dashed gray;margin: 0 0.4em 0.5em 0.4em;box-sizing: border-box;padding-bottom: 0.4em;background-color: white;}#sk-container-id-1 div.sk-label label {font-family: monospace;font-weight: bold;display: inline-block;line-height: 1.2em;}#sk-container-id-1 div.sk-label-container {text-align: center;}#sk-container-id-1 div.sk-container {/* jupyter's `normalize.less` sets `[hidden] { display: none; }` but bootstrap.min.css set `[hidden] { display: none !important; }` so we also need the `!important` here to be able to override the default hidden behavior on the sphinx rendered scikit-learn.org. See: https://github.com/scikit-learn/scikit-learn/issues/21755 */display: inline-block !important;position: relative;}#sk-container-id-1 div.sk-text-repr-fallback {display: none;}</style><div id=\"sk-container-id-1\" class=\"sk-top-container\"><div class=\"sk-text-repr-fallback\"><pre>Pipeline(steps=[(&#x27;columntransformer&#x27;,\n",
       "                 ColumnTransformer(transformers=[(&#x27;categorical&#x27;,\n",
       "                                                  OrdinalEncoder(handle_unknown=&#x27;use_encoded_value&#x27;,\n",
       "                                                                 unknown_value=-1),\n",
       "                                                  [&#x27;MSZoning&#x27;, &#x27;Street&#x27;,\n",
       "                                                   &#x27;Alley&#x27;, &#x27;LotShape&#x27;,\n",
       "                                                   &#x27;LandContour&#x27;, &#x27;Utilities&#x27;,\n",
       "                                                   &#x27;LotConfig&#x27;, &#x27;LandSlope&#x27;,\n",
       "                                                   &#x27;Neighborhood&#x27;, &#x27;Condition1&#x27;,\n",
       "                                                   &#x27;Condition2&#x27;, &#x27;BldgType&#x27;,\n",
       "                                                   &#x27;HouseStyle&#x27;, &#x27;RoofStyle&#x27;,\n",
       "                                                   &#x27;RoofMatl&#x27;, &#x27;Exterior1st&#x27;,\n",
       "                                                   &#x27;Exter...\n",
       "                                                   &#x27;MasVnrArea&#x27;, &#x27;BsmtFinSF1&#x27;,\n",
       "                                                   &#x27;BsmtFinSF2&#x27;, &#x27;BsmtUnfSF&#x27;,\n",
       "                                                   &#x27;TotalBsmtSF&#x27;, &#x27;1stFlrSF&#x27;,\n",
       "                                                   &#x27;2ndFlrSF&#x27;, &#x27;LowQualFinSF&#x27;,\n",
       "                                                   &#x27;GrLivArea&#x27;, &#x27;BedroomAbvGr&#x27;,\n",
       "                                                   &#x27;KitchenAbvGr&#x27;,\n",
       "                                                   &#x27;TotRmsAbvGrd&#x27;, &#x27;Fireplaces&#x27;,\n",
       "                                                   &#x27;GarageCars&#x27;, &#x27;GarageArea&#x27;,\n",
       "                                                   &#x27;WoodDeckSF&#x27;, &#x27;OpenPorchSF&#x27;,\n",
       "                                                   &#x27;EnclosedPorch&#x27;, &#x27;3SsnPorch&#x27;,\n",
       "                                                   &#x27;ScreenPorch&#x27;, &#x27;PoolArea&#x27;,\n",
       "                                                   &#x27;MiscVal&#x27;])])),\n",
       "                (&#x27;standardscaler&#x27;, StandardScaler()),\n",
       "                (&#x27;linearregression&#x27;, LinearRegression())])</pre><b>In a Jupyter environment, please rerun this cell to show the HTML representation or trust the notebook. <br />On GitHub, the HTML representation is unable to render, please try loading this page with nbviewer.org.</b></div><div class=\"sk-container\" hidden><div class=\"sk-item sk-dashed-wrapped\"><div class=\"sk-label-container\"><div class=\"sk-label sk-toggleable\"><input class=\"sk-toggleable__control sk-hidden--visually\" id=\"sk-estimator-id-1\" type=\"checkbox\" ><label for=\"sk-estimator-id-1\" class=\"sk-toggleable__label sk-toggleable__label-arrow\">Pipeline</label><div class=\"sk-toggleable__content\"><pre>Pipeline(steps=[(&#x27;columntransformer&#x27;,\n",
       "                 ColumnTransformer(transformers=[(&#x27;categorical&#x27;,\n",
       "                                                  OrdinalEncoder(handle_unknown=&#x27;use_encoded_value&#x27;,\n",
       "                                                                 unknown_value=-1),\n",
       "                                                  [&#x27;MSZoning&#x27;, &#x27;Street&#x27;,\n",
       "                                                   &#x27;Alley&#x27;, &#x27;LotShape&#x27;,\n",
       "                                                   &#x27;LandContour&#x27;, &#x27;Utilities&#x27;,\n",
       "                                                   &#x27;LotConfig&#x27;, &#x27;LandSlope&#x27;,\n",
       "                                                   &#x27;Neighborhood&#x27;, &#x27;Condition1&#x27;,\n",
       "                                                   &#x27;Condition2&#x27;, &#x27;BldgType&#x27;,\n",
       "                                                   &#x27;HouseStyle&#x27;, &#x27;RoofStyle&#x27;,\n",
       "                                                   &#x27;RoofMatl&#x27;, &#x27;Exterior1st&#x27;,\n",
       "                                                   &#x27;Exter...\n",
       "                                                   &#x27;MasVnrArea&#x27;, &#x27;BsmtFinSF1&#x27;,\n",
       "                                                   &#x27;BsmtFinSF2&#x27;, &#x27;BsmtUnfSF&#x27;,\n",
       "                                                   &#x27;TotalBsmtSF&#x27;, &#x27;1stFlrSF&#x27;,\n",
       "                                                   &#x27;2ndFlrSF&#x27;, &#x27;LowQualFinSF&#x27;,\n",
       "                                                   &#x27;GrLivArea&#x27;, &#x27;BedroomAbvGr&#x27;,\n",
       "                                                   &#x27;KitchenAbvGr&#x27;,\n",
       "                                                   &#x27;TotRmsAbvGrd&#x27;, &#x27;Fireplaces&#x27;,\n",
       "                                                   &#x27;GarageCars&#x27;, &#x27;GarageArea&#x27;,\n",
       "                                                   &#x27;WoodDeckSF&#x27;, &#x27;OpenPorchSF&#x27;,\n",
       "                                                   &#x27;EnclosedPorch&#x27;, &#x27;3SsnPorch&#x27;,\n",
       "                                                   &#x27;ScreenPorch&#x27;, &#x27;PoolArea&#x27;,\n",
       "                                                   &#x27;MiscVal&#x27;])])),\n",
       "                (&#x27;standardscaler&#x27;, StandardScaler()),\n",
       "                (&#x27;linearregression&#x27;, LinearRegression())])</pre></div></div></div><div class=\"sk-serial\"><div class=\"sk-item sk-dashed-wrapped\"><div class=\"sk-label-container\"><div class=\"sk-label sk-toggleable\"><input class=\"sk-toggleable__control sk-hidden--visually\" id=\"sk-estimator-id-2\" type=\"checkbox\" ><label for=\"sk-estimator-id-2\" class=\"sk-toggleable__label sk-toggleable__label-arrow\">columntransformer: ColumnTransformer</label><div class=\"sk-toggleable__content\"><pre>ColumnTransformer(transformers=[(&#x27;categorical&#x27;,\n",
       "                                 OrdinalEncoder(handle_unknown=&#x27;use_encoded_value&#x27;,\n",
       "                                                unknown_value=-1),\n",
       "                                 [&#x27;MSZoning&#x27;, &#x27;Street&#x27;, &#x27;Alley&#x27;, &#x27;LotShape&#x27;,\n",
       "                                  &#x27;LandContour&#x27;, &#x27;Utilities&#x27;, &#x27;LotConfig&#x27;,\n",
       "                                  &#x27;LandSlope&#x27;, &#x27;Neighborhood&#x27;, &#x27;Condition1&#x27;,\n",
       "                                  &#x27;Condition2&#x27;, &#x27;BldgType&#x27;, &#x27;HouseStyle&#x27;,\n",
       "                                  &#x27;RoofStyle&#x27;, &#x27;RoofMatl&#x27;, &#x27;Exterior1st&#x27;,\n",
       "                                  &#x27;Exterior2nd&#x27;, &#x27;MasVnrType&#x27;, &#x27;ExterQual&#x27;,\n",
       "                                  &#x27;Ext...\n",
       "                                  &#x27;CentralAir&#x27;, &#x27;Electrical&#x27;, ...]),\n",
       "                                (&#x27;numerical&#x27;, &#x27;passthrough&#x27;,\n",
       "                                 [&#x27;LotFrontage&#x27;, &#x27;LotArea&#x27;, &#x27;MasVnrArea&#x27;,\n",
       "                                  &#x27;BsmtFinSF1&#x27;, &#x27;BsmtFinSF2&#x27;, &#x27;BsmtUnfSF&#x27;,\n",
       "                                  &#x27;TotalBsmtSF&#x27;, &#x27;1stFlrSF&#x27;, &#x27;2ndFlrSF&#x27;,\n",
       "                                  &#x27;LowQualFinSF&#x27;, &#x27;GrLivArea&#x27;, &#x27;BedroomAbvGr&#x27;,\n",
       "                                  &#x27;KitchenAbvGr&#x27;, &#x27;TotRmsAbvGrd&#x27;, &#x27;Fireplaces&#x27;,\n",
       "                                  &#x27;GarageCars&#x27;, &#x27;GarageArea&#x27;, &#x27;WoodDeckSF&#x27;,\n",
       "                                  &#x27;OpenPorchSF&#x27;, &#x27;EnclosedPorch&#x27;, &#x27;3SsnPorch&#x27;,\n",
       "                                  &#x27;ScreenPorch&#x27;, &#x27;PoolArea&#x27;, &#x27;MiscVal&#x27;])])</pre></div></div></div><div class=\"sk-parallel\"><div class=\"sk-parallel-item\"><div class=\"sk-item\"><div class=\"sk-label-container\"><div class=\"sk-label sk-toggleable\"><input class=\"sk-toggleable__control sk-hidden--visually\" id=\"sk-estimator-id-3\" type=\"checkbox\" ><label for=\"sk-estimator-id-3\" class=\"sk-toggleable__label sk-toggleable__label-arrow\">categorical</label><div class=\"sk-toggleable__content\"><pre>[&#x27;MSZoning&#x27;, &#x27;Street&#x27;, &#x27;Alley&#x27;, &#x27;LotShape&#x27;, &#x27;LandContour&#x27;, &#x27;Utilities&#x27;, &#x27;LotConfig&#x27;, &#x27;LandSlope&#x27;, &#x27;Neighborhood&#x27;, &#x27;Condition1&#x27;, &#x27;Condition2&#x27;, &#x27;BldgType&#x27;, &#x27;HouseStyle&#x27;, &#x27;RoofStyle&#x27;, &#x27;RoofMatl&#x27;, &#x27;Exterior1st&#x27;, &#x27;Exterior2nd&#x27;, &#x27;MasVnrType&#x27;, &#x27;ExterQual&#x27;, &#x27;ExterCond&#x27;, &#x27;Foundation&#x27;, &#x27;BsmtQual&#x27;, &#x27;BsmtCond&#x27;, &#x27;BsmtExposure&#x27;, &#x27;BsmtFinType1&#x27;, &#x27;BsmtFinType2&#x27;, &#x27;Heating&#x27;, &#x27;HeatingQC&#x27;, &#x27;CentralAir&#x27;, &#x27;Electrical&#x27;, &#x27;KitchenQual&#x27;, &#x27;Functional&#x27;, &#x27;FireplaceQu&#x27;, &#x27;GarageType&#x27;, &#x27;GarageFinish&#x27;, &#x27;GarageQual&#x27;, &#x27;GarageCond&#x27;, &#x27;PavedDrive&#x27;, &#x27;PoolQC&#x27;, &#x27;Fence&#x27;, &#x27;MiscFeature&#x27;, &#x27;SaleType&#x27;, &#x27;SaleCondition&#x27;]</pre></div></div></div><div class=\"sk-serial\"><div class=\"sk-item\"><div class=\"sk-estimator sk-toggleable\"><input class=\"sk-toggleable__control sk-hidden--visually\" id=\"sk-estimator-id-4\" type=\"checkbox\" ><label for=\"sk-estimator-id-4\" class=\"sk-toggleable__label sk-toggleable__label-arrow\">OrdinalEncoder</label><div class=\"sk-toggleable__content\"><pre>OrdinalEncoder(handle_unknown=&#x27;use_encoded_value&#x27;, unknown_value=-1)</pre></div></div></div></div></div></div><div class=\"sk-parallel-item\"><div class=\"sk-item\"><div class=\"sk-label-container\"><div class=\"sk-label sk-toggleable\"><input class=\"sk-toggleable__control sk-hidden--visually\" id=\"sk-estimator-id-5\" type=\"checkbox\" ><label for=\"sk-estimator-id-5\" class=\"sk-toggleable__label sk-toggleable__label-arrow\">numerical</label><div class=\"sk-toggleable__content\"><pre>[&#x27;LotFrontage&#x27;, &#x27;LotArea&#x27;, &#x27;MasVnrArea&#x27;, &#x27;BsmtFinSF1&#x27;, &#x27;BsmtFinSF2&#x27;, &#x27;BsmtUnfSF&#x27;, &#x27;TotalBsmtSF&#x27;, &#x27;1stFlrSF&#x27;, &#x27;2ndFlrSF&#x27;, &#x27;LowQualFinSF&#x27;, &#x27;GrLivArea&#x27;, &#x27;BedroomAbvGr&#x27;, &#x27;KitchenAbvGr&#x27;, &#x27;TotRmsAbvGrd&#x27;, &#x27;Fireplaces&#x27;, &#x27;GarageCars&#x27;, &#x27;GarageArea&#x27;, &#x27;WoodDeckSF&#x27;, &#x27;OpenPorchSF&#x27;, &#x27;EnclosedPorch&#x27;, &#x27;3SsnPorch&#x27;, &#x27;ScreenPorch&#x27;, &#x27;PoolArea&#x27;, &#x27;MiscVal&#x27;]</pre></div></div></div><div class=\"sk-serial\"><div class=\"sk-item\"><div class=\"sk-estimator sk-toggleable\"><input class=\"sk-toggleable__control sk-hidden--visually\" id=\"sk-estimator-id-6\" type=\"checkbox\" ><label for=\"sk-estimator-id-6\" class=\"sk-toggleable__label sk-toggleable__label-arrow\">passthrough</label><div class=\"sk-toggleable__content\"><pre>passthrough</pre></div></div></div></div></div></div></div></div><div class=\"sk-item\"><div class=\"sk-estimator sk-toggleable\"><input class=\"sk-toggleable__control sk-hidden--visually\" id=\"sk-estimator-id-7\" type=\"checkbox\" ><label for=\"sk-estimator-id-7\" class=\"sk-toggleable__label sk-toggleable__label-arrow\">StandardScaler</label><div class=\"sk-toggleable__content\"><pre>StandardScaler()</pre></div></div></div><div class=\"sk-item\"><div class=\"sk-estimator sk-toggleable\"><input class=\"sk-toggleable__control sk-hidden--visually\" id=\"sk-estimator-id-8\" type=\"checkbox\" ><label for=\"sk-estimator-id-8\" class=\"sk-toggleable__label sk-toggleable__label-arrow\">LinearRegression</label><div class=\"sk-toggleable__content\"><pre>LinearRegression()</pre></div></div></div></div></div></div></div>"
      ],
      "text/plain": [
       "Pipeline(steps=[('columntransformer',\n",
       "                 ColumnTransformer(transformers=[('categorical',\n",
       "                                                  OrdinalEncoder(handle_unknown='use_encoded_value',\n",
       "                                                                 unknown_value=-1),\n",
       "                                                  ['MSZoning', 'Street',\n",
       "                                                   'Alley', 'LotShape',\n",
       "                                                   'LandContour', 'Utilities',\n",
       "                                                   'LotConfig', 'LandSlope',\n",
       "                                                   'Neighborhood', 'Condition1',\n",
       "                                                   'Condition2', 'BldgType',\n",
       "                                                   'HouseStyle', 'RoofStyle',\n",
       "                                                   'RoofMatl', 'Exterior1st',\n",
       "                                                   'Exter...\n",
       "                                                   'MasVnrArea', 'BsmtFinSF1',\n",
       "                                                   'BsmtFinSF2', 'BsmtUnfSF',\n",
       "                                                   'TotalBsmtSF', '1stFlrSF',\n",
       "                                                   '2ndFlrSF', 'LowQualFinSF',\n",
       "                                                   'GrLivArea', 'BedroomAbvGr',\n",
       "                                                   'KitchenAbvGr',\n",
       "                                                   'TotRmsAbvGrd', 'Fireplaces',\n",
       "                                                   'GarageCars', 'GarageArea',\n",
       "                                                   'WoodDeckSF', 'OpenPorchSF',\n",
       "                                                   'EnclosedPorch', '3SsnPorch',\n",
       "                                                   'ScreenPorch', 'PoolArea',\n",
       "                                                   'MiscVal'])])),\n",
       "                ('standardscaler', StandardScaler()),\n",
       "                ('linearregression', LinearRegression())])"
      ]
     },
     "execution_count": 12,
     "metadata": {},
     "output_type": "execute_result"
    }
   ],
   "source": [
    "from sklearn.preprocessing import OrdinalEncoder\n",
    "from sklearn.compose import make_column_selector as selector\n",
    "from sklearn.compose import ColumnTransformer\n",
    "\n",
    "categorical_columns_selector = selector(dtype_include=object)\n",
    "categorical_features = categorical_columns_selector(data)\n",
    "\n",
    "categorical_preprocessor = OrdinalEncoder(handle_unknown=\"use_encoded_value\", unknown_value=-1)\n",
    "\n",
    "preprocessor = ColumnTransformer(\n",
    "    [(\"categorical\", categorical_preprocessor, categorical_features),\n",
    "     (\"numerical\", \"passthrough\", numerical_features)])\n",
    "\n",
    "linear_model_catnum = make_pipeline(preprocessor, StandardScaler(), LinearRegression())\n",
    "linear_model_catnum"
   ]
  },
  {
   "cell_type": "markdown",
   "metadata": {},
   "source": [
    "### Tree Model"
   ]
  },
  {
   "cell_type": "code",
   "execution_count": 13,
   "metadata": {},
   "outputs": [
    {
     "data": {
      "text/html": [
       "<style>#sk-container-id-2 {color: black;}#sk-container-id-2 pre{padding: 0;}#sk-container-id-2 div.sk-toggleable {background-color: white;}#sk-container-id-2 label.sk-toggleable__label {cursor: pointer;display: block;width: 100%;margin-bottom: 0;padding: 0.3em;box-sizing: border-box;text-align: center;}#sk-container-id-2 label.sk-toggleable__label-arrow:before {content: \"▸\";float: left;margin-right: 0.25em;color: #696969;}#sk-container-id-2 label.sk-toggleable__label-arrow:hover:before {color: black;}#sk-container-id-2 div.sk-estimator:hover label.sk-toggleable__label-arrow:before {color: black;}#sk-container-id-2 div.sk-toggleable__content {max-height: 0;max-width: 0;overflow: hidden;text-align: left;background-color: #f0f8ff;}#sk-container-id-2 div.sk-toggleable__content pre {margin: 0.2em;color: black;border-radius: 0.25em;background-color: #f0f8ff;}#sk-container-id-2 input.sk-toggleable__control:checked~div.sk-toggleable__content {max-height: 200px;max-width: 100%;overflow: auto;}#sk-container-id-2 input.sk-toggleable__control:checked~label.sk-toggleable__label-arrow:before {content: \"▾\";}#sk-container-id-2 div.sk-estimator input.sk-toggleable__control:checked~label.sk-toggleable__label {background-color: #d4ebff;}#sk-container-id-2 div.sk-label input.sk-toggleable__control:checked~label.sk-toggleable__label {background-color: #d4ebff;}#sk-container-id-2 input.sk-hidden--visually {border: 0;clip: rect(1px 1px 1px 1px);clip: rect(1px, 1px, 1px, 1px);height: 1px;margin: -1px;overflow: hidden;padding: 0;position: absolute;width: 1px;}#sk-container-id-2 div.sk-estimator {font-family: monospace;background-color: #f0f8ff;border: 1px dotted black;border-radius: 0.25em;box-sizing: border-box;margin-bottom: 0.5em;}#sk-container-id-2 div.sk-estimator:hover {background-color: #d4ebff;}#sk-container-id-2 div.sk-parallel-item::after {content: \"\";width: 100%;border-bottom: 1px solid gray;flex-grow: 1;}#sk-container-id-2 div.sk-label:hover label.sk-toggleable__label {background-color: #d4ebff;}#sk-container-id-2 div.sk-serial::before {content: \"\";position: absolute;border-left: 1px solid gray;box-sizing: border-box;top: 0;bottom: 0;left: 50%;z-index: 0;}#sk-container-id-2 div.sk-serial {display: flex;flex-direction: column;align-items: center;background-color: white;padding-right: 0.2em;padding-left: 0.2em;position: relative;}#sk-container-id-2 div.sk-item {position: relative;z-index: 1;}#sk-container-id-2 div.sk-parallel {display: flex;align-items: stretch;justify-content: center;background-color: white;position: relative;}#sk-container-id-2 div.sk-item::before, #sk-container-id-2 div.sk-parallel-item::before {content: \"\";position: absolute;border-left: 1px solid gray;box-sizing: border-box;top: 0;bottom: 0;left: 50%;z-index: -1;}#sk-container-id-2 div.sk-parallel-item {display: flex;flex-direction: column;z-index: 1;position: relative;background-color: white;}#sk-container-id-2 div.sk-parallel-item:first-child::after {align-self: flex-end;width: 50%;}#sk-container-id-2 div.sk-parallel-item:last-child::after {align-self: flex-start;width: 50%;}#sk-container-id-2 div.sk-parallel-item:only-child::after {width: 0;}#sk-container-id-2 div.sk-dashed-wrapped {border: 1px dashed gray;margin: 0 0.4em 0.5em 0.4em;box-sizing: border-box;padding-bottom: 0.4em;background-color: white;}#sk-container-id-2 div.sk-label label {font-family: monospace;font-weight: bold;display: inline-block;line-height: 1.2em;}#sk-container-id-2 div.sk-label-container {text-align: center;}#sk-container-id-2 div.sk-container {/* jupyter's `normalize.less` sets `[hidden] { display: none; }` but bootstrap.min.css set `[hidden] { display: none !important; }` so we also need the `!important` here to be able to override the default hidden behavior on the sphinx rendered scikit-learn.org. See: https://github.com/scikit-learn/scikit-learn/issues/21755 */display: inline-block !important;position: relative;}#sk-container-id-2 div.sk-text-repr-fallback {display: none;}</style><div id=\"sk-container-id-2\" class=\"sk-top-container\"><div class=\"sk-text-repr-fallback\"><pre>Pipeline(steps=[(&#x27;columntransformer&#x27;,\n",
       "                 ColumnTransformer(transformers=[(&#x27;categorical&#x27;,\n",
       "                                                  OrdinalEncoder(handle_unknown=&#x27;use_encoded_value&#x27;,\n",
       "                                                                 unknown_value=-1),\n",
       "                                                  [&#x27;MSZoning&#x27;, &#x27;Street&#x27;,\n",
       "                                                   &#x27;Alley&#x27;, &#x27;LotShape&#x27;,\n",
       "                                                   &#x27;LandContour&#x27;, &#x27;Utilities&#x27;,\n",
       "                                                   &#x27;LotConfig&#x27;, &#x27;LandSlope&#x27;,\n",
       "                                                   &#x27;Neighborhood&#x27;, &#x27;Condition1&#x27;,\n",
       "                                                   &#x27;Condition2&#x27;, &#x27;BldgType&#x27;,\n",
       "                                                   &#x27;HouseStyle&#x27;, &#x27;RoofStyle&#x27;,\n",
       "                                                   &#x27;RoofMatl&#x27;, &#x27;Exterior1st&#x27;,\n",
       "                                                   &#x27;Exter...\n",
       "                                                   &#x27;MasVnrArea&#x27;, &#x27;BsmtFinSF1&#x27;,\n",
       "                                                   &#x27;BsmtFinSF2&#x27;, &#x27;BsmtUnfSF&#x27;,\n",
       "                                                   &#x27;TotalBsmtSF&#x27;, &#x27;1stFlrSF&#x27;,\n",
       "                                                   &#x27;2ndFlrSF&#x27;, &#x27;LowQualFinSF&#x27;,\n",
       "                                                   &#x27;GrLivArea&#x27;, &#x27;BedroomAbvGr&#x27;,\n",
       "                                                   &#x27;KitchenAbvGr&#x27;,\n",
       "                                                   &#x27;TotRmsAbvGrd&#x27;, &#x27;Fireplaces&#x27;,\n",
       "                                                   &#x27;GarageCars&#x27;, &#x27;GarageArea&#x27;,\n",
       "                                                   &#x27;WoodDeckSF&#x27;, &#x27;OpenPorchSF&#x27;,\n",
       "                                                   &#x27;EnclosedPorch&#x27;, &#x27;3SsnPorch&#x27;,\n",
       "                                                   &#x27;ScreenPorch&#x27;, &#x27;PoolArea&#x27;,\n",
       "                                                   &#x27;MiscVal&#x27;])])),\n",
       "                (&#x27;decisiontreeregressor&#x27;,\n",
       "                 DecisionTreeRegressor(max_depth=7, random_state=0))])</pre><b>In a Jupyter environment, please rerun this cell to show the HTML representation or trust the notebook. <br />On GitHub, the HTML representation is unable to render, please try loading this page with nbviewer.org.</b></div><div class=\"sk-container\" hidden><div class=\"sk-item sk-dashed-wrapped\"><div class=\"sk-label-container\"><div class=\"sk-label sk-toggleable\"><input class=\"sk-toggleable__control sk-hidden--visually\" id=\"sk-estimator-id-9\" type=\"checkbox\" ><label for=\"sk-estimator-id-9\" class=\"sk-toggleable__label sk-toggleable__label-arrow\">Pipeline</label><div class=\"sk-toggleable__content\"><pre>Pipeline(steps=[(&#x27;columntransformer&#x27;,\n",
       "                 ColumnTransformer(transformers=[(&#x27;categorical&#x27;,\n",
       "                                                  OrdinalEncoder(handle_unknown=&#x27;use_encoded_value&#x27;,\n",
       "                                                                 unknown_value=-1),\n",
       "                                                  [&#x27;MSZoning&#x27;, &#x27;Street&#x27;,\n",
       "                                                   &#x27;Alley&#x27;, &#x27;LotShape&#x27;,\n",
       "                                                   &#x27;LandContour&#x27;, &#x27;Utilities&#x27;,\n",
       "                                                   &#x27;LotConfig&#x27;, &#x27;LandSlope&#x27;,\n",
       "                                                   &#x27;Neighborhood&#x27;, &#x27;Condition1&#x27;,\n",
       "                                                   &#x27;Condition2&#x27;, &#x27;BldgType&#x27;,\n",
       "                                                   &#x27;HouseStyle&#x27;, &#x27;RoofStyle&#x27;,\n",
       "                                                   &#x27;RoofMatl&#x27;, &#x27;Exterior1st&#x27;,\n",
       "                                                   &#x27;Exter...\n",
       "                                                   &#x27;MasVnrArea&#x27;, &#x27;BsmtFinSF1&#x27;,\n",
       "                                                   &#x27;BsmtFinSF2&#x27;, &#x27;BsmtUnfSF&#x27;,\n",
       "                                                   &#x27;TotalBsmtSF&#x27;, &#x27;1stFlrSF&#x27;,\n",
       "                                                   &#x27;2ndFlrSF&#x27;, &#x27;LowQualFinSF&#x27;,\n",
       "                                                   &#x27;GrLivArea&#x27;, &#x27;BedroomAbvGr&#x27;,\n",
       "                                                   &#x27;KitchenAbvGr&#x27;,\n",
       "                                                   &#x27;TotRmsAbvGrd&#x27;, &#x27;Fireplaces&#x27;,\n",
       "                                                   &#x27;GarageCars&#x27;, &#x27;GarageArea&#x27;,\n",
       "                                                   &#x27;WoodDeckSF&#x27;, &#x27;OpenPorchSF&#x27;,\n",
       "                                                   &#x27;EnclosedPorch&#x27;, &#x27;3SsnPorch&#x27;,\n",
       "                                                   &#x27;ScreenPorch&#x27;, &#x27;PoolArea&#x27;,\n",
       "                                                   &#x27;MiscVal&#x27;])])),\n",
       "                (&#x27;decisiontreeregressor&#x27;,\n",
       "                 DecisionTreeRegressor(max_depth=7, random_state=0))])</pre></div></div></div><div class=\"sk-serial\"><div class=\"sk-item sk-dashed-wrapped\"><div class=\"sk-label-container\"><div class=\"sk-label sk-toggleable\"><input class=\"sk-toggleable__control sk-hidden--visually\" id=\"sk-estimator-id-10\" type=\"checkbox\" ><label for=\"sk-estimator-id-10\" class=\"sk-toggleable__label sk-toggleable__label-arrow\">columntransformer: ColumnTransformer</label><div class=\"sk-toggleable__content\"><pre>ColumnTransformer(transformers=[(&#x27;categorical&#x27;,\n",
       "                                 OrdinalEncoder(handle_unknown=&#x27;use_encoded_value&#x27;,\n",
       "                                                unknown_value=-1),\n",
       "                                 [&#x27;MSZoning&#x27;, &#x27;Street&#x27;, &#x27;Alley&#x27;, &#x27;LotShape&#x27;,\n",
       "                                  &#x27;LandContour&#x27;, &#x27;Utilities&#x27;, &#x27;LotConfig&#x27;,\n",
       "                                  &#x27;LandSlope&#x27;, &#x27;Neighborhood&#x27;, &#x27;Condition1&#x27;,\n",
       "                                  &#x27;Condition2&#x27;, &#x27;BldgType&#x27;, &#x27;HouseStyle&#x27;,\n",
       "                                  &#x27;RoofStyle&#x27;, &#x27;RoofMatl&#x27;, &#x27;Exterior1st&#x27;,\n",
       "                                  &#x27;Exterior2nd&#x27;, &#x27;MasVnrType&#x27;, &#x27;ExterQual&#x27;,\n",
       "                                  &#x27;Ext...\n",
       "                                  &#x27;CentralAir&#x27;, &#x27;Electrical&#x27;, ...]),\n",
       "                                (&#x27;numerical&#x27;, &#x27;passthrough&#x27;,\n",
       "                                 [&#x27;LotFrontage&#x27;, &#x27;LotArea&#x27;, &#x27;MasVnrArea&#x27;,\n",
       "                                  &#x27;BsmtFinSF1&#x27;, &#x27;BsmtFinSF2&#x27;, &#x27;BsmtUnfSF&#x27;,\n",
       "                                  &#x27;TotalBsmtSF&#x27;, &#x27;1stFlrSF&#x27;, &#x27;2ndFlrSF&#x27;,\n",
       "                                  &#x27;LowQualFinSF&#x27;, &#x27;GrLivArea&#x27;, &#x27;BedroomAbvGr&#x27;,\n",
       "                                  &#x27;KitchenAbvGr&#x27;, &#x27;TotRmsAbvGrd&#x27;, &#x27;Fireplaces&#x27;,\n",
       "                                  &#x27;GarageCars&#x27;, &#x27;GarageArea&#x27;, &#x27;WoodDeckSF&#x27;,\n",
       "                                  &#x27;OpenPorchSF&#x27;, &#x27;EnclosedPorch&#x27;, &#x27;3SsnPorch&#x27;,\n",
       "                                  &#x27;ScreenPorch&#x27;, &#x27;PoolArea&#x27;, &#x27;MiscVal&#x27;])])</pre></div></div></div><div class=\"sk-parallel\"><div class=\"sk-parallel-item\"><div class=\"sk-item\"><div class=\"sk-label-container\"><div class=\"sk-label sk-toggleable\"><input class=\"sk-toggleable__control sk-hidden--visually\" id=\"sk-estimator-id-11\" type=\"checkbox\" ><label for=\"sk-estimator-id-11\" class=\"sk-toggleable__label sk-toggleable__label-arrow\">categorical</label><div class=\"sk-toggleable__content\"><pre>[&#x27;MSZoning&#x27;, &#x27;Street&#x27;, &#x27;Alley&#x27;, &#x27;LotShape&#x27;, &#x27;LandContour&#x27;, &#x27;Utilities&#x27;, &#x27;LotConfig&#x27;, &#x27;LandSlope&#x27;, &#x27;Neighborhood&#x27;, &#x27;Condition1&#x27;, &#x27;Condition2&#x27;, &#x27;BldgType&#x27;, &#x27;HouseStyle&#x27;, &#x27;RoofStyle&#x27;, &#x27;RoofMatl&#x27;, &#x27;Exterior1st&#x27;, &#x27;Exterior2nd&#x27;, &#x27;MasVnrType&#x27;, &#x27;ExterQual&#x27;, &#x27;ExterCond&#x27;, &#x27;Foundation&#x27;, &#x27;BsmtQual&#x27;, &#x27;BsmtCond&#x27;, &#x27;BsmtExposure&#x27;, &#x27;BsmtFinType1&#x27;, &#x27;BsmtFinType2&#x27;, &#x27;Heating&#x27;, &#x27;HeatingQC&#x27;, &#x27;CentralAir&#x27;, &#x27;Electrical&#x27;, &#x27;KitchenQual&#x27;, &#x27;Functional&#x27;, &#x27;FireplaceQu&#x27;, &#x27;GarageType&#x27;, &#x27;GarageFinish&#x27;, &#x27;GarageQual&#x27;, &#x27;GarageCond&#x27;, &#x27;PavedDrive&#x27;, &#x27;PoolQC&#x27;, &#x27;Fence&#x27;, &#x27;MiscFeature&#x27;, &#x27;SaleType&#x27;, &#x27;SaleCondition&#x27;]</pre></div></div></div><div class=\"sk-serial\"><div class=\"sk-item\"><div class=\"sk-estimator sk-toggleable\"><input class=\"sk-toggleable__control sk-hidden--visually\" id=\"sk-estimator-id-12\" type=\"checkbox\" ><label for=\"sk-estimator-id-12\" class=\"sk-toggleable__label sk-toggleable__label-arrow\">OrdinalEncoder</label><div class=\"sk-toggleable__content\"><pre>OrdinalEncoder(handle_unknown=&#x27;use_encoded_value&#x27;, unknown_value=-1)</pre></div></div></div></div></div></div><div class=\"sk-parallel-item\"><div class=\"sk-item\"><div class=\"sk-label-container\"><div class=\"sk-label sk-toggleable\"><input class=\"sk-toggleable__control sk-hidden--visually\" id=\"sk-estimator-id-13\" type=\"checkbox\" ><label for=\"sk-estimator-id-13\" class=\"sk-toggleable__label sk-toggleable__label-arrow\">numerical</label><div class=\"sk-toggleable__content\"><pre>[&#x27;LotFrontage&#x27;, &#x27;LotArea&#x27;, &#x27;MasVnrArea&#x27;, &#x27;BsmtFinSF1&#x27;, &#x27;BsmtFinSF2&#x27;, &#x27;BsmtUnfSF&#x27;, &#x27;TotalBsmtSF&#x27;, &#x27;1stFlrSF&#x27;, &#x27;2ndFlrSF&#x27;, &#x27;LowQualFinSF&#x27;, &#x27;GrLivArea&#x27;, &#x27;BedroomAbvGr&#x27;, &#x27;KitchenAbvGr&#x27;, &#x27;TotRmsAbvGrd&#x27;, &#x27;Fireplaces&#x27;, &#x27;GarageCars&#x27;, &#x27;GarageArea&#x27;, &#x27;WoodDeckSF&#x27;, &#x27;OpenPorchSF&#x27;, &#x27;EnclosedPorch&#x27;, &#x27;3SsnPorch&#x27;, &#x27;ScreenPorch&#x27;, &#x27;PoolArea&#x27;, &#x27;MiscVal&#x27;]</pre></div></div></div><div class=\"sk-serial\"><div class=\"sk-item\"><div class=\"sk-estimator sk-toggleable\"><input class=\"sk-toggleable__control sk-hidden--visually\" id=\"sk-estimator-id-14\" type=\"checkbox\" ><label for=\"sk-estimator-id-14\" class=\"sk-toggleable__label sk-toggleable__label-arrow\">passthrough</label><div class=\"sk-toggleable__content\"><pre>passthrough</pre></div></div></div></div></div></div></div></div><div class=\"sk-item\"><div class=\"sk-estimator sk-toggleable\"><input class=\"sk-toggleable__control sk-hidden--visually\" id=\"sk-estimator-id-15\" type=\"checkbox\" ><label for=\"sk-estimator-id-15\" class=\"sk-toggleable__label sk-toggleable__label-arrow\">DecisionTreeRegressor</label><div class=\"sk-toggleable__content\"><pre>DecisionTreeRegressor(max_depth=7, random_state=0)</pre></div></div></div></div></div></div></div>"
      ],
      "text/plain": [
       "Pipeline(steps=[('columntransformer',\n",
       "                 ColumnTransformer(transformers=[('categorical',\n",
       "                                                  OrdinalEncoder(handle_unknown='use_encoded_value',\n",
       "                                                                 unknown_value=-1),\n",
       "                                                  ['MSZoning', 'Street',\n",
       "                                                   'Alley', 'LotShape',\n",
       "                                                   'LandContour', 'Utilities',\n",
       "                                                   'LotConfig', 'LandSlope',\n",
       "                                                   'Neighborhood', 'Condition1',\n",
       "                                                   'Condition2', 'BldgType',\n",
       "                                                   'HouseStyle', 'RoofStyle',\n",
       "                                                   'RoofMatl', 'Exterior1st',\n",
       "                                                   'Exter...\n",
       "                                                   'MasVnrArea', 'BsmtFinSF1',\n",
       "                                                   'BsmtFinSF2', 'BsmtUnfSF',\n",
       "                                                   'TotalBsmtSF', '1stFlrSF',\n",
       "                                                   '2ndFlrSF', 'LowQualFinSF',\n",
       "                                                   'GrLivArea', 'BedroomAbvGr',\n",
       "                                                   'KitchenAbvGr',\n",
       "                                                   'TotRmsAbvGrd', 'Fireplaces',\n",
       "                                                   'GarageCars', 'GarageArea',\n",
       "                                                   'WoodDeckSF', 'OpenPorchSF',\n",
       "                                                   'EnclosedPorch', '3SsnPorch',\n",
       "                                                   'ScreenPorch', 'PoolArea',\n",
       "                                                   'MiscVal'])])),\n",
       "                ('decisiontreeregressor',\n",
       "                 DecisionTreeRegressor(max_depth=7, random_state=0))])"
      ]
     },
     "execution_count": 13,
     "metadata": {},
     "output_type": "execute_result"
    }
   ],
   "source": [
    "tree_model_catnum = make_pipeline(preprocessor, DecisionTreeRegressor(max_depth=7, random_state=0))\n",
    "tree_model_catnum"
   ]
  },
  {
   "cell_type": "markdown",
   "metadata": {},
   "source": [
    "### Comparing Linear and Tree Models"
   ]
  },
  {
   "cell_type": "code",
   "execution_count": 14,
   "metadata": {},
   "outputs": [],
   "source": [
    "LMCN_test_scores = cross_val_score(linear_model_catnum, data, target, cv=10)\n",
    "TreeCN_test_scores = cross_val_score(tree_model_catnum, data, target, cv=10)"
   ]
  },
  {
   "cell_type": "code",
   "execution_count": 15,
   "metadata": {},
   "outputs": [
    {
     "name": "stdout",
     "output_type": "stream",
     "text": [
      "[False False False False False False  True  True  True False]\n",
      "The tree model with categorical features is better than linear regression for 3 CV iterations out of 10 folds.\n"
     ]
    }
   ],
   "source": [
    "print(TreeCN_test_scores > LMCN_test_scores)\n",
    "print(\n",
    "    \"The tree model with categorical features is better than linear regression for \"\n",
    "    f\"{sum(TreeCN_test_scores > LMCN_test_scores)} CV \"\n",
    "    \"iterations out of 10 folds.\"\n",
    ")"
   ]
  },
  {
   "cell_type": "markdown",
   "metadata": {},
   "source": [
    "### Comparing Current and Previous Tree Models\n",
    "\n",
    "Comparing the tree model with categorical features, with the tree model from  GridSearchCV,"
   ]
  },
  {
   "cell_type": "code",
   "execution_count": 19,
   "metadata": {
    "scrolled": true
   },
   "outputs": [
    {
     "name": "stdout",
     "output_type": "stream",
     "text": [
      "[ True False  True  True  True  True  True  True  True  True]\n",
      "The current tree model is better than the previous (GridSearchCV) tree model for\n",
      "9 CV iterations out of 10 folds.\n"
     ]
    }
   ],
   "source": [
    "print(TreeCN_test_scores > cv_results['test_score'])\n",
    "print(\n",
    "    \"The current tree model is better than the previous (GridSearchCV) tree model for\\n\"\n",
    "    f\"{sum(TreeCN_test_scores > cv_results['test_score'])} CV \"\n",
    "    \"iterations out of 10 folds.\"\n",
    ")"
   ]
  },
  {
   "cell_type": "markdown",
   "metadata": {},
   "source": [
    "Changing the random state to 1"
   ]
  },
  {
   "cell_type": "code",
   "execution_count": 20,
   "metadata": {},
   "outputs": [
    {
     "name": "stdout",
     "output_type": "stream",
     "text": [
      "[ True False  True  True  True  True  True  True  True  True]\n",
      "The current tree model is better than the previous (GridSearchCV) tree model for\n",
      "9 CV iterations out of 10 folds.\n"
     ]
    }
   ],
   "source": [
    "tree_model_catnum.set_params(decisiontreeregressor__random_state=1)\n",
    "\n",
    "TreeCN_test_scores = cross_val_score(tree_model_catnum, data, target, cv=10)\n",
    "\n",
    "print(TreeCN_test_scores > cv_results['test_score'])\n",
    "print(\n",
    "    \"The current tree model is better than the previous (GridSearchCV) tree model for\\n\"\n",
    "    f\"{sum(TreeCN_test_scores > cv_results['test_score'])} CV \"\n",
    "    \"iterations out of 10 folds.\"\n",
    ")"
   ]
  },
  {
   "cell_type": "markdown",
   "metadata": {},
   "source": [
    "Changing the random state to 42"
   ]
  },
  {
   "cell_type": "code",
   "execution_count": 21,
   "metadata": {},
   "outputs": [
    {
     "name": "stdout",
     "output_type": "stream",
     "text": [
      "[ True False  True  True False  True  True  True  True  True]\n",
      "The current tree model is better than the previous (GridSearchCV) tree model for\n",
      "8 CV iterations out of 10 folds.\n"
     ]
    }
   ],
   "source": [
    "tree_model_catnum.set_params(decisiontreeregressor__random_state=42)\n",
    "\n",
    "TreeCN_test_scores = cross_val_score(tree_model_catnum, data, target, cv=10)\n",
    "\n",
    "print(TreeCN_test_scores > cv_results['test_score'])\n",
    "print(\n",
    "    \"The current tree model is better than the previous (GridSearchCV) tree model for\\n\"\n",
    "    f\"{sum(TreeCN_test_scores > cv_results['test_score'])} CV \"\n",
    "    \"iterations out of 10 folds.\"\n",
    ")"
   ]
  },
  {
   "cell_type": "markdown",
   "metadata": {},
   "source": [
    "The decision tree performs better when categorical data is added regardless of the random state."
   ]
  },
  {
   "cell_type": "markdown",
   "metadata": {},
   "source": [
    "### Plotting Both Scores"
   ]
  },
  {
   "cell_type": "code",
   "execution_count": 23,
   "metadata": {},
   "outputs": [
    {
     "data": {
      "image/png": "[encoded data removed]",
      "text/plain": [
       "<Figure size 640x480 with 1 Axes>"
      ]
     },
     "metadata": {},
     "output_type": "display_data"
    }
   ],
   "source": [
    "import matplotlib.pyplot as plt\n",
    "\n",
    "indices = np.arange(len(TreeCN_test_scores))\n",
    "\n",
    "plt.scatter(indices, cv_results['test_score'], color=\"tab:blue\", label=\"numerical features only\")\n",
    "\n",
    "plt.scatter(indices, TreeCN_test_scores, color=\"tab:red\", label=\"all features\")\n",
    "\n",
    "plt.ylim((0, 1))\n",
    "plt.xlabel(\"Cross-validation Fold\")\n",
    "plt.ylabel(\"R2 score\")\n",
    "_ = plt.legend(loc=\"lower right\")"
   ]
  }
 ],
 "metadata": {
  "kernelspec": {
   "display_name": "Python 3 (ipykernel)",
   "language": "python",
   "name": "python3"
  },
  "language_info": {
   "codemirror_mode": {
    "name": "ipython",
    "version": 3
   },
   "file_extension": ".py",
   "mimetype": "text/x-python",
   "name": "python",
   "nbconvert_exporter": "python",
   "pygments_lexer": "ipython3",
   "version": "3.11.4"
  }
 },
 "nbformat": 4,
 "nbformat_minor": 4
}
